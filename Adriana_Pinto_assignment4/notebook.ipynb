{
 "cells": [
  {
   "cell_type": "markdown",
   "metadata": {
    "id": "iFXsrSxJlzCW"
   },
   "source": [
    "# Introduction\n",
    "\n",
    ".....\n"
   ]
  },
  {
   "cell_type": "markdown",
   "metadata": {},
   "source": [
    "Check to see if jupyter lab uses the correct python interpreter with '!which python'.\n",
    "It should be something like '/opt/anaconda3/envs/[environment name]/bin/python' (on Mac).\n",
    "If not, try this: https://github.com/jupyter/notebook/issues/3146#issuecomment-352718675"
   ]
  },
  {
   "cell_type": "code",
   "execution_count": 1,
   "metadata": {},
   "outputs": [
    {
     "name": "stdout",
     "output_type": "stream",
     "text": [
      "/home/adripinto/.local/share/virtualenvs/social-media-analysis-B4dJjkUW/bin/python\n"
     ]
    }
   ],
   "source": [
    "!which python"
   ]
  },
  {
   "cell_type": "markdown",
   "metadata": {},
   "source": [
    "# Install dependencies:"
   ]
  },
  {
   "cell_type": "code",
   "execution_count": 2,
   "metadata": {
    "colab": {
     "base_uri": "https://localhost:8080/"
    },
    "id": "H0q7BTlbiCWW",
    "outputId": "32ddd123-4834-4913-f942-038e830d9276"
   },
   "outputs": [],
   "source": [
    "# install_packages = True\n",
    "# if install_packages:\n",
    "#     !conda install tensorflow=2 -y\n",
    "#     !conda install -c anaconda pandas -y\n",
    "#     !conda install -c conda-forge tensorflow-hub -y\n",
    "#     !conda install -c akode html2text -y\n",
    "#     !conda install -c conda-forge tqdm -y\n",
    "#     !conda install -c anaconda scikit-learn -y\n",
    "#     !conda install -c conda-forge matplotlib -y\n",
    "#     !conda install -c anaconda seaborn -y"
   ]
  },
  {
   "cell_type": "markdown",
   "metadata": {},
   "source": [
    "# Imports"
   ]
  },
  {
   "cell_type": "code",
   "execution_count": 3,
   "metadata": {
    "id": "xD4HKjy9TC-g"
   },
   "outputs": [],
   "source": [
    "#imports\n",
    "import pandas as pd\n",
    "import numpy as np\n",
    "import os\n",
    "import time\n",
    "import tensorflow as tf\n",
    "import tensorflow_hub as hub\n",
    "import zipfile\n",
    "from html2text import HTML2Text\n",
    "from tqdm import tqdm\n",
    "import re\n",
    "from sklearn.metrics import pairwise_distances\n",
    "from sklearn.preprocessing import normalize\n",
    "import matplotlib.pyplot as plt\n",
    "import seaborn as sns"
   ]
  },
  {
   "cell_type": "markdown",
   "metadata": {},
   "source": [
    "# Set pandas print options\n",
    "This will improve readability of printed pandas dataframe.\n"
   ]
  },
  {
   "cell_type": "code",
   "execution_count": 4,
   "metadata": {
    "id": "SEH28FctS6SP"
   },
   "outputs": [],
   "source": [
    "pd.set_option('display.max_rows', None)\n",
    "pd.set_option('display.max_columns', None)\n",
    "pd.set_option('display.width', None)\n",
    "pd.set_option('display.max_colwidth', None)"
   ]
  },
  {
   "cell_type": "markdown",
   "metadata": {},
   "source": [
    "## Set global Parameters\n",
    "Set your parameters here:\n",
    "\n",
    "data_path: In this path put the data you have downloaded with YouTube Data Tools. \n",
    "output_path: Tghe files generated in this notebook will be saved here.\n",
    "\n",
    "url_dict: URLs to models on Tensorflow hub are saved here. Other models are available there.\n",
    "model_type: Define which model you would like to use. Choose one from url_dict\n",
    "\n",
    "new_embeddings: If this is true, new embeddings will be generated and saved at output_path. Otherwise, embeddings are loaded from Disc.\n",
    "\n",
    "\n"
   ]
  },
  {
   "cell_type": "code",
   "execution_count": 5,
   "metadata": {
    "id": "TL7Rvq_TD086"
   },
   "outputs": [],
   "source": [
    "data_path = './data/videoinfo_rcHCretMIZU_2020_11_30-16_16_17_comments.tab'\n",
    "output_path = \"./output/\"\n",
    "\n",
    "new_embeddings = True\n",
    "\n",
    "url_dict = {\n",
    "            'Transformer' : \"https://tfhub.dev/google/universal-sentence-encoder-large/5\",\n",
    "            'DAN' : \"https://tfhub.dev/google/universal-sentence-encoder/4\",\n",
    "            'Transformer_Multilingual': \"https://tfhub.dev/google/universal-sentence-encoder-multilingual-large/3\"\n",
    "}\n",
    "\n",
    "model_type = 'Transformer' #@param ['DAN','Transformer','Transformer_Multilingual']"
   ]
  },
  {
   "cell_type": "markdown",
   "metadata": {},
   "source": [
    "## Create output directory\n",
    "Try to create the directory defined by output_path"
   ]
  },
  {
   "cell_type": "code",
   "execution_count": 6,
   "metadata": {
    "colab": {
     "base_uri": "https://localhost:8080/"
    },
    "id": "NuvhsxjlZFhu",
    "outputId": "436a89b3-9ae8-4f74-f236-4a3f55b64d6d"
   },
   "outputs": [
    {
     "name": "stdout",
     "output_type": "stream",
     "text": [
      "Successfully created the directory ./output/ \n"
     ]
    }
   ],
   "source": [
    "try:\n",
    "   os.mkdir(output_path)\n",
    "except OSError:\n",
    "  print (\"Creation of the directory %s failed\" % output_path)\n",
    "else:\n",
    "  print (\"Successfully created the directory %s \" % output_path)\n"
   ]
  },
  {
   "cell_type": "markdown",
   "metadata": {
    "id": "VO9QOLP_9DxJ"
   },
   "source": [
    "# Load Data\n",
    "Load you data as a pandas dataframe"
   ]
  },
  {
   "cell_type": "code",
   "execution_count": 7,
   "metadata": {},
   "outputs": [],
   "source": [
    "if new_embeddings:\n",
    "    data = pd.read_csv(data_path,sep='\\t',header=(0))\n",
    "    data.head()"
   ]
  },
  {
   "cell_type": "markdown",
   "metadata": {
    "id": "_IUWISh1M5nz"
   },
   "source": [
    "# Preprocessing\n",
    "Preprocess your data:\n",
    "- Drop empty rows\n",
    "- Drop unused columns"
   ]
  },
  {
   "cell_type": "code",
   "execution_count": 8,
   "metadata": {
    "id": "gbU3mk83MBIH"
   },
   "outputs": [],
   "source": [
    "if new_embeddings:\n",
    "    data = data.dropna(subset=['text', 'authorName']) # drop rows with no content\n",
    "    data=data.drop(['id', 'replyCount','likeCount','authorChannelUrl','authorChannelId','isReplyTo','isReplyToName'],axis=1) # drop unused columns\n",
    "    data.head()"
   ]
  },
  {
   "cell_type": "markdown",
   "metadata": {},
   "source": [
    "- remove HTML-tags, links and usernames"
   ]
  },
  {
   "cell_type": "code",
   "execution_count": 9,
   "metadata": {
    "id": "vIgxEvzcM39J"
   },
   "outputs": [
    {
     "name": "stderr",
     "output_type": "stream",
     "text": [
      "/home/adripinto/.local/share/virtualenvs/social-media-analysis-B4dJjkUW/lib/python3.8/site-packages/tqdm/std.py:699: FutureWarning: The Panel class is removed from pandas. Accessing it from the top-level namespace will also be removed in the next version\n",
      "  from pandas import Panel\n",
      "100%|██████████| 146/146 [00:00<00:00, 2840.11it/s]"
     ]
    },
    {
     "name": "stdout",
     "output_type": "stream",
     "text": [
      "Removed HTML Tags.\n",
      "Removed Links.\n",
      "Removed user names.\n"
     ]
    },
    {
     "name": "stderr",
     "output_type": "stream",
     "text": [
      "\n"
     ]
    }
   ],
   "source": [
    "if new_embeddings:\n",
    "    # Remove HTML tags\n",
    "    tqdm.pandas()\n",
    "    h = HTML2Text()\n",
    "    h.ignore_links = True\n",
    "    data['cleaned'] = data['text'].progress_apply(lambda x: h.handle(x))\n",
    "    print( \"Removed HTML Tags.\")\n",
    "\n",
    "    # Remove links\n",
    "    http_link_pattern = r'http\\S+'\n",
    "    bitly_link_pattern = r'bit.ly/\\S+'\n",
    "    data['cleaned'] = data['cleaned'].str.replace(http_link_pattern, '')\n",
    "    data['cleaned'] = data['cleaned'].str.replace(bitly_link_pattern, '')\n",
    "    print( \"Removed Links.\")\n",
    "\n",
    "    # Remove user names\n",
    "    keep_names = [\"earth\", \"Tide\", \"Geologist\", \"A Person\", \"Titanic\", \"adventure\", \"Sun\", \"The United States Of America\"] # user names we want to keep\n",
    "    user_names = [name for name in data['authorName'].unique() if (len(name)> 3 and name not in keep_names)]\n",
    "    data['cleaned'] = data['cleaned'].str.replace('|'.join(map(re.escape, user_names)), '')\n",
    "    print( \"Removed user names.\")"
   ]
  },
  {
   "cell_type": "markdown",
   "metadata": {},
   "source": [
    "# Save or Load preprocessed data\n",
    "\n",
    "Save your data afte preprocessing, or load preprocessed data from disc."
   ]
  },
  {
   "cell_type": "code",
   "execution_count": 10,
   "metadata": {
    "colab": {
     "base_uri": "https://localhost:8080/"
    },
    "id": "W0uP3D5IXvyT",
    "outputId": "ce705b12-d180-438e-8bb7-86a5dfffbdcf"
   },
   "outputs": [
    {
     "data": {
      "text/html": [
       "<div>\n",
       "<style scoped>\n",
       "    .dataframe tbody tr th:only-of-type {\n",
       "        vertical-align: middle;\n",
       "    }\n",
       "\n",
       "    .dataframe tbody tr th {\n",
       "        vertical-align: top;\n",
       "    }\n",
       "\n",
       "    .dataframe thead th {\n",
       "        text-align: right;\n",
       "    }\n",
       "</style>\n",
       "<table border=\"1\" class=\"dataframe\">\n",
       "  <thead>\n",
       "    <tr style=\"text-align: right;\">\n",
       "      <th></th>\n",
       "      <th>publishedAt</th>\n",
       "      <th>authorName</th>\n",
       "      <th>text</th>\n",
       "      <th>isReply</th>\n",
       "      <th>cleaned</th>\n",
       "    </tr>\n",
       "  </thead>\n",
       "  <tbody>\n",
       "    <tr>\n",
       "      <th>0</th>\n",
       "      <td>2020-06-16 23:39:58</td>\n",
       "      <td>Petjo Bedet</td>\n",
       "      <td>Such a gifted child, and English is her second language!</td>\n",
       "      <td>0</td>\n",
       "      <td>Such a gifted child, and English is her second language!\\n\\n</td>\n",
       "    </tr>\n",
       "    <tr>\n",
       "      <th>1</th>\n",
       "      <td>2020-06-14 08:42:59</td>\n",
       "      <td>John- 117</td>\n",
       "      <td>Why is it that the internet tends to label Naomi or title her as the &amp;quot;Anti-Greta-Thunberg&amp;quot;? What has she done or said that would cause her to deserve such title? What has she done against Greta Thunberg? NOTHING!!!&lt;br /&gt;Naomi does not deserve such slanderous title. She is not against Greta Thunberg.</td>\n",
       "      <td>0</td>\n",
       "      <td>Why is it that the internet tends to label Naomi or title her as the \"Anti-\\nGreta-Thunberg\"? What has she done or said that would cause her to deserve\\nsuch title? What has she done against Greta Thunberg? NOTHING!!!  \\nNaomi does not deserve such slanderous title. She is not against Greta\\nThunberg.\\n\\n</td>\n",
       "    </tr>\n",
       "    <tr>\n",
       "      <th>2</th>\n",
       "      <td>2020-06-08 16:44:20</td>\n",
       "      <td>Scott Wesley</td>\n",
       "      <td>Naomi!!!!!! Wonderful stuff.</td>\n",
       "      <td>0</td>\n",
       "      <td>Naomi!!!!!! Wonderful stuff.\\n\\n</td>\n",
       "    </tr>\n",
       "    <tr>\n",
       "      <th>3</th>\n",
       "      <td>2020-06-05 16:06:06</td>\n",
       "      <td>Jan Klaus Pol</td>\n",
       "      <td>A really intelligent girl. My respect.</td>\n",
       "      <td>0</td>\n",
       "      <td>A really intelligent girl. My respect.\\n\\n</td>\n",
       "    </tr>\n",
       "    <tr>\n",
       "      <th>4</th>\n",
       "      <td>2020-05-26 08:14:14</td>\n",
       "      <td>Giles Mitchell</td>\n",
       "      <td>This is daft. Greta has repeatedly stated that she wants people to listen to the science on the realities of climate change. Sorry but this is a classic strawman argument - you raise a false idea as fact about your opponent and then proceed to tear it down. She and the climate protesters aren’t saying listen to their private findings instead of what the scientific community say - they are EXACTLY urging people to look at the science. Naomi’s alternative right wing “version” on climate change denial masquerading as sensible reasoning is not aligned to the consensus among the scientific community. Naomi sorry but your personal interpretations don’t override what the scientific community are telling us and if you want people to ignore them and listen to you - isn’t that exactly what you accused Greta and her hysterical fans from doing ? If you have alternative evidence then point to your sources so they can be examined.</td>\n",
       "      <td>0</td>\n",
       "      <td>This is daft. Greta has repeatedly stated that she wants people to listen to\\nthe science on the realities of climate change. Sorry but this is a classic\\nstrawman argument - you raise a false idea as fact about your opponent and\\nthen proceed to tear it down. She and the climate protesters aren’t saying\\nlisten to their private findings instead of what the scientific community say\\n- they are EXACTLY urging people to look at the science. Naomi’s alternative\\nright wing “version” on climate change denial masquerading as sensible\\nreasoning is not aligned to the consensus among the scientific community.\\nNaomi sorry but your personal interpretations don’t override what the\\nscientific community are telling us and if you want people to ignore them and\\nlisten to you - isn’t that exactly what you accused Greta and her hysterical\\nfans from doing ? If you have alternative evidence then point to your sources\\nso they can be examined.\\n\\n</td>\n",
       "    </tr>\n",
       "  </tbody>\n",
       "</table>\n",
       "</div>"
      ],
      "text/plain": [
       "           publishedAt      authorName  \\\n",
       "0  2020-06-16 23:39:58     Petjo Bedet   \n",
       "1  2020-06-14 08:42:59       John- 117   \n",
       "2  2020-06-08 16:44:20    Scott Wesley   \n",
       "3  2020-06-05 16:06:06   Jan Klaus Pol   \n",
       "4  2020-05-26 08:14:14  Giles Mitchell   \n",
       "\n",
       "                                                                                                                                                                                                                                                                                                                                                                                                                                                                                                                                                                                                                                                                                                                                                                                                                                                                                                                                                                 text  \\\n",
       "0                                                                                                                                                                                                                                                                                                                                                                                                                                                                                                                                                                                                                                                                                                                                                                                                                                                                                                            Such a gifted child, and English is her second language!   \n",
       "1                                                                                                                                                                                                                                                                                                                                                                                                                                                                                                                                                                                                                                              Why is it that the internet tends to label Naomi or title her as the &quot;Anti-Greta-Thunberg&quot;? What has she done or said that would cause her to deserve such title? What has she done against Greta Thunberg? NOTHING!!!<br />Naomi does not deserve such slanderous title. She is not against Greta Thunberg.   \n",
       "2                                                                                                                                                                                                                                                                                                                                                                                                                                                                                                                                                                                                                                                                                                                                                                                                                                                                                                                                        Naomi!!!!!! Wonderful stuff.   \n",
       "3                                                                                                                                                                                                                                                                                                                                                                                                                                                                                                                                                                                                                                                                                                                                                                                                                                                                                                                              A really intelligent girl. My respect.   \n",
       "4  This is daft. Greta has repeatedly stated that she wants people to listen to the science on the realities of climate change. Sorry but this is a classic strawman argument - you raise a false idea as fact about your opponent and then proceed to tear it down. She and the climate protesters aren’t saying listen to their private findings instead of what the scientific community say - they are EXACTLY urging people to look at the science. Naomi’s alternative right wing “version” on climate change denial masquerading as sensible reasoning is not aligned to the consensus among the scientific community. Naomi sorry but your personal interpretations don’t override what the scientific community are telling us and if you want people to ignore them and listen to you - isn’t that exactly what you accused Greta and her hysterical fans from doing ? If you have alternative evidence then point to your sources so they can be examined.   \n",
       "\n",
       "   isReply  \\\n",
       "0        0   \n",
       "1        0   \n",
       "2        0   \n",
       "3        0   \n",
       "4        0   \n",
       "\n",
       "                                                                                                                                                                                                                                                                                                                                                                                                                                                                                                                                                                                                                                                                                                                                                                                                                                                                                                                                                                              cleaned  \n",
       "0                                                                                                                                                                                                                                                                                                                                                                                                                                                                                                                                                                                                                                                                                                                                                                                                                                                                                                                        Such a gifted child, and English is her second language!\\n\\n  \n",
       "1                                                                                                                                                                                                                                                                                                                                                                                                                                                                                                                                                                                                                                                                  Why is it that the internet tends to label Naomi or title her as the \"Anti-\\nGreta-Thunberg\"? What has she done or said that would cause her to deserve\\nsuch title? What has she done against Greta Thunberg? NOTHING!!!  \\nNaomi does not deserve such slanderous title. She is not against Greta\\nThunberg.\\n\\n  \n",
       "2                                                                                                                                                                                                                                                                                                                                                                                                                                                                                                                                                                                                                                                                                                                                                                                                                                                                                                                                                    Naomi!!!!!! Wonderful stuff.\\n\\n  \n",
       "3                                                                                                                                                                                                                                                                                                                                                                                                                                                                                                                                                                                                                                                                                                                                                                                                                                                                                                                                          A really intelligent girl. My respect.\\n\\n  \n",
       "4  This is daft. Greta has repeatedly stated that she wants people to listen to\\nthe science on the realities of climate change. Sorry but this is a classic\\nstrawman argument - you raise a false idea as fact about your opponent and\\nthen proceed to tear it down. She and the climate protesters aren’t saying\\nlisten to their private findings instead of what the scientific community say\\n- they are EXACTLY urging people to look at the science. Naomi’s alternative\\nright wing “version” on climate change denial masquerading as sensible\\nreasoning is not aligned to the consensus among the scientific community.\\nNaomi sorry but your personal interpretations don’t override what the\\nscientific community are telling us and if you want people to ignore them and\\nlisten to you - isn’t that exactly what you accused Greta and her hysterical\\nfans from doing ? If you have alternative evidence then point to your sources\\nso they can be examined.\\n\\n  "
      ]
     },
     "execution_count": 10,
     "metadata": {},
     "output_type": "execute_result"
    }
   ],
   "source": [
    "if new_embeddings:\n",
    "  data.to_pickle(output_path+'data_preprocessed'+'.pkl')\n",
    "else:\n",
    "  data = pd.read_pickle(output_path+'data_preprocessed'+'.pkl')\n",
    "data.head()"
   ]
  },
  {
   "cell_type": "markdown",
   "metadata": {
    "id": "5YxXP5PtAFyV"
   },
   "source": [
    "# Produce Text Embeddings with Universal Sentence Encoder"
   ]
  },
  {
   "cell_type": "markdown",
   "metadata": {
    "id": "d_sStH0bXhFD"
   },
   "source": [
    "## Load Model\n",
    "Load the model from TF-hub"
   ]
  },
  {
   "cell_type": "code",
   "execution_count": 11,
   "metadata": {
    "id": "ugb89Xy7XdqR"
   },
   "outputs": [
    {
     "name": "stdout",
     "output_type": "stream",
     "text": [
      "Loading model. This will take some time...\n"
     ]
    }
   ],
   "source": [
    "hub_url = url_dict[model_type]\n",
    "if new_embeddings:\n",
    "  print(\"Loading model. This will take some time...\")\n",
    "  embed = hub.load(hub_url)"
   ]
  },
  {
   "cell_type": "markdown",
   "metadata": {},
   "source": [
    "## Embed Documents\n",
    "Produce embeddings of your documents."
   ]
  },
  {
   "cell_type": "code",
   "execution_count": 12,
   "metadata": {
    "id": "Yz3Qlca7YGEN"
   },
   "outputs": [
    {
     "name": "stdout",
     "output_type": "stream",
     "text": [
      "The embeddings vector is of fixed length 512\n"
     ]
    },
    {
     "data": {
      "text/plain": [
       "TensorShape([146, 512])"
      ]
     },
     "execution_count": 12,
     "metadata": {},
     "output_type": "execute_result"
    }
   ],
   "source": [
    "if new_embeddings:\n",
    "    for k,g in data.groupby(np.arange(len(data))//200):\n",
    "        if k == 0:\n",
    "            embeddings = embed(g['cleaned'])\n",
    "        else:\n",
    "            embeddings_new = embed(g['cleaned'])\n",
    "            embeddings = tf.concat(values=[embeddings,embeddings_new],axis = 0)\n",
    "            print(k , end =\" \")\n",
    "    print(\"The embeddings vector is of fixed length {}\".format(embeddings.shape[1]))\n",
    "\n",
    "    np.save(output_path+'/embeddings'+model_type+'.npy', embeddings, allow_pickle=True, fix_imports=True)\n",
    "else:\n",
    "    embeddings = np.load(output_path+'/embeddings'+model_type+'.npy', mmap_mode=None, allow_pickle=False, fix_imports=True, encoding='ASCII')\n",
    "\n",
    "embeddings.shape"
   ]
  },
  {
   "cell_type": "markdown",
   "metadata": {
    "id": "oFTi_5lUAnJF"
   },
   "source": [
    "## Calculate Similarity Matrix with angular distance\n",
    "\n",
    "'Following Cer et al. (2018), we first compute\n",
    "the sentence embeddings u, v for an STS sentence\n",
    "pair, and then score the sentence pair similarity\n",
    "based on the angular distance between the two\n",
    "embedding vectors  d = − arccos (uv/||u|| ||v||\u0011).'"
   ]
  },
  {
   "cell_type": "code",
   "execution_count": 13,
   "metadata": {},
   "outputs": [
    {
     "name": "stdout",
     "output_type": "stream",
     "text": [
      "[[1.         0.10519156 0.18776809 ... 0.00436522 0.06874406 0.1673601 ]\n",
      " [0.10519156 1.0000002  0.4805107  ... 0.11099114 0.26576853 0.21884125]\n",
      " [0.18776809 0.4805107  0.99999994 ... 0.02403464 0.3100128  0.11051565]\n",
      " ...\n",
      " [0.00436522 0.11099114 0.02403464 ... 1.0000001  0.11144111 0.0366616 ]\n",
      " [0.06874406 0.26576853 0.3100128  ... 0.11144111 0.9999999  0.03935729]\n",
      " [0.1673601  0.21884125 0.11051565 ... 0.0366616  0.03935729 1.0000001 ]]\n"
     ]
    }
   ],
   "source": [
    "from sklearn.metrics.pairwise import cosine_similarity\n",
    "def cos_sim(input_vectors):\n",
    "    similarity = cosine_similarity(input_vectors)\n",
    "    return similarity\n",
    "cosine_similarity_matrix = cos_sim(np.array(embeddings))\n",
    "print(cosine_similarity_matrix)"
   ]
  },
  {
   "cell_type": "markdown",
   "metadata": {},
   "source": [
    "# Plots Similarity \n",
    "Plot and print a heat map showing the semantic contextual similarity between comments."
   ]
  },
  {
   "cell_type": "code",
   "execution_count": 14,
   "metadata": {},
   "outputs": [
    {
     "name": "stderr",
     "output_type": "stream",
     "text": [
      "/home/adripinto/.local/share/virtualenvs/social-media-analysis-B4dJjkUW/lib/python3.8/site-packages/seaborn/matrix.py:311: UserWarning: Attempting to set identical left == right == 0 results in singular transformations; automatically expanding.\n",
      "  ax.set(xlim=(0, self.data.shape[1]), ylim=(0, self.data.shape[0]))\n",
      "/home/adripinto/.local/share/virtualenvs/social-media-analysis-B4dJjkUW/lib/python3.8/site-packages/seaborn/matrix.py:311: UserWarning: Attempting to set identical bottom == top == 0 results in singular transformations; automatically expanding.\n",
      "  ax.set(xlim=(0, self.data.shape[1]), ylim=(0, self.data.shape[0]))\n"
     ]
    },
    {
     "data": {
      "image/png": "[encoded data removed]",
      "text/plain": [
       "<Figure size 432x288 with 2 Axes>"
      ]
     },
     "metadata": {},
     "output_type": "display_data"
    }
   ],
   "source": [
    "import seaborn as sns\n",
    "def plot_similarity(labels, features, rotation):\n",
    "  corr = np.inner(features, features)\n",
    "  sns.set(font_scale=1.2)\n",
    "  g = sns.heatmap(\n",
    "      corr,\n",
    "      xticklabels=labels,\n",
    "      yticklabels=labels,\n",
    "      vmin=0,\n",
    "      vmax=1,\n",
    "      cmap=\"YlOrRd\")\n",
    "  g.set_xticklabels(labels, rotation=rotation)\n",
    "  g.set_title(\"Semantic Textual Similarity\")\n",
    "\n",
    "num_samples = 5\n",
    "off_set = 10000\n",
    "\n",
    "plot_similarity(data.iloc[off_set:off_set+num_samples]['cleaned'], embeddings[off_set:off_set+num_samples], 90)"
   ]
  },
  {
   "cell_type": "markdown",
   "metadata": {},
   "source": [
    "# Show neighbours of a comment \n",
    "Define which comment to analyze"
   ]
  },
  {
   "cell_type": "code",
   "execution_count": 15,
   "metadata": {},
   "outputs": [
    {
     "name": "stdout",
     "output_type": "stream",
     "text": [
      "AHHHahaha! What a disaster for the bankrupt Heartland Institute. Naomi's mom\n",
      "Karoline is an attorney who works with Alternative für Deutschland, Germany's\n",
      "far-right nationalist party with ties to neo-Nazis. Ms. Seibt's American\n",
      "rightwing debut, at a CPAC sideshow promoting Our Bright Coal-Choked Future,\n",
      "was marred by the news that she has her own far-right baggage. Seibt took part\n",
      "in a YouTube discussion following a deadly attack on a synagogue in October,\n",
      "in which she had some thoughts about how Jews get way too much sympathy in\n",
      "Germany. She also explained she's a great big fan of Canadian wingnut race-\n",
      "baiter and manosphere hero Stephan Molyneux, whom she considers an\n",
      "\"inspiration.\" So all in all, not a good roll-out for the Anti-Greta.\n",
      "\n",
      "\n"
     ]
    }
   ],
   "source": [
    "comment_index = 13\n",
    "comment = data[\"cleaned\"][comment_index]\n",
    "comment_list = data[\"cleaned\"].tolist()\n",
    "print(comment)"
   ]
  },
  {
   "cell_type": "markdown",
   "metadata": {},
   "source": [
    "Print similar comments."
   ]
  },
  {
   "cell_type": "code",
   "execution_count": 16,
   "metadata": {},
   "outputs": [
    {
     "name": "stdout",
     "output_type": "stream",
     "text": [
      "Top similar comment 1: AHHHahaha! What a disaster for the bankrupt Heartland Institute. Naomi's mom\n",
      "Karoline is an attorney who works with Alternative für Deutschland, Germany's\n",
      "far-right nationalist party with ties to neo-Nazis. Ms. Seibt's American\n",
      "rightwing debut, at a CPAC sideshow promoting Our Bright Coal-Choked Future,\n",
      "was marred by the news that she has her own far-right baggage. Seibt took part\n",
      "in a YouTube discussion following a deadly attack on a synagogue in October,\n",
      "in which she had some thoughts about how Jews get way too much sympathy in\n",
      "Germany. She also explained she's a great big fan of Canadian wingnut race-\n",
      "baiter and manosphere hero Stephan Molyneux, whom she considers an\n",
      "\"inspiration.\" So all in all, not a good roll-out for the Anti-Greta.\n",
      "\n",
      "\n",
      "Top similar comment 2: AHHHahaha! What a disaster for the bankrupt Heartland Institute. Naomi's mom\n",
      "Karoline is an attorney who works with Alternative für Deutschland, Germany's\n",
      "far-right nationalist party with ties to neo-Nazis. Ms. Seibt's American\n",
      "rightwing debut, at a CPAC sideshow promoting Our Bright Coal-Choked Future,\n",
      "was marred by the news that she has her own far-right baggage. Seibt took part\n",
      "in a YouTube discussion following a deadly attack on a synagogue in October,\n",
      "in which she had some thoughts about how Jews get way too much sympathy in\n",
      "Germany. She also explained she's a great big fan of Canadian wingnut race-\n",
      "baiter and manosphere hero Stephan Molyneux, whom she considers an\n",
      "\"inspiration.\" So all in all, not a good roll-out for the Anti-Greta.\n",
      "\n",
      "\n",
      "Top similar comment 3: For correction: The AFD in Germany is a liberal-conservative party. It does\n",
      "not belong to the left mainstream. It is the only democratic republican party\n",
      "in Germany !! Just because you have a problem with conservatives, you're\n",
      "trying to put Naomi in the Nazi corner, it's ridiculous and pathetic.\n",
      "Greetings from Germany.\n",
      "\n",
      "\n",
      "Top similar comment 4: Look her up. She is employed by the Heartland institute. Both her and Greta\n",
      "Thunberg are just pawns in opposite extreme narratives that have no centre,\n",
      "objectivity or truth.\n",
      "\n",
      "\n",
      "Top similar comment 5:  **Naomi Seibt \"\"BRAZIL!!!!🇧🇷\"\"👨‍👩‍👧‍👧 LOVES YOU!!!** (Brazil liebt\n",
      "dich!!!)😍😘🙋🏼‍♀️🥰🤩💘💗💓💞💝💖💕💟💚💛🇧🇷👍😎👉👉💥👩‍🎤🧟😱🔥🌍🔥🥵💩🤦🏼‍♀️💁🏼‍♀️😏🌏🤫🙊🤥🙅🏼‍♀️🇩🇪Super\n",
      "Naomi+🌎🇺🇸🇧🇷🇮🇱🇬🇧🇦🇺🇵🇱🇹🇯 and More and More Nations with Naomi! And so on ... All\n",
      "Against The Most Diverse Theories and Ideologies Liars! of the Communist /\n",
      "Socialist Eco Liars Watermelons (green only on the outside! and \"\" reds! \"\" on\n",
      "the inside!) and all left-wing companies! Globalist! Liar! World! ... [{(Note:\n",
      "We Brazilians Speak Portuguese!)}] +++Likes!!! for Naomi!  \n",
      "  \n",
      "  \n",
      "In English!: (from Portuguese to English with Google Translate!)  \n",
      "Continuing ... And so on ... smart! and beautiful Naomi! ... more and more\n",
      "Nations from all over the world! Next to you Naomi! And Against The speeches\n",
      "without real! Essentials! Scientific! and Alarmist ideologies! Steric!\n",
      "Exaggerated! and Post-Apocalyptic preached! announced by Greta Thunberg! and\n",
      "his spoiled class at the Esoteric Environmentalists' Kindergarten! Shias! of\n",
      "Gaia! together with Anti-Pope Francis! Devotees !!! Explicit !!! from\n",
      "Pachamama! of the Goddess! of \"\" Mother of EARTH! \"\" And Mainly !!! and\n",
      "Especially !!!: Protectors! Guardians! Producers! And Cannabis Consumers!\n",
      "(Popularly known all over the world! also as: \"Marijuana!\" \"The place from\n",
      "which His main Ideas derive! And ideologies! Leftists! / Socialists! /\n",
      "Communists! and even !!!: Pro-Terrorists !!!).  \n",
      "  \n",
      "Auf Deutsch! (Portugiesisch nach Deutsch mit Google Translate!) Weiter ... Und\n",
      "so weiter ... klug! und schöne Naomi! ... immer mehr Nationen aus aller Welt!\n",
      "Neben dir Naomi! Und gegen die Reden ohne echt! Das Wesentliche!\n",
      "Wissenschaftlich! und alarmistische Ideologien! Sterisch! Übertrieben! und\n",
      "postapokalyptisch gepredigt! angekündigt von Greta Thunberg! und seine\n",
      "verwöhnte Klasse im Kindergarten der Esoterischen Umweltschützer! Schiiten!\n",
      "von Gaia! zusammen mit Anti-Papst Franziskus! Anhänger !!! Explizit !!! von\n",
      "Pachamama! der Göttin! von \"\" Mutter der ERDE! \"\" Und hauptsächlich !!! und\n",
      "vor allem !!!: Beschützer! Wächter! Produzenten! Und Cannabiskonsumenten!\n",
      "(Weltweit bekannt! Auch bekannt als: \"Marihuana!\" \"Der Ort, von dem seine\n",
      "Hauptideen stammen! Und Ideologien! Linke! / Sozialisten! / Kommunisten! Und\n",
      "sogar !!!: Pro-Terroristen !!!).\n",
      "\n",
      "\n",
      "Top similar comment 6: *Naomi Seibt \"\"BRAZIL!!!!🇧🇷\"\"👨‍👩‍👧‍👧 LOVES YOU!!!* (Brazil liebt dich!!!)😍😘🙋🏼‍♀️🥰🤩💘💗💓💞💝💖💕💟💚💛🇧🇷👍😎👉👉💥👩‍🎤🧟😱🔥🌍🔥🥵💩🤦🏼‍♀️💁🏼‍♀️😏🌏🤫🙊🤥🙅🏼‍♀️🇩🇪Super Naomi+🌎🇺🇸🇧🇷🇮🇱🇬🇧🇦🇺🇵🇱🇹🇯 and More and More Nations with Naomi! And so on ... All Against The Most Diverse Theories and Ideologies Liars! of the Communist / Socialist Eco Liars Watermelons 🍉 (green only on the outside! and \"\" reds! \"\" on the inside!) and all left-wing companies! Globalist! Liar! World! ... [{(Note: We Brazilians Speak Portuguese!)}] +++Likes!!! for 💡🙋🏼‍♀️🇩🇪Naomi!🌎💁🏼‍♀️💡📺👀👇😎👍😎 😎👉👉 In English!: (from Portuguese to English with Google Translate!) Continuing ... And so on ... smart! and beautiful Naomi! ... more and more Nations from all over the world! Next to you Naomi! And Against The speeches without real! Essentials! Scientific! and Alarmist ideologies! Steric! Exaggerated! and Post-Apocalyptic preached! announced by Greta Thunberg! and his spoiled class at the Esoteric Environmentalists' Kindergarten! Shias! of Gaia! together with Anti-Pope Francis! Devotees !!! Explicit !!! from Pachamama! of the Goddess! of \"\" Mother of EARTH! \"\" And Mainly !!! and Especially !!!: Protectors! Guardians! Producers! And Cannabis Consumers! (Popularly known all over the world! also as: \"Marijuana!\" \"The place from which His main Ideas derive! And ideologies! Leftists! / Socialists! / Communists! and even !!!: Pro-Terrorists !!!). Auf Deutsch! (Portugiesisch nach Deutsch mit Google Translate!) Weiter ... Und so weiter ... klug! und schöne Naomi! ... immer mehr Nationen aus aller Welt! Neben dir Naomi! Und gegen die Reden ohne echt! Das Wesentliche! Wissenschaftlich! und alarmistische Ideologien! Sterisch! Übertrieben! und postapokalyptisch gepredigt! angekündigt von Greta Thunberg! und seine verwöhnte Klasse im Kindergarten der Esoterischen Umweltschützer! Schiiten! von Gaia! zusammen mit Anti-Papst Franziskus! Anhänger !!! Explizit !!! von Pachamama! der Göttin! von \"\" Mutter der ERDE! \"\" Und hauptsächlich !!! und vor allem !!!: Beschützer! Wächter! Produzenten! Und Cannabiskonsumenten! (Weltweit bekannt! Auch bekannt als: \"Marihuana!\" \"Der Ort, von dem seine Hauptideen stammen! Und Ideologien! Linke! / Sozialisten! / Kommunisten! Und sogar !!!: Pro-Terroristen !!!).\n",
      "\n",
      "\n",
      "Top similar comment 7: She admittedly announced that she is no longer getting paid by the Heartland\n",
      "Institute and she relies soley on voluntary donations. She is not a puppet,\n",
      "she speaks her mind and she works independently. If she did not wanted to join\n",
      "the Heartland Institute, she would not have. Even after she was no longer\n",
      "paid, she still enjoys working with and are very close. She does her work\n",
      "voluntarily.\n",
      "\n",
      "\n",
      "Top similar comment 8:  Oh please. She was the heartland institutes answer to that silly\n",
      "Greta Thunberg. This young lady was on media all around the world within 2\n",
      "weeks of the ‘how dare you’ speech. She is a tactic. A ploy. The Heartland\n",
      "institute is the PR department of big oil. And they needed their own Greta.\n",
      "\n",
      "\n",
      "Top similar comment 9:  **Naomi Seibt \"\"BRAZIL!!!!🇧🇷\"\"👨‍👩‍👧‍👧 LOVES YOU!!!** (Brazil liebt\n",
      "dich!!!)😍😘🙋🏼‍♀️🥰🤩💘💗💓💞💝💖💕💟💚💛💚💛💚💛💚💛💚💛🇧🇷👍😎👉👉💥💥💥💥👩‍🎤🧟🤦🏼‍♀️💁🏼‍♀️💩🥵🌐🥵💩🚽🤮🤪🤡☠️😈👹👺👿🙈🤔👎🙅🏽‍♂️🇺🇸🇧🇷🇦🇺😏🌏🤫🤭🤥🙅🏼‍♀️🇧🇪Super\n",
      "Naomi+🌎🇺🇸🇧🇷🇮🇱🇬🇧🇦🇺🇵🇱🇹🇯 and etc! And so on ... [{(Note: We Brazilians Speak\n",
      "Portuguese!)}] +Likes!!! for 🙋🏼‍♀️Naomi!👍😎  \n",
      "  \n",
      "1.In English!: (from Portuguese to English with Google Translate!)  \n",
      "Continuing ... And so on ... smart! and beautiful Naomi! ... more and more\n",
      "Nations from all over the world! Next to you Naomi! And Against The speeches\n",
      "without real! Essentials! Scientific! and Alarmist ideologies! Steric!\n",
      "Exaggerated! and Post-Apocalyptic preached! announced by Greta Thunberg! and\n",
      "his spoiled class at the Esoteric Environmentalists' Kindergarten! Shias! of\n",
      "Gaia! together with Anti-Pope Francis! Devotees !!! Explicit !!! from\n",
      "Pachamama! of the Goddess! of \"\" Mother of EARTH! \"\" And Mainly !!! and\n",
      "Especially !!!: Protectors! Guardians! Producers! And Cannabis Consumers!\n",
      "(Popularly known all over the world! also as: \"Marijuana!\" \"The place from\n",
      "which His main Ideas derive! And ideologies! Leftists! / Socialists! /\n",
      "Communists! and even !!!: Pro-Terrorists !!!).  \n",
      "  \n",
      "2.Auf Deutsch! (Portugiesisch nach Deutsch mit Google Translate!) Weiter ...\n",
      "Und so weiter ... klug! und schöne Naomi! ... immer mehr Nationen aus aller\n",
      "Welt! Neben dir Naomi! Und gegen die Reden ohne echt! Das Wesentliche!\n",
      "Wissenschaftlich! und alarmistische Ideologien! Sterisch! Übertrieben! und\n",
      "postapokalyptisch gepredigt! angekündigt von Greta Thunberg! und seine\n",
      "verwöhnte Klasse im Kindergarten der Esoterischen Umweltschützer! Schiiten!\n",
      "von Gaia! zusammen mit Anti-Papst Franziskus! Anhänger !!! Explizit !!! von\n",
      "Pachamama! der Göttin! von \"\" Mutter der ERDE! \"\" Und hauptsächlich !!! und\n",
      "vor allem !!!: Beschützer! Wächter! Produzenten! Und Cannabiskonsumenten!\n",
      "(Weltweit bekannt! Auch bekannt als: \"Marihuana!\" \"Der Ort, von dem seine\n",
      "Hauptideen stammen! Und Ideologien! Linke! / Sozialisten! / Kommunisten! Und\n",
      "sogar !!!: Pro-Terroristen !!!).\n",
      "\n",
      "\n",
      "Top similar comment 10: Love how she THINKS for herself and doesn't \"Follow the Crowd\" like Lemmings.\n",
      "She actually does her OWN research instead of just Parroting others. Who, BTW,\n",
      "DON'T do their OWN RESEARCH EITHER but Parrot those who either PAY them to sad\n",
      "such things or are influence them to repeat said Talking points. In short,\n",
      "she's not a puppet but a THINKER. And Thinkers know that there is NO SCIENCE\n",
      "hind the \"theories\" of the left on \"Climate Change\".\n",
      "\n",
      "\n",
      "Top similar comment 11: The heartland institute is just the marketing arm of those who want to\n",
      "continue to profit unchecked at everyone’s expense.\n",
      "\n",
      "\n",
      "Top similar comment 12: Alarmism and Realism are media/political terms not scientific terms. It is\n",
      "quite clear that both Greta and Naomi are not scientists, they are\n",
      "political/environmental activists enjoying the limelight. She says most people\n",
      "talking about climate science are not scientists, which is because the media\n",
      "does not give a voice to the genuine scientists. She is correct to say that\n",
      "there should be a debate between the real scientists and the climate\n",
      "scientists, but the media will not organise this and the climate scientists\n",
      "will not take part in it. She talks about sceptics but all genuine scientists\n",
      "are sceptics. She should be calling out the IPCC, the media and politicians\n",
      "who say the science is settled. She is just an opportunist, although far more\n",
      "sensible than Greta and all politicians. If she met one of the climate\n",
      "alarmist scientists in a debate she does not have the scientific knowledge to\n",
      "respond. She does not seem to realise that schools are teaching climate\n",
      "alarmism and she cannot compete with that. The media needs to give time to\n",
      "interview the genuine scientists, not bloggers.\n",
      "\n",
      "\n",
      "Top similar comment 13: This is daft. Greta has repeatedly stated that she wants people to listen to\n",
      "the science on the realities of climate change. Sorry but this is a classic\n",
      "strawman argument - you raise a false idea as fact about your opponent and\n",
      "then proceed to tear it down. She and the climate protesters aren’t saying\n",
      "listen to their private findings instead of what the scientific community say\n",
      "- they are EXACTLY urging people to look at the science. Naomi’s alternative\n",
      "right wing “version” on climate change denial masquerading as sensible\n",
      "reasoning is not aligned to the consensus among the scientific community.\n",
      "Naomi sorry but your personal interpretations don’t override what the\n",
      "scientific community are telling us and if you want people to ignore them and\n",
      "listen to you - isn’t that exactly what you accused Greta and her hysterical\n",
      "fans from doing ? If you have alternative evidence then point to your sources\n",
      "so they can be examined.\n",
      "\n",
      "\n",
      "Top similar comment 14: hahahaha.. Greta will NEVER agree... I mean her handlers will never agree...\n",
      "All you have to do is watch Greta at a news conference she is lost, when the\n",
      "question is outside her narrow window of regurgitated crap...\n",
      "\n",
      "\n",
      "Top similar comment 15: She’s not the anti- Greta, she’s the educated Naomi.\n",
      "\n",
      "\n",
      "Top similar comment 16:  you know you’re on a Heartland Institute video right?!! Hahahaha\n",
      "\n",
      "\n",
      "Top similar comment 17: Greta who? She has been discarded like day old trash. Naomi is level headed\n",
      "and can think and function on her own.\n",
      "\n",
      "\n",
      "Top similar comment 18: So refreshing very articulate young lady. It was so true when she said people\n",
      "are being pitted against each other which is so scary especially when it\n",
      "involves parents and their children. Young adults need to hear the other side\n",
      "and therefore make a knowledgeable decision as to what they believe to be\n",
      "right. Children on the other hand need to listen to mom and dad, go to school,\n",
      "and PLAY. Teachers need to get back to basics and start teaching the 3 Rs\n",
      "again and forget about the political garbage they are being forced to teach.\n",
      "In Canada our teachers especially, in primary school , are turning away from\n",
      "tradition and exposing very young minds to information that is far behind\n",
      "their scope to learn ie sexual orientation, for more info on this refer to\n",
      "Laura-Lynn Thompson in Burnaby BC. In short this has become an epidemic in\n",
      "Canada and abroad filling the minds of young adults and very young children\n",
      "with absolute garbage we should be ashamed as adults to have let this happen\n",
      "speak up, be concerned b/c if you don't nobody else will.\n",
      "\n",
      "\n",
      "Top similar comment 19:  really? Climate change deniers roll out a ‘young white girl’ to\n",
      "counter the Greta affect and you morons fall for it. And that guys the idiot?!\n",
      "Haha\n",
      "\n",
      "\n",
      "Top similar comment 20: @ I fynd yor words jenuine & honestli truthful. therefore worthi\n",
      "of my regard... \"praise for Naomi's mother\", kame from my research in learning\n",
      "from Naomi Seibt herself that it was her mother that kame up with the idea of\n",
      "investigating the science in this klimate warming/chanje indoktrination when\n",
      "Naomi was an aktivist in the past on Greta's team...&so; if it wasn't for Mrs.\n",
      "Seibt's insiyht to her daurhter, Naomi may have never seen the liyht, & Greta\n",
      "would have had a monumental power over youth's senses, which I honour Naomi\n",
      "for realising this matter & taking aktion. This is my reason for praising\n",
      "Naomi's mother, instead of just Naomi herself....\n",
      "\n",
      "\n"
     ]
    }
   ],
   "source": [
    "def get_top_similar(sentence, sentence_list, similarity_matrix, topN):\n",
    "    # find the index of sentence in list\n",
    "    index = sentence_list.index(sentence)\n",
    "    # get the corresponding row in similarity matrix\n",
    "    similarity_row = np.array(similarity_matrix[index, :])\n",
    "    # get the indices of top similar\n",
    "    indices = similarity_row.argsort()[-topN:][::-1]\n",
    "    return [sentence_list[i] for i in indices]\n",
    "\n",
    "\n",
    "for i, value in enumerate(get_top_similar(comment, comment_list, cosine_similarity_matrix, 20)):\n",
    "  print(\"Top similar comment {}: {}\".format(i+1, value))"
   ]
  },
  {
   "cell_type": "code",
   "execution_count": null,
   "metadata": {},
   "outputs": [],
   "source": []
  }
 ],
 "metadata": {
  "colab": {
   "collapsed_sections": [],
   "name": "USE_Experiments_new.ipynb",
   "provenance": [],
   "toc_visible": true
  },
  "kernelspec": {
   "display_name": "Python 3",
   "language": "python",
   "name": "python3"
  },
  "language_info": {
   "codemirror_mode": {
    "name": "ipython",
    "version": 3
   },
   "file_extension": ".py",
   "mimetype": "text/x-python",
   "name": "python",
   "nbconvert_exporter": "python",
   "pygments_lexer": "ipython3",
   "version": "3.8.5"
  }
 },
 "nbformat": 4,
 "nbformat_minor": 4
}
