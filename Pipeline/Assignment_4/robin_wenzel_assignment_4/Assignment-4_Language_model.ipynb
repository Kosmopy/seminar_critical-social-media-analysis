{
 "cells": [
  {
   "cell_type": "markdown",
   "metadata": {
    "id": "iFXsrSxJlzCW"
   },
   "source": [
    "#Introduction\n",
    "\n",
    ".....\n"
   ]
  },
  {
   "cell_type": "markdown",
   "metadata": {},
   "source": [
    "Check to see if jupyter lab uses the correct python interpreter with '!which python'.\n",
    "It should be something like '/opt/anaconda3/envs/[environment name]/bin/python' (on Mac).\n",
    "If not, try this: https://github.com/jupyter/notebook/issues/3146#issuecomment-352718675"
   ]
  },
  {
   "cell_type": "code",
   "execution_count": 1,
   "metadata": {},
   "outputs": [
    {
     "name": "stdout",
     "output_type": "stream",
     "text": [
      "/d/Users/robin/anaconda3/envs/robin/python\n"
     ]
    }
   ],
   "source": [
    "!which python"
   ]
  },
  {
   "cell_type": "markdown",
   "metadata": {},
   "source": [
    "# Install dependencies:"
   ]
  },
  {
   "cell_type": "code",
   "execution_count": 7,
   "metadata": {
    "colab": {
     "base_uri": "https://localhost:8080/"
    },
    "id": "H0q7BTlbiCWW",
    "outputId": "32ddd123-4834-4913-f942-038e830d9276"
   },
   "outputs": [
    {
     "name": "stdout",
     "output_type": "stream",
     "text": [
      "Collecting package metadata (current_repodata.json): ...working... done\n",
      "Solving environment: ...working... done\n",
      "\n",
      "## Package Plan ##\n",
      "\n",
      "  environment location: D:\\Users\\robin\\anaconda3\\envs\\robin\n",
      "\n",
      "  added / updated specs:\n",
      "    - tensorflow=2\n",
      "\n",
      "\n",
      "The following packages will be downloaded:\n",
      "\n",
      "    package                    |            build\n",
      "    ---------------------------|-----------------\n",
      "    ca-certificates-2020.10.14 |                0         122 KB\n",
      "    openssl-1.1.1h             |       he774522_0         4.8 MB\n",
      "    ------------------------------------------------------------\n",
      "                                           Total:         5.0 MB\n",
      "\n",
      "The following packages will be UPDATED:\n",
      "\n",
      "  certifi                anaconda::certifi-2020.6.20-py36_0 --> pkgs/main::certifi-2020.11.8-py36haa95532_0\n",
      "\n",
      "The following packages will be SUPERSEDED by a higher-priority channel:\n",
      "\n",
      "  ca-certificates                                  anaconda --> pkgs/main\n",
      "  openssl                                          anaconda --> pkgs/main\n",
      "\n",
      "\n",
      "\n",
      "Downloading and Extracting Packages\n",
      "\n",
      "openssl-1.1.1h       | 4.8 MB    |            |   0% \n",
      "openssl-1.1.1h       | 4.8 MB    | 3          |   4% \n",
      "openssl-1.1.1h       | 4.8 MB    | ######4    |  65% \n",
      "openssl-1.1.1h       | 4.8 MB    | ########## | 100% \n",
      "openssl-1.1.1h       | 4.8 MB    | ########## | 100% \n",
      "\n",
      "ca-certificates-2020 | 122 KB    |            |   0% \n",
      "ca-certificates-2020 | 122 KB    | #3         |  13% \n",
      "ca-certificates-2020 | 122 KB    | ########## | 100% \n",
      "Preparing transaction: ...working... done\n",
      "Verifying transaction: ...working... done\n",
      "Executing transaction: ...working... done\n"
     ]
    },
    {
     "name": "stderr",
     "output_type": "stream",
     "text": [
      "WARNING conda.gateways.disk.delete:unlink_or_rename_to_trash(139): Could not remove or rename D:\\Users\\Robin\\anaconda3\\pkgs\\openssl-1.1.1h-he774522_0\\Library\\bin\\libssl-1_1-x64.dll.conda_trash.conda_trash.conda_trash.conda_trash.conda_trash.conda_trash.conda_trash.conda_trash.conda_trash.conda_trash.conda_trash.conda_trash.conda_trash.conda_trash.conda_trash.conda_trash.conda_trash.conda_trash.conda_trash.  Please remove this file manually (you may need to reboot to free file handles)\n"
     ]
    },
    {
     "name": "stdout",
     "output_type": "stream",
     "text": [
      "Collecting package metadata (current_repodata.json): ...working... done\n",
      "Solving environment: ...working... done\n",
      "\n",
      "## Package Plan ##\n",
      "\n",
      "  environment location: D:\\Users\\robin\\anaconda3\\envs\\robin\n",
      "\n",
      "  added / updated specs:\n",
      "    - pandas\n",
      "\n",
      "\n",
      "The following packages will be downloaded:\n",
      "\n",
      "    package                    |            build\n",
      "    ---------------------------|-----------------\n",
      "    ca-certificates-2020.10.14 |                0         159 KB  anaconda\n",
      "    openssl-1.1.1h             |       he774522_0         5.8 MB  anaconda\n",
      "    ------------------------------------------------------------\n",
      "                                           Total:         5.9 MB\n",
      "\n",
      "The following packages will be SUPERSEDED by a higher-priority channel:\n",
      "\n",
      "  ca-certificates                                 pkgs/main --> anaconda\n",
      "  certifi            pkgs/main::certifi-2020.11.8-py36haa9~ --> anaconda::certifi-2020.6.20-py36_0\n",
      "  openssl                                         pkgs/main --> anaconda\n",
      "\n",
      "\n",
      "\n",
      "Downloading and Extracting Packages\n",
      "\n",
      "openssl-1.1.1h       | 5.8 MB    |            |   0% \n",
      "openssl-1.1.1h       | 5.8 MB    |            |   0% \n",
      "openssl-1.1.1h       | 5.8 MB    | #####1     |  51% \n",
      "openssl-1.1.1h       | 5.8 MB    | ########## | 100% \n",
      "openssl-1.1.1h       | 5.8 MB    | ########## | 100% \n",
      "\n",
      "ca-certificates-2020 | 159 KB    |            |   0% \n",
      "ca-certificates-2020 | 159 KB    | #          |  10% \n",
      "ca-certificates-2020 | 159 KB    | ########## | 100% \n",
      "Preparing transaction: ...working... done\n",
      "Verifying transaction: ...working... done\n",
      "Executing transaction: ...working... done\n"
     ]
    },
    {
     "name": "stderr",
     "output_type": "stream",
     "text": [
      "WARNING conda.gateways.disk.delete:unlink_or_rename_to_trash(139): Could not remove or rename D:\\Users\\Robin\\anaconda3\\pkgs\\openssl-1.1.1h-he774522_0\\Library\\bin\\libssl-1_1-x64.dll.conda_trash.conda_trash.conda_trash.conda_trash.conda_trash.conda_trash.conda_trash.conda_trash.conda_trash.conda_trash.conda_trash.conda_trash.conda_trash.conda_trash.conda_trash.conda_trash.conda_trash.conda_trash.conda_trash.  Please remove this file manually (you may need to reboot to free file handles)\n"
     ]
    },
    {
     "name": "stdout",
     "output_type": "stream",
     "text": [
      "Collecting package metadata (current_repodata.json): ...working... done\n",
      "Solving environment: ...working... done\n",
      "\n",
      "## Package Plan ##\n",
      "\n",
      "  environment location: D:\\Users\\robin\\anaconda3\\envs\\robin\n",
      "\n",
      "  added / updated specs:\n",
      "    - tensorflow-hub\n",
      "\n",
      "\n",
      "The following packages will be downloaded:\n",
      "\n",
      "    package                    |            build\n",
      "    ---------------------------|-----------------\n",
      "    openssl-1.1.1h             |       he774522_0         5.8 MB  conda-forge\n",
      "    ------------------------------------------------------------\n",
      "                                           Total:         5.8 MB\n",
      "\n",
      "The following packages will be UPDATED:\n",
      "\n",
      "  ca-certificates    anaconda::ca-certificates-2020.10.14-0 --> conda-forge::ca-certificates-2020.11.8-h5b45459_0\n",
      "  certifi                anaconda::certifi-2020.6.20-py36_0 --> conda-forge::certifi-2020.11.8-py36ha15d459_0\n",
      "\n",
      "The following packages will be SUPERSEDED by a higher-priority channel:\n",
      "\n",
      "  openssl                                          anaconda --> conda-forge\n",
      "\n",
      "\n",
      "\n",
      "Downloading and Extracting Packages\n",
      "\n",
      "openssl-1.1.1h       | 5.8 MB    |            |   0% \n",
      "openssl-1.1.1h       | 5.8 MB    |            |   0% \n",
      "openssl-1.1.1h       | 5.8 MB    | ####9      |  49% \n",
      "openssl-1.1.1h       | 5.8 MB    | #########5 |  96% \n",
      "openssl-1.1.1h       | 5.8 MB    | ########## | 100% \n",
      "Preparing transaction: ...working... done\n",
      "Verifying transaction: ...working... done\n",
      "Executing transaction: ...working... done\n"
     ]
    },
    {
     "name": "stderr",
     "output_type": "stream",
     "text": [
      "WARNING conda.gateways.disk.delete:unlink_or_rename_to_trash(139): Could not remove or rename D:\\Users\\Robin\\anaconda3\\pkgs\\openssl-1.1.1h-he774522_0\\Library\\bin\\libssl-1_1-x64.dll.conda_trash.conda_trash.conda_trash.conda_trash.conda_trash.conda_trash.conda_trash.conda_trash.conda_trash.conda_trash.conda_trash.conda_trash.conda_trash.conda_trash.conda_trash.conda_trash.conda_trash.conda_trash.conda_trash.  Please remove this file manually (you may need to reboot to free file handles)\n"
     ]
    },
    {
     "name": "stdout",
     "output_type": "stream",
     "text": [
      "Collecting package metadata (current_repodata.json): ...working... done\n",
      "Solving environment: ...working... done\n",
      "\n",
      "## Package Plan ##\n",
      "\n",
      "  environment location: D:\\Users\\robin\\anaconda3\\envs\\robin\n",
      "\n",
      "  added / updated specs:\n",
      "    - html2text\n",
      "\n",
      "\n",
      "The following packages will be downloaded:\n",
      "\n",
      "    package                    |            build\n",
      "    ---------------------------|-----------------\n",
      "    html2text-2020.1.16        |             py_0          33 KB  conda-forge\n",
      "    ------------------------------------------------------------\n",
      "                                           Total:          33 KB\n",
      "\n",
      "The following NEW packages will be INSTALLED:\n",
      "\n",
      "  html2text          conda-forge/noarch::html2text-2020.1.16-py_0\n",
      "\n",
      "\n",
      "\n",
      "Downloading and Extracting Packages\n",
      "\n",
      "html2text-2020.1.16  | 33 KB     |            |   0% \n",
      "html2text-2020.1.16  | 33 KB     | ####7      |  48% \n",
      "html2text-2020.1.16  | 33 KB     | ########## | 100% \n",
      "Preparing transaction: ...working... done\n",
      "Verifying transaction: ...working... done\n",
      "Executing transaction: ...working... done\n",
      "Collecting package metadata (current_repodata.json): ...working... done\n",
      "Solving environment: ...working... done\n",
      "\n",
      "# All requested packages already installed.\n",
      "\n",
      "Collecting package metadata (current_repodata.json): ...working... done\n",
      "Solving environment: ...working... done\n",
      "\n",
      "## Package Plan ##\n",
      "\n",
      "  environment location: D:\\Users\\robin\\anaconda3\\envs\\robin\n",
      "\n",
      "  added / updated specs:\n",
      "    - scikit-learn\n",
      "\n",
      "\n",
      "The following packages will be downloaded:\n",
      "\n",
      "    package                    |            build\n",
      "    ---------------------------|-----------------\n",
      "    openssl-1.1.1h             |       he774522_0         5.8 MB  anaconda\n",
      "    ------------------------------------------------------------\n",
      "                                           Total:         5.8 MB\n",
      "\n",
      "The following packages will be SUPERSEDED by a higher-priority channel:\n",
      "\n",
      "  ca-certificates    conda-forge::ca-certificates-2020.11.~ --> anaconda::ca-certificates-2020.10.14-0\n",
      "  certifi            conda-forge::certifi-2020.11.8-py36ha~ --> anaconda::certifi-2020.6.20-py36_0\n",
      "  openssl                                       conda-forge --> anaconda\n",
      "\n",
      "\n",
      "\n",
      "Downloading and Extracting Packages\n",
      "\n",
      "openssl-1.1.1h       | 5.8 MB    |            |   0% \n",
      "openssl-1.1.1h       | 5.8 MB    |            |   0% \n",
      "openssl-1.1.1h       | 5.8 MB    | #####      |  50% \n",
      "openssl-1.1.1h       | 5.8 MB    | ########## | 100% \n",
      "openssl-1.1.1h       | 5.8 MB    | ########## | 100% \n",
      "Preparing transaction: ...working... done\n",
      "Verifying transaction: ...working... done\n",
      "Executing transaction: ...working... done\n"
     ]
    },
    {
     "name": "stderr",
     "output_type": "stream",
     "text": [
      "WARNING conda.gateways.disk.delete:unlink_or_rename_to_trash(139): Could not remove or rename D:\\Users\\Robin\\anaconda3\\pkgs\\openssl-1.1.1h-he774522_0\\Library\\bin\\libssl-1_1-x64.dll.conda_trash.conda_trash.conda_trash.conda_trash.conda_trash.conda_trash.conda_trash.conda_trash.conda_trash.conda_trash.conda_trash.conda_trash.conda_trash.conda_trash.conda_trash.conda_trash.conda_trash.conda_trash.conda_trash.  Please remove this file manually (you may need to reboot to free file handles)\n"
     ]
    },
    {
     "name": "stdout",
     "output_type": "stream",
     "text": [
      "Collecting package metadata (current_repodata.json): ...working... done\n",
      "Solving environment: ...working... done\n",
      "\n",
      "## Package Plan ##\n",
      "\n",
      "  environment location: D:\\Users\\robin\\anaconda3\\envs\\robin\n",
      "\n",
      "  added / updated specs:\n",
      "    - matplotlib\n",
      "\n",
      "\n",
      "The following packages will be downloaded:\n",
      "\n",
      "    package                    |            build\n",
      "    ---------------------------|-----------------\n",
      "    openssl-1.1.1h             |       he774522_0         5.8 MB  conda-forge\n",
      "    ------------------------------------------------------------\n",
      "                                           Total:         5.8 MB\n",
      "\n",
      "The following packages will be UPDATED:\n",
      "\n",
      "  ca-certificates    anaconda::ca-certificates-2020.10.14-0 --> conda-forge::ca-certificates-2020.11.8-h5b45459_0\n",
      "  certifi                anaconda::certifi-2020.6.20-py36_0 --> conda-forge::certifi-2020.11.8-py36ha15d459_0\n",
      "\n",
      "The following packages will be SUPERSEDED by a higher-priority channel:\n",
      "\n",
      "  openssl                                          anaconda --> conda-forge\n",
      "\n",
      "\n",
      "\n",
      "Downloading and Extracting Packages\n",
      "\n",
      "openssl-1.1.1h       | 5.8 MB    |            |   0% \n",
      "openssl-1.1.1h       | 5.8 MB    |            |   0% \n",
      "openssl-1.1.1h       | 5.8 MB    | #####1     |  51% \n",
      "openssl-1.1.1h       | 5.8 MB    | ########## | 100% \n",
      "openssl-1.1.1h       | 5.8 MB    | ########## | 100% \n",
      "Preparing transaction: ...working... done\n",
      "Verifying transaction: ...working... done\n",
      "Executing transaction: ...working... done\n"
     ]
    },
    {
     "name": "stderr",
     "output_type": "stream",
     "text": [
      "WARNING conda.gateways.disk.delete:unlink_or_rename_to_trash(139): Could not remove or rename D:\\Users\\Robin\\anaconda3\\pkgs\\openssl-1.1.1h-he774522_0\\Library\\bin\\libssl-1_1-x64.dll.conda_trash.conda_trash.conda_trash.conda_trash.conda_trash.conda_trash.conda_trash.conda_trash.conda_trash.conda_trash.conda_trash.conda_trash.conda_trash.conda_trash.conda_trash.conda_trash.conda_trash.conda_trash.conda_trash.  Please remove this file manually (you may need to reboot to free file handles)\n"
     ]
    },
    {
     "name": "stdout",
     "output_type": "stream",
     "text": [
      "Collecting package metadata (current_repodata.json): ...working... done\n",
      "Solving environment: ...working... done\n",
      "\n",
      "## Package Plan ##\n",
      "\n",
      "  environment location: D:\\Users\\robin\\anaconda3\\envs\\robin\n",
      "\n",
      "  added / updated specs:\n",
      "    - seaborn\n",
      "\n",
      "\n",
      "The following packages will be downloaded:\n",
      "\n",
      "    package                    |            build\n",
      "    ---------------------------|-----------------\n",
      "    openssl-1.1.1h             |       he774522_0         5.8 MB  anaconda\n",
      "    ------------------------------------------------------------\n",
      "                                           Total:         5.8 MB\n",
      "\n",
      "The following packages will be SUPERSEDED by a higher-priority channel:\n",
      "\n",
      "  ca-certificates    conda-forge::ca-certificates-2020.11.~ --> anaconda::ca-certificates-2020.10.14-0\n",
      "  certifi            conda-forge::certifi-2020.11.8-py36ha~ --> anaconda::certifi-2020.6.20-py36_0\n",
      "  openssl                                       conda-forge --> anaconda\n",
      "\n",
      "\n",
      "\n",
      "Downloading and Extracting Packages\n",
      "\n",
      "openssl-1.1.1h       | 5.8 MB    |            |   0% \n",
      "openssl-1.1.1h       | 5.8 MB    |            |   0% \n",
      "openssl-1.1.1h       | 5.8 MB    | #####1     |  52% \n",
      "openssl-1.1.1h       | 5.8 MB    | ########## | 100% \n",
      "openssl-1.1.1h       | 5.8 MB    | ########## | 100% \n",
      "Preparing transaction: ...working... done\n",
      "Verifying transaction: ...working... done\n",
      "Executing transaction: ...working... done\n"
     ]
    }
   ],
   "source": [
    "install_packages = True\n",
    "if install_packages:\n",
    "    !conda install tensorflow=2 -y\n",
    "    !conda install -c anaconda pandas -y\n",
    "    !conda install -c conda-forge tensorflow-hub -y\n",
    "    !conda install -c conda-forge html2text -y\n",
    "    !conda install -c conda-forge tqdm -y\n",
    "    !conda install -c anaconda scikit-learn -y\n",
    "    !conda install -c conda-forge matplotlib -y\n",
    "    !conda install -c anaconda seaborn -y"
   ]
  },
  {
   "cell_type": "markdown",
   "metadata": {},
   "source": [
    "# Imports"
   ]
  },
  {
   "cell_type": "code",
   "execution_count": 5,
   "metadata": {
    "id": "xD4HKjy9TC-g"
   },
   "outputs": [],
   "source": [
    "#imports\n",
    "import pandas as pd\n",
    "import numpy as np\n",
    "import os\n",
    "import time\n",
    "import tensorflow as tf\n",
    "import tensorflow_hub as hub\n",
    "import zipfile\n",
    "from html2text import HTML2Text\n",
    "from tqdm import tqdm\n",
    "import re\n",
    "from sklearn.metrics import pairwise_distances\n",
    "from sklearn.preprocessing import normalize\n",
    "import matplotlib.pyplot as plt\n",
    "import seaborn as sns"
   ]
  },
  {
   "cell_type": "markdown",
   "metadata": {},
   "source": [
    "# Set pandas print options\n",
    "This will improve readability of printed pandas dataframe.\n"
   ]
  },
  {
   "cell_type": "code",
   "execution_count": 6,
   "metadata": {
    "id": "SEH28FctS6SP"
   },
   "outputs": [],
   "source": [
    "pd.set_option('display.max_rows', None)\n",
    "pd.set_option('display.max_columns', None)\n",
    "pd.set_option('display.width', None)\n",
    "pd.set_option('display.max_colwidth', None)"
   ]
  },
  {
   "cell_type": "markdown",
   "metadata": {},
   "source": [
    "## Set global Parameters\n",
    "Set your parameters here:\n",
    "\n",
    "data_path: In this path put the data you have downloaded with YouTube Data Tools. \n",
    "output_path: Tghe files generated in this notebook will be saved here.\n",
    "\n",
    "url_dict: URLs to models on Tensorflow hub are saved here. Other models are available there.\n",
    "model_type: Define which model you would like to use. Choose one from url_dict\n",
    "\n",
    "new_embeddings: If this is true, new embeddings will be generated and saved at output_path. Otherwise, embeddings are loaded from Disc.\n",
    "\n",
    "\n"
   ]
  },
  {
   "cell_type": "code",
   "execution_count": 7,
   "metadata": {
    "id": "TL7Rvq_TD086"
   },
   "outputs": [],
   "source": [
    "data_path =r'D:\\Users\\Robin\\Downloads\\videoinfo_v8dXpe1Pp6Q_2020_11_20-12_53_38_comments.tab'\n",
    "output_path = \"./output/\"\n",
    "\n",
    "new_embeddings = False\n",
    "\n",
    "url_dict = {\n",
    "            'Transformer' : \"https://tfhub.dev/google/universal-sentence-encoder-large/5\",\n",
    "            'DAN' : \"https://tfhub.dev/google/universal-sentence-encoder/4\",\n",
    "            'Transformer_Multilingual': \"https://tfhub.dev/google/universal-sentence-encoder-multilingual-large/3\"\n",
    "}\n",
    "\n",
    "model_type = 'Transformer' #@param ['DAN','Transformer','Transformer_Multilingual']"
   ]
  },
  {
   "cell_type": "markdown",
   "metadata": {},
   "source": [
    "## Create output directory\n",
    "Try to create the directory defined by output_path"
   ]
  },
  {
   "cell_type": "code",
   "execution_count": 8,
   "metadata": {
    "colab": {
     "base_uri": "https://localhost:8080/"
    },
    "id": "NuvhsxjlZFhu",
    "outputId": "436a89b3-9ae8-4f74-f236-4a3f55b64d6d"
   },
   "outputs": [
    {
     "name": "stdout",
     "output_type": "stream",
     "text": [
      "Creation of the directory ./output/ failed\n"
     ]
    }
   ],
   "source": [
    "try:\n",
    "   os.mkdir(output_path)\n",
    "except OSError:\n",
    "  print (\"Creation of the directory %s failed\" % output_path)\n",
    "else:\n",
    "  print (\"Successfully created the directory %s \" % output_path)\n"
   ]
  },
  {
   "cell_type": "markdown",
   "metadata": {
    "id": "VO9QOLP_9DxJ"
   },
   "source": [
    "# Load Data\n",
    "Load you data as a pandas dataframe"
   ]
  },
  {
   "cell_type": "code",
   "execution_count": 15,
   "metadata": {},
   "outputs": [],
   "source": [
    "if new_embeddings:\n",
    "    data = pd.read_csv(data_path,sep='\\t',header=(0))\n",
    "    data.head()"
   ]
  },
  {
   "cell_type": "markdown",
   "metadata": {
    "id": "_IUWISh1M5nz"
   },
   "source": [
    "# Preprocessing\n",
    "Preprocess your data:\n",
    "- Drop empty rows\n",
    "- Drop unused columns"
   ]
  },
  {
   "cell_type": "code",
   "execution_count": 16,
   "metadata": {
    "id": "gbU3mk83MBIH"
   },
   "outputs": [],
   "source": [
    "if new_embeddings:\n",
    "    data = data.dropna(subset=['text', 'authorName']) # drop rows with no content\n",
    "    data=data.drop(['id', 'replyCount','likeCount','authorChannelUrl','authorChannelId','isReplyTo','isReplyToName'],axis=1) # drop unused columns\n",
    "    data.head()"
   ]
  },
  {
   "cell_type": "markdown",
   "metadata": {},
   "source": [
    "- remove HTML-tags, links and usernames"
   ]
  },
  {
   "cell_type": "code",
   "execution_count": 17,
   "metadata": {
    "id": "vIgxEvzcM39J"
   },
   "outputs": [
    {
     "name": "stderr",
     "output_type": "stream",
     "text": [
      "100%|████████████████████████████████████████████████████████████████████████████| 2420/2420 [00:00<00:00, 6685.16it/s]\n"
     ]
    },
    {
     "name": "stdout",
     "output_type": "stream",
     "text": [
      "Removed HTML Tags.\n",
      "Removed Links.\n",
      "Removed user names.\n"
     ]
    }
   ],
   "source": [
    "if new_embeddings:\n",
    "    # Remove HTML tags\n",
    "    tqdm.pandas()\n",
    "    h = HTML2Text()\n",
    "    h.ignore_links = True\n",
    "    data['cleaned'] = data['text'].progress_apply(lambda x: h.handle(x))\n",
    "    print( \"Removed HTML Tags.\")\n",
    "\n",
    "    # Remove links\n",
    "    http_link_pattern = r'http\\S+'\n",
    "    bitly_link_pattern = r'bit.ly/\\S+'\n",
    "    data['cleaned'] = data['cleaned'].str.replace(http_link_pattern, '')\n",
    "    data['cleaned'] = data['cleaned'].str.replace(bitly_link_pattern, '')\n",
    "    print( \"Removed Links.\")\n",
    "\n",
    "    # Remove user names\n",
    "    keep_names = [\"earth\", \"Tide\", \"Geologist\", \"A Person\", \"Titanic\", \"adventure\", \"Sun\", \"The United States Of America\"] # user names we want to keep\n",
    "    user_names = [name for name in data['authorName'].unique() if (len(name)> 3 and name not in keep_names)]\n",
    "    data['cleaned'] = data['cleaned'].str.replace('|'.join(map(re.escape, user_names)), '')\n",
    "    print( \"Removed user names.\")"
   ]
  },
  {
   "cell_type": "markdown",
   "metadata": {},
   "source": [
    "# Save or Load preprocessed data\n",
    "\n",
    "Save your data afte preprocessing, or load preprocessed data from disc."
   ]
  },
  {
   "cell_type": "code",
   "execution_count": 9,
   "metadata": {
    "colab": {
     "base_uri": "https://localhost:8080/"
    },
    "id": "W0uP3D5IXvyT",
    "outputId": "ce705b12-d180-438e-8bb7-86a5dfffbdcf"
   },
   "outputs": [
    {
     "data": {
      "text/html": [
       "<div>\n",
       "<style scoped>\n",
       "    .dataframe tbody tr th:only-of-type {\n",
       "        vertical-align: middle;\n",
       "    }\n",
       "\n",
       "    .dataframe tbody tr th {\n",
       "        vertical-align: top;\n",
       "    }\n",
       "\n",
       "    .dataframe thead th {\n",
       "        text-align: right;\n",
       "    }\n",
       "</style>\n",
       "<table border=\"1\" class=\"dataframe\">\n",
       "  <thead>\n",
       "    <tr style=\"text-align: right;\">\n",
       "      <th></th>\n",
       "      <th>publishedAt</th>\n",
       "      <th>authorName</th>\n",
       "      <th>text</th>\n",
       "      <th>isReply</th>\n",
       "      <th>cleaned</th>\n",
       "    </tr>\n",
       "  </thead>\n",
       "  <tbody>\n",
       "    <tr>\n",
       "      <th>0</th>\n",
       "      <td>2020-11-09 13:32:29</td>\n",
       "      <td>Dietmar Wohlleben</td>\n",
       "      <td>Naomi Seibt is trained, paid and intensively prepared by Heartland &amp;quot;Institute&amp;quot;, a tobacco &amp;amp; CO2 (coal, gas,petrol industry) lobby group, which she places with severall extreme right-wing and Russian television stations for interviews. See &lt;a href=\"https://en.wikipedia.org/wiki/The_Heartland_Institute\"&gt;https://en.wikipedia.org/wiki/The_Heartland_Institute&lt;/a&gt; &lt;br /&gt;Seibt is also a member of the right-wing extremist organization &amp;quot;Junge Alternative&amp;quot; (Young Alternative), which the German Office for the Protection of the Constitution considers unconstitutional.</td>\n",
       "      <td>0</td>\n",
       "      <td>Naomi Seibt is trained, paid and intensively prepared by Heartland\\n\"Institute\", a tobacco &amp; CO2 (coal, gas,petrol industry) lobby group, which\\nshe places with severall extreme right-wing and Russian television stations\\nfor interviews. See   \\nSeibt is also a member of the right-wing extremist organization \"Junge\\nAlternative\" (Young Alternative), which the German Office for the Protection\\nof the Constitution considers unconstitutional.\\n\\n</td>\n",
       "    </tr>\n",
       "    <tr>\n",
       "      <th>1</th>\n",
       "      <td>2020-10-28 12:47:14</td>\n",
       "      <td>Vanessa Smith</td>\n",
       "      <td>Well said ! This is the truth.</td>\n",
       "      <td>0</td>\n",
       "      <td>Well said ! This is the truth.\\n\\n</td>\n",
       "    </tr>\n",
       "    <tr>\n",
       "      <th>2</th>\n",
       "      <td>2020-10-27 15:50:19</td>\n",
       "      <td>Charles-Louis Joris</td>\n",
       "      <td>She sucks</td>\n",
       "      <td>0</td>\n",
       "      <td>She sucks\\n\\n</td>\n",
       "    </tr>\n",
       "    <tr>\n",
       "      <th>3</th>\n",
       "      <td>2020-10-15 04:29:41</td>\n",
       "      <td>Akhilesh Maji</td>\n",
       "      <td>So this girl wants to tell that those thousands scientists who are working on climate change, those scientists who are working on car engine to decrease their carbon emission, they are all self proclaimed scientists. Great bro. &lt;br /&gt;&lt;br /&gt;Now a days children are promoting their thoughts with out any ground report, or any experiments and thinks they are the scientists. And they criticize real scientists by calling them self proclaimed scientists. WTF.</td>\n",
       "      <td>0</td>\n",
       "      <td>So this girl wants to tell that those thousands scientists who are working on\\nclimate change, those scientists who are working on car engine to decrease\\ntheir carbon emission, they are all self proclaimed scientists. Great bro.  \\n  \\nNow a days children are promoting their thoughts with out any ground report,\\nor any experiments and thinks they are the scientists. And they criticize real\\nscientists by calling them self proclaimed scientists. WTF.\\n\\n</td>\n",
       "    </tr>\n",
       "    <tr>\n",
       "      <th>4</th>\n",
       "      <td>2020-10-07 02:48:56</td>\n",
       "      <td>David Esposito</td>\n",
       "      <td>Why are we hearing from a small girl instead of an actual scientist who can explain things to us? I’m fine with heartland having someone on their side to debate them, every time I’ve seen someone actually debate a climate scientist , the scientist who is actually involved in this work, they mop the floor with the opponent.</td>\n",
       "      <td>0</td>\n",
       "      <td>Why are we hearing from a small girl instead of an actual scientist who can\\nexplain things to us? I’m fine with heartland having someone on their side to\\ndebate them, every time I’ve seen someone actually debate a climate scientist\\n, the scientist who is actually involved in this work, they mop the floor with\\nthe opponent.\\n\\n</td>\n",
       "    </tr>\n",
       "  </tbody>\n",
       "</table>\n",
       "</div>"
      ],
      "text/plain": [
       "           publishedAt           authorName  \\\n",
       "0  2020-11-09 13:32:29    Dietmar Wohlleben   \n",
       "1  2020-10-28 12:47:14        Vanessa Smith   \n",
       "2  2020-10-27 15:50:19  Charles-Louis Joris   \n",
       "3  2020-10-15 04:29:41        Akhilesh Maji   \n",
       "4  2020-10-07 02:48:56       David Esposito   \n",
       "\n",
       "                                                                                                                                                                                                                                                                                                                                                                                                                                                                                                                                                                                                         text  \\\n",
       "0  Naomi Seibt is trained, paid and intensively prepared by Heartland &quot;Institute&quot;, a tobacco &amp; CO2 (coal, gas,petrol industry) lobby group, which she places with severall extreme right-wing and Russian television stations for interviews. See <a href=\"https://en.wikipedia.org/wiki/The_Heartland_Institute\">https://en.wikipedia.org/wiki/The_Heartland_Institute</a> <br />Seibt is also a member of the right-wing extremist organization &quot;Junge Alternative&quot; (Young Alternative), which the German Office for the Protection of the Constitution considers unconstitutional.   \n",
       "1                                                                                                                                                                                                                                                                                                                                                                                                                                                                                                                                                                              Well said ! This is the truth.   \n",
       "2                                                                                                                                                                                                                                                                                                                                                                                                                                                                                                                                                                                                   She sucks   \n",
       "3                                                                                                                                     So this girl wants to tell that those thousands scientists who are working on climate change, those scientists who are working on car engine to decrease their carbon emission, they are all self proclaimed scientists. Great bro. <br /><br />Now a days children are promoting their thoughts with out any ground report, or any experiments and thinks they are the scientists. And they criticize real scientists by calling them self proclaimed scientists. WTF.   \n",
       "4                                                                                                                                                                                                                                                                        Why are we hearing from a small girl instead of an actual scientist who can explain things to us? I’m fine with heartland having someone on their side to debate them, every time I’ve seen someone actually debate a climate scientist , the scientist who is actually involved in this work, they mop the floor with the opponent.   \n",
       "\n",
       "   isReply  \\\n",
       "0        0   \n",
       "1        0   \n",
       "2        0   \n",
       "3        0   \n",
       "4        0   \n",
       "\n",
       "                                                                                                                                                                                                                                                                                                                                                                                                                                                                      cleaned  \n",
       "0             Naomi Seibt is trained, paid and intensively prepared by Heartland\\n\"Institute\", a tobacco & CO2 (coal, gas,petrol industry) lobby group, which\\nshe places with severall extreme right-wing and Russian television stations\\nfor interviews. See   \\nSeibt is also a member of the right-wing extremist organization \"Junge\\nAlternative\" (Young Alternative), which the German Office for the Protection\\nof the Constitution considers unconstitutional.\\n\\n  \n",
       "1                                                                                                                                                                                                                                                                                                                                                                                                                                          Well said ! This is the truth.\\n\\n  \n",
       "2                                                                                                                                                                                                                                                                                                                                                                                                                                                               She sucks\\n\\n  \n",
       "3  So this girl wants to tell that those thousands scientists who are working on\\nclimate change, those scientists who are working on car engine to decrease\\ntheir carbon emission, they are all self proclaimed scientists. Great bro.  \\n  \\nNow a days children are promoting their thoughts with out any ground report,\\nor any experiments and thinks they are the scientists. And they criticize real\\nscientists by calling them self proclaimed scientists. WTF.\\n\\n  \n",
       "4                                                                                                                                Why are we hearing from a small girl instead of an actual scientist who can\\nexplain things to us? I’m fine with heartland having someone on their side to\\ndebate them, every time I’ve seen someone actually debate a climate scientist\\n, the scientist who is actually involved in this work, they mop the floor with\\nthe opponent.\\n\\n  "
      ]
     },
     "execution_count": 9,
     "metadata": {},
     "output_type": "execute_result"
    }
   ],
   "source": [
    "if new_embeddings:\n",
    "  data.to_pickle(output_path+'data_preprocessed'+'.pkl')\n",
    "else:\n",
    "  data = pd.read_pickle(output_path+'data_preprocessed'+'.pkl')\n",
    "data.head()"
   ]
  },
  {
   "cell_type": "markdown",
   "metadata": {
    "id": "5YxXP5PtAFyV"
   },
   "source": [
    "# Produce Text Embeddings with Universal Sentence Encoder"
   ]
  },
  {
   "cell_type": "markdown",
   "metadata": {
    "id": "d_sStH0bXhFD"
   },
   "source": [
    "## Load Model\n",
    "Load the model from TF-hub"
   ]
  },
  {
   "cell_type": "code",
   "execution_count": 10,
   "metadata": {
    "id": "ugb89Xy7XdqR"
   },
   "outputs": [],
   "source": [
    "hub_url = url_dict[model_type]\n",
    "if new_embeddings:\n",
    "  print(\"Loading model. This will take some time...\")\n",
    "  embed = hub.load(hub_url)"
   ]
  },
  {
   "cell_type": "markdown",
   "metadata": {},
   "source": [
    "## Embed Documents\n",
    "Produce embeddings of your documents."
   ]
  },
  {
   "cell_type": "code",
   "execution_count": 11,
   "metadata": {
    "id": "Yz3Qlca7YGEN"
   },
   "outputs": [
    {
     "data": {
      "text/plain": [
       "(2420, 512)"
      ]
     },
     "execution_count": 11,
     "metadata": {},
     "output_type": "execute_result"
    }
   ],
   "source": [
    "if new_embeddings:\n",
    "    for k,g in data.groupby(np.arange(len(data))//200):\n",
    "        if k == 0:\n",
    "            embeddings = embed(g['cleaned'])\n",
    "        else:\n",
    "            embeddings_new = embed(g['cleaned'])\n",
    "            embeddings = tf.concat(values=[embeddings,embeddings_new],axis = 0)\n",
    "            print(k , end =\" \")\n",
    "    print(\"The embeddings vector is of fixed length {}\".format(embeddings.shape[1]))\n",
    "\n",
    "    np.save(output_path+'/embeddings'+model_type+'.npy', embeddings, allow_pickle=True, fix_imports=True)\n",
    "else:\n",
    "    embeddings = np.load(output_path+'/embeddings'+model_type+'.npy', mmap_mode=None, allow_pickle=False, fix_imports=True, encoding='ASCII')\n",
    "\n",
    "embeddings.shape"
   ]
  },
  {
   "cell_type": "markdown",
   "metadata": {
    "id": "oFTi_5lUAnJF"
   },
   "source": [
    "## Calculate Similarity Matrix with angular distance\n",
    "\n",
    "'Following Cer et al. (2018), we first compute\n",
    "the sentence embeddings u, v for an STS sentence\n",
    "pair, and then score the sentence pair similarity\n",
    "based on the angular distance between the two\n",
    "embedding vectors  d = − arccos (uv/||u|| ||v||\u0011).'"
   ]
  },
  {
   "cell_type": "code",
   "execution_count": 12,
   "metadata": {},
   "outputs": [
    {
     "name": "stdout",
     "output_type": "stream",
     "text": [
      "[[ 0.99999994  0.02017658  0.13172205 ...  0.19374986  0.15134448\n",
      "  -0.00883224]\n",
      " [ 0.02017658  1.0000001   0.01142771 ...  0.21600701 -0.02442844\n",
      "   0.14825132]\n",
      " [ 0.13172205  0.01142771  1.         ... -0.12039489  0.03108918\n",
      "  -0.01545321]\n",
      " ...\n",
      " [ 0.19374986  0.21600701 -0.12039489 ...  0.99999976  0.34049508\n",
      "   0.12608662]\n",
      " [ 0.15134448 -0.02442844  0.03108918 ...  0.34049508  0.99999994\n",
      "   0.04931928]\n",
      " [-0.00883224  0.14825132 -0.01545321 ...  0.12608662  0.04931928\n",
      "   1.        ]]\n"
     ]
    }
   ],
   "source": [
    "from sklearn.metrics.pairwise import cosine_similarity\n",
    "def cos_sim(input_vectors):\n",
    "    similarity = cosine_similarity(input_vectors)\n",
    "    return similarity\n",
    "cosine_similarity_matrix = cos_sim(np.array(embeddings))\n",
    "print(cosine_similarity_matrix)"
   ]
  },
  {
   "cell_type": "markdown",
   "metadata": {},
   "source": [
    "# Plots Similarity \n",
    "Plot and print a heat map showing the semantic contextual similarity between comments."
   ]
  },
  {
   "cell_type": "code",
   "execution_count": 13,
   "metadata": {},
   "outputs": [
    {
     "name": "stderr",
     "output_type": "stream",
     "text": [
      "D:\\Users\\robin\\anaconda3\\envs\\robin\\lib\\site-packages\\seaborn\\matrix.py:311: UserWarning: Attempting to set identical left == right == 0 results in singular transformations; automatically expanding.\n",
      "  ax.set(xlim=(0, self.data.shape[1]), ylim=(0, self.data.shape[0]))\n",
      "D:\\Users\\robin\\anaconda3\\envs\\robin\\lib\\site-packages\\seaborn\\matrix.py:311: UserWarning: Attempting to set identical bottom == top == 0 results in singular transformations; automatically expanding.\n",
      "  ax.set(xlim=(0, self.data.shape[1]), ylim=(0, self.data.shape[0]))\n"
     ]
    },
    {
     "data": {
      "image/png": "[encoded data removed]",
      "text/plain": [
       "<Figure size 432x288 with 2 Axes>"
      ]
     },
     "metadata": {},
     "output_type": "display_data"
    }
   ],
   "source": [
    "import seaborn as sns\n",
    "def plot_similarity(labels, features, rotation):\n",
    "  corr = np.inner(features, features)\n",
    "  sns.set(font_scale=1.2)\n",
    "  g = sns.heatmap(\n",
    "      corr,\n",
    "      xticklabels=labels,\n",
    "      yticklabels=labels,\n",
    "      vmin=0,\n",
    "      vmax=1,\n",
    "      cmap=\"YlOrRd\")\n",
    "  g.set_xticklabels(labels, rotation=rotation)\n",
    "  g.set_title(\"Semantic Textual Similarity\")\n",
    "\n",
    "num_samples = 5\n",
    "off_set = 10000\n",
    "\n",
    "plot_similarity(data.iloc[off_set:off_set+num_samples]['cleaned'], embeddings[off_set:off_set+num_samples], 90)"
   ]
  },
  {
   "cell_type": "markdown",
   "metadata": {},
   "source": [
    "# Show neighbours of a comment \n",
    "Define which comment to analyze"
   ]
  },
  {
   "cell_type": "code",
   "execution_count": 14,
   "metadata": {},
   "outputs": [
    {
     "name": "stdout",
     "output_type": "stream",
     "text": [
      "Unfortunatelty for human kind and by the way biodeversity, her beauty is as\n",
      "big as her stupidity and ignorance; I mean she has a so low consciousness\n",
      "level, and no scientific thinking basis to understand such questions. She\n",
      "should just talk about fashion, shopping, like other girls like her, something\n",
      "more in her scope. Or maybe I am wrong, because she has seemed to study a bit\n",
      "some Physics, and so maybe she can understand these kind of questions but then\n",
      "she is so bad, so dishonest with so low values, that she is just corrupted by\n",
      "big companies for the best of her wallet and the worst for the world.  \n",
      "  \n",
      "We could make a song for her after the one from Nirvana, like : the girl who\n",
      "solds the world; which is more appropiate and it rhymes at least\n",
      "\n",
      "\n"
     ]
    }
   ],
   "source": [
    "comment_index = 324\n",
    "comment = data[\"cleaned\"][comment_index]\n",
    "comment_list = data[\"cleaned\"].tolist()\n",
    "print(comment)"
   ]
  },
  {
   "cell_type": "markdown",
   "metadata": {},
   "source": [
    "Print similar comments."
   ]
  },
  {
   "cell_type": "code",
   "execution_count": 15,
   "metadata": {},
   "outputs": [
    {
     "name": "stdout",
     "output_type": "stream",
     "text": [
      "Top similar comment 1: Unfortunatelty for human kind and by the way biodeversity, her beauty is as\n",
      "big as her stupidity and ignorance; I mean she has a so low consciousness\n",
      "level, and no scientific thinking basis to understand such questions. She\n",
      "should just talk about fashion, shopping, like other girls like her, something\n",
      "more in her scope. Or maybe I am wrong, because she has seemed to study a bit\n",
      "some Physics, and so maybe she can understand these kind of questions but then\n",
      "she is so bad, so dishonest with so low values, that she is just corrupted by\n",
      "big companies for the best of her wallet and the worst for the world.  \n",
      "  \n",
      "We could make a song for her after the one from Nirvana, like : the girl who\n",
      "solds the world; which is more appropiate and it rhymes at least\n",
      "\n",
      "\n",
      "Top similar comment 2: Truly this girl does not understand the meaning of the word skeptic. Skeptic\n",
      "(greek is my language) means thinking, everyone thinks but thinking as beliefs\n",
      "are different than facts. Also, this girl talks about humans like they are the\n",
      "only thing that should walk on this earth. It's all about us. The none ending\n",
      "self-centered human selfishness on denying terribly actions on the name of the\n",
      "innovation because some humans benefited. Progress & innovation that she is\n",
      "talking about has come with a high cost (killing each other, killing animals,\n",
      "posing our lands etc). Each of us has the right to think and question things\n",
      "but not put our loudmouths to promote climate denial which we are facing each\n",
      "day unless you have FACTS.\n",
      "\n",
      "\n",
      "Top similar comment 3: At this point I ask myself, how dumb must a lie be, how transparent must a\n",
      "hoax be, how obvious must a deceipt be .. to be recognized by todays young\n",
      "people. This girl is much younger that most of these FFF idiots and she\n",
      "recognized it as early as in school by simply adding one plus one. All these\n",
      "climate believers should be embarrassed.\n",
      "\n",
      "\n",
      "Top similar comment 4: The girl has been misled, as have most of the commenters. It's hard to believe\n",
      "that persons are willing to destroy the world we know for whatever selfish\n",
      "reason they may have. The science is overwhelming that without an all-out\n",
      "effort to head off the world's greatest threat life will become far more\n",
      "difficult for most living things. I have spent nine years in retirement\n",
      "following the science. There is simply no credible research to support the\n",
      "idea that planetary overheating isn't happening, that it isn't setting off\n",
      "more powerful weather events, that it isn't causing sea level rise that will\n",
      "devour the habitation of hundreds of millions of people, that it isn't\n",
      "contributing the a vast loss of marine life, that it won't cause mass\n",
      "migrations and social disruption, that it won't disrupt your way of life. The\n",
      "evidence increases that time is running out. People who refuse to investigate\n",
      "the research are wilfully blind or morally corrupt. It's nuts that we would\n",
      "let this happen for any short-term profit or a desire to belong to your\n",
      "misinformed group rather than allow yourself to see what is happening.\n",
      "\n",
      "\n",
      "Top similar comment 5:  - Calling the girl a little Nazi and denigrating her parents\n",
      "because you don't like what she is saying does not speak very well for your\n",
      "character!... I find it very refreshing to listen to a young girl who can\n",
      "think and speak for herself!!... only students who lack basic intelligence\n",
      "would believe all the crap that they are being indoctrinated in from a very\n",
      "young age, this is happening in schools all around the world, thankfully she\n",
      "is not alone which gives hope for the future that the next generated just\n",
      "might not mature to be the moronic robots who worship the puppet Greta, and\n",
      "blindly follow and believe all her scripted bullshit! Think for a second if\n",
      "you can, about the massive money and power that is behind promoting Thumberg\n",
      "and her nonsense for their own agenda, and not for the good of mankind or the\n",
      "world!!\n",
      "\n",
      "\n",
      "Top similar comment 6: LOL she is \"questioning\" the narrative instead of promoting it she says. She\n",
      "is just instead promoting the typical opposite climate skeptics narrative. She\n",
      "is obviously clueless about climate change science (and science in general),\n",
      "but she reminds us \"science is based on intellectual humility\". Humility would\n",
      "be to not call \"incoherent\" models that she cannot understand even\n",
      "qualitatively. She is truly a greta-like person, telling a scripted discourse\n",
      "that she does not really grasp; she just chose the opposite camp.\n",
      "\n",
      "\n",
      "Top similar comment 7: Are you seriously?! Yes, how much can you put on the screen little girls who\n",
      "dare to speak smartly on scientific topics in which they have no competence.\n",
      "All these conversations are pure propaganda, for the purpose of which these\n",
      "little girls are used. Enough propaganda! Stop holding people for morons!\n",
      "Better let these sponsors spend their money on providing free high-quality\n",
      "academic education to all segments of the population. And all the modern\n",
      "institutes of propaganda of fashionable parties of feminists, eco-activists\n",
      "and LGBT people need to be closed. Stop growing idiots! After all, one day\n",
      "these idiots will begin to occupy places in the government, become employees\n",
      "at nuclear power plants, etc. The only real threat to our entire planet is\n",
      "idiots living under the influence of propaganda.\n",
      "\n",
      "\n",
      "Top similar comment 8: I like how she comes in introduced by Heartland's James Taylor, who's a true\n",
      "piece of shit, even by the standards of lying scumbag deniers. But I suppose\n",
      "that's beside the point...  \n",
      "@ 2:14 _\" These days, climate change science really isn't a science at all.\"_  \n",
      "In case anyone with an IQ above a houseplant is watching, that's her\n",
      "acknowledging that she doesn't have the first clue of what she's talking\n",
      "about.  \n",
      " _\" These self-proclaimed scientists - we've heard it today - draw their\n",
      "conclusions before even testing their hypothesis, and they base their\n",
      "assumptions on completely incoherent models.\"_  \n",
      "... said the teenager to generations worth of 's PhD researchers into\n",
      "the physical sciences. I'm sure those \"self-proclaimed\" scientists at the US\n",
      "National Academy of Sciences, and in the physics faculties at every major\n",
      "American university, will find her Einstein-like insights into the physical\n",
      "sciences quite compelling.\n",
      "\n",
      "\n",
      "Top similar comment 9: Give that girl a steak...She needs protien..She looks so sickly..That Vegan\n",
      "diet will kill you..Stupid liberal loonies..god help us..!!\n",
      "\n",
      "\n",
      "Top similar comment 10: Poor girl looks sick, she is paid and used by the global elites to promote the\n",
      "agenda of the global elites and to protect their investments and corporations.\n",
      "Heartland Institute made millions from creating disinformation and anti-\n",
      "science for the tobacco industry in the 80s and now are paid millions by the\n",
      "fossil fuel corporations to spread anti-science once again. It's groups like\n",
      "these that can dangerously bring  back into the dark ages. Wake up to\n",
      "the real conspiracy people, follow the money! The science behind man-made\n",
      "Climate Change is bloody real and serious... Don't let these greedy fools get\n",
      "in the way of saving .\n",
      "\n",
      "\n",
      "Top similar comment 11: Smart girl she is indeed. Is there more like her? Only mistake, she is too\n",
      "young, is to believing in science. Today science is farce, an atheistic\n",
      "religion based on theories, assumptions and mathematics, almost never on\n",
      "facts.\n",
      "\n",
      "\n",
      "Top similar comment 12: @ Oh dear! Wong again. I know absolutely nothing about climate, but I'm\n",
      "going to explain everything to you! Einstein was more than right about his\n",
      "comparison between human stupidity and infinity; the former has few limits.\n",
      "Greta is Great🤣😂🤡. But a sick, manipulated child who needs medical treatment.\n",
      "Every day☹.\n",
      "\n",
      "\n",
      "Top similar comment 13: @ the issue is pretty much settle. At least in the scientific\n",
      "comunity. You could talk about the extend and results, but the question\n",
      "anthropogenic global climate change: yes or no is answered to 99%. The problem\n",
      "is that you can bring as much good studies as you want, it doesn't gonna\n",
      "change what ppl. believe. You can see it in the comment section here. It's not\n",
      "about facts, it's about beliving. You have here an echo chamber of self\n",
      "aclaimed \"critical thinkers\" and \"scientist philosopher\" that would refute any\n",
      "good study that contratict their mantra of \"climate change is fake\". I doubt\n",
      "that many here read any scientific studies or are even able to do it. A great\n",
      "example is the video itself. You have a 19y old girl starting with her little\n",
      "story that add nothing to why she should have an expertise on that subjects. I\n",
      "laughed real hard hearing a 19y old self proclaimed sceptic (clearly showing\n",
      "she jump on every bandwagon, true or not, she statet herself she followed the\n",
      "opposit view) describing why science is wrong. Bashing scientist and \"showing\n",
      "us the problem of science\" while she has no proper education on that mater.\n",
      "\n",
      "\n",
      "Top similar comment 14: not to be blunt but she is so unbearably stupid. save this poor girl.\n",
      "\n",
      "\n",
      "Top similar comment 15: How sad - she doesn't undertand that good science is based on peer review -\n",
      "that is the critical assessment of any research and conclusions made on the\n",
      "basis of that research. Further, tood science must be free of bias and vested\n",
      "interests and be based on facts and evidence alone. It's fine to be a sceptic,\n",
      "that's what good science is all about and she rightly states this - but that\n",
      "is the purpose of peer review - to be sceptical. There is consensus among\n",
      "climate scientists around the world, that the present climate change is due to\n",
      "human activities. This consensus is based on peer reviewed research by\n",
      "scientists with a background in climate-related fields. These are not articles\n",
      "written by someone with a degree in engineering or a physicist with speciality\n",
      "on optics, or someone with a PhD in Chinese philosophy... The vast majority of\n",
      "the \"climate-denier\" scientists belong to the latter group, they do not have a\n",
      "relevant background and their publications are rarely peer-reviewed. Or, they\n",
      "are supported by Big Oil.(Yes, follow the money.) Instead of blindly believing\n",
      "any article that comes out, it pays to go behind the scene and find out if\n",
      "this person actually knows what he/she is talking about or if there is a\n",
      "vested interest behind... Also, she says that the \"climate-alarmists\" are\n",
      "ashamed of human achievements. Good Lord what crap! No one I have ever heard\n",
      "of is ashamed of our achievements, but we can admit that certain things are\n",
      "not going in the right direction and that we should do something about it\n",
      "(e.g. pollution, over-fishing, biodiversity loss, over population, climate\n",
      "change, etc…) It is precisely due to our achievements, that we now have the\n",
      "technology and ability to actually do something about our various problems and\n",
      "crisis. The problem is people who believe we just can continue what we are\n",
      "doing, continue to consume more resources than can be regenerated, continue to\n",
      "expand areas that have become uninhabitable, continue to degrade our planet...\n",
      "Business as usual is not an option - there is no Planet B.\n",
      "\n",
      "\n",
      "Top similar comment 16: It is a shame how this girl is insulting thousands of highly educated\n",
      "scientist, studying weather and climate for decades. Naomi, please ask\n",
      "yourself honstly if you realy believe what you are telling here. This video is\n",
      "full of lies. What you call the thuth is simply lies, lies lies. Stop selling\n",
      "yourself to the fossil fuel industry.  \n",
      "Of course mankind can be proud of what was achieve, but today we must\n",
      "radically change our energy sources. Coal and Oil are death.\n",
      "\n",
      "\n",
      "Top similar comment 17: This is a high and low point for . Despite of the medical and\n",
      "scientific advancements, ignorance is still a real thing. A point that is\n",
      "stated is: How self proclaimed scientists are not proving their hypothesis in\n",
      "their facts. This is not true, as many intellectuals are and have used science\n",
      "to prove themselves correct. This brings us to her opinion on science, which\n",
      "is: Science is based on intellectual Humility. I disagree, for science is how\n",
      "the universe works, and we cannot bend it to suit our thoughts.\n",
      "\n",
      "\n",
      "Top similar comment 18: @ There is no education on the matter.It is far too complex for us\n",
      "humans to comprehend. The reality is we are a specie living as nature in\n",
      "nature, no more no less. Science is a study, sometimes there is good things\n",
      "that come from that study, sometimes bad things come out of that study. At\n",
      "this stage we have created quite a few things that maybe has damaged us as a\n",
      "specie, and some that has improved us. But climate we haven't even made a dent\n",
      "and i don't think we ever will. As for Naomi, she is a very intelligent girl,\n",
      "who lays no claim to having any superior knowledge of science. She is just\n",
      "advising people not to accept all they hear from the mainstream media on\n",
      "climate, because there is no debate allowed on the subject. Which should be a\n",
      "clue that there is an agenda. They call you a climate denier, what does that\n",
      "mean, i don't know of anybody who is a climate denier. Most people are aware\n",
      "that the climate constantly changes, the why is where the debate lies. By the\n",
      "way, i have noticed, that people have a tendency to judge others and put a\n",
      "label on them, like Naomi jumping on a bandwagon, how do you know why she is\n",
      "doing this, she may have very good reason to make a stand, which to me\n",
      "personally, i believe she has good reason, and has more courage than most of\n",
      "us, who sit down at our computers, to write our comments.\n",
      "\n",
      "\n",
      "Top similar comment 19: @ The girl's name is Naomi Seibert. If U looked at the title\n",
      "of video U would at least know that much! Now for her real bck gnd go to\n",
      "wikipedia. It say she grad HS, not college at 16. She was involved in a few\n",
      "sci fairs, but their is nothing about her having a BS degree or any claim that\n",
      "she authored ANY papers in climate sci or anything like that. She works for\n",
      "the Heartland Institute, a right wing anti thinking tank, which is a POLITICAL\n",
      "organization not a scientific one. Nothing she says uses ANY sci or principles\n",
      "based on the laws of established sci. She is not a trained scientist/engineer\n",
      "and has no ability to back up anything she says with any PROVEN peer reviewed\n",
      "sci. Thats not what the Heartland Institute hired her 4. They know if she\n",
      "tried to actually prove what she says and would be evaluated by scientist\n",
      "using real sci they would make a complete fool of her because she isnt capable\n",
      "of doing anything like that. Yet all the GW experts have to do that EVERY day\n",
      "just to have their ideas heard. Maybe U should actually look to see if she has\n",
      "any experience or training to back up what she actually says. Then U could\n",
      "judge her fairly.\n",
      "\n",
      "\n",
      "Top similar comment 20: Ok, she's talking about \" science \" all the time, BUT she hasn't quoted any\n",
      "DATA any RESEARCH, she said OH WHAT A WONDERFUL WORLD WE LIVE IN , And I say :\n",
      "Really? What a wonderful world you, as a mid-class European girl live in, go\n",
      "and ask the rest of the \" World \" , said that you have to realize that the\n",
      "being for climate change is not being against progress!\n",
      "\n",
      "\n"
     ]
    }
   ],
   "source": [
    "def get_top_similar(sentence, sentence_list, similarity_matrix, topN):\n",
    "    # find the index of sentence in list\n",
    "    index = sentence_list.index(sentence)\n",
    "    # get the corresponding row in similarity matrix\n",
    "    similarity_row = np.array(similarity_matrix[index, :])\n",
    "    # get the indices of top similar\n",
    "    indices = similarity_row.argsort()[-topN:][::-1]\n",
    "    return [sentence_list[i] for i in indices]\n",
    "\n",
    "\n",
    "for i, value in enumerate(get_top_similar(comment, comment_list, cosine_similarity_matrix, 20)):\n",
    "  print(\"Top similar comment {}: {}\".format(i+1, value))"
   ]
  },
  {
   "cell_type": "code",
   "execution_count": null,
   "metadata": {},
   "outputs": [],
   "source": []
  }
 ],
 "metadata": {
  "colab": {
   "collapsed_sections": [],
   "name": "USE_Experiments_new.ipynb",
   "provenance": [],
   "toc_visible": true
  },
  "kernelspec": {
   "display_name": "Python 3",
   "language": "python",
   "name": "python3"
  },
  "language_info": {
   "codemirror_mode": {
    "name": "ipython",
    "version": 3
   },
   "file_extension": ".py",
   "mimetype": "text/x-python",
   "name": "python",
   "nbconvert_exporter": "python",
   "pygments_lexer": "ipython3",
   "version": "3.6.12"
  }
 },
 "nbformat": 4,
 "nbformat_minor": 4
}
