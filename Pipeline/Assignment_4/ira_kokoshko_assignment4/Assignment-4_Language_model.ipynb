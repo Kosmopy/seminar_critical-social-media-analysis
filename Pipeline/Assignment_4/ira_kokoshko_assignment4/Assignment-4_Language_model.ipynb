{
 "cells": [
  {
   "cell_type": "markdown",
   "metadata": {
    "id": "iFXsrSxJlzCW"
   },
   "source": [
    "#Introduction\n",
    "\n",
    ".....\n"
   ]
  },
  {
   "cell_type": "markdown",
   "metadata": {},
   "source": [
    "Check to see if jupyter lab uses the correct python interpreter with '!which python'.\n",
    "It should be something like '/opt/anaconda3/envs/[environment name]/bin/python' (on Mac).\n",
    "If not, try this: https://github.com/jupyter/notebook/issues/3146#issuecomment-352718675"
   ]
  },
  {
   "cell_type": "code",
   "execution_count": 8,
   "metadata": {},
   "outputs": [
    {
     "name": "stderr",
     "output_type": "stream",
     "text": [
      "'which' is not recognized as an internal or external command,\n",
      "operable program or batch file.\n"
     ]
    }
   ],
   "source": [
    "!which python"
   ]
  },
  {
   "cell_type": "code",
   "execution_count": 9,
   "metadata": {},
   "outputs": [
    {
     "name": "stderr",
     "output_type": "stream",
     "text": [
      "Python 3.6.12 :: Anaconda, Inc.\n"
     ]
    }
   ],
   "source": [
    "!python --version"
   ]
  },
  {
   "cell_type": "markdown",
   "metadata": {},
   "source": [
    "# Install dependencies:"
   ]
  },
  {
   "cell_type": "code",
   "execution_count": 10,
   "metadata": {
    "colab": {
     "base_uri": "https://localhost:8080/"
    },
    "id": "H0q7BTlbiCWW",
    "outputId": "32ddd123-4834-4913-f942-038e830d9276"
   },
   "outputs": [
    {
     "name": "stdout",
     "output_type": "stream",
     "text": [
      "Collecting package metadata (current_repodata.json): ...working... done\n",
      "Solving environment: ...working... done\n",
      "\n",
      "## Package Plan ##\n",
      "\n",
      "  environment location: C:\\Users\\Ira\\anaconda3\\envs\\csma\n",
      "\n",
      "  added / updated specs:\n",
      "    - tensorflow=2\n",
      "\n",
      "\n",
      "The following packages will be downloaded:\n",
      "\n",
      "    package                    |            build\n",
      "    ---------------------------|-----------------\n",
      "    ca-certificates-2020.10.14 |                0         122 KB\n",
      "    openssl-1.1.1h             |       he774522_0         4.8 MB\n",
      "    ------------------------------------------------------------\n",
      "                                           Total:         5.0 MB\n",
      "\n",
      "The following packages will be UPDATED:\n",
      "\n",
      "  certifi                anaconda::certifi-2020.6.20-py36_0 --> pkgs/main::certifi-2020.11.8-py36haa95532_0\n",
      "\n",
      "The following packages will be SUPERSEDED by a higher-priority channel:\n",
      "\n",
      "  ca-certificates                                  anaconda --> pkgs/main\n",
      "  openssl                                          anaconda --> pkgs/main\n",
      "\n",
      "\n",
      "\n",
      "Downloading and Extracting Packages\n",
      "\n",
      "ca-certificates-2020 | 122 KB    |            |   0% \n",
      "ca-certificates-2020 | 122 KB    | #3         |  13% \n",
      "ca-certificates-2020 | 122 KB    | ########## | 100% \n",
      "ca-certificates-2020 | 122 KB    | ########## | 100% \n",
      "\n",
      "openssl-1.1.1h       | 4.8 MB    |            |   0% \n",
      "openssl-1.1.1h       | 4.8 MB    | 3          |   4% \n",
      "openssl-1.1.1h       | 4.8 MB    | #          |  11% \n",
      "openssl-1.1.1h       | 4.8 MB    | #7         |  17% \n",
      "openssl-1.1.1h       | 4.8 MB    | ##4        |  25% \n",
      "openssl-1.1.1h       | 4.8 MB    | ###3       |  33% \n",
      "openssl-1.1.1h       | 4.8 MB    | ####1      |  41% \n",
      "openssl-1.1.1h       | 4.8 MB    | ####8      |  48% \n",
      "openssl-1.1.1h       | 4.8 MB    | #####5     |  55% \n",
      "openssl-1.1.1h       | 4.8 MB    | ######1    |  62% \n",
      "openssl-1.1.1h       | 4.8 MB    | ######8    |  68% \n",
      "openssl-1.1.1h       | 4.8 MB    | #######4   |  74% \n",
      "openssl-1.1.1h       | 4.8 MB    | ########2  |  82% \n",
      "openssl-1.1.1h       | 4.8 MB    | ########9  |  89% \n",
      "openssl-1.1.1h       | 4.8 MB    | #########6 |  96% \n",
      "openssl-1.1.1h       | 4.8 MB    | ########## | 100% \n",
      "Preparing transaction: ...working... done\n",
      "Verifying transaction: ...working... done\n",
      "Executing transaction: ...working... done\n",
      "Collecting package metadata (current_repodata.json): ...working... done\n",
      "Solving environment: ...working... done\n",
      "\n",
      "## Package Plan ##\n",
      "\n",
      "  environment location: C:\\Users\\Ira\\anaconda3\\envs\\csma\n",
      "\n",
      "  added / updated specs:\n",
      "    - pandas\n",
      "\n",
      "\n",
      "The following packages will be downloaded:\n",
      "\n",
      "    package                    |            build\n",
      "    ---------------------------|-----------------\n",
      "    ca-certificates-2020.10.14 |                0         159 KB  anaconda\n",
      "    openssl-1.1.1h             |       he774522_0         5.8 MB  anaconda\n",
      "    ------------------------------------------------------------\n",
      "                                           Total:         5.9 MB\n",
      "\n",
      "The following packages will be SUPERSEDED by a higher-priority channel:\n",
      "\n",
      "  ca-certificates                                 pkgs/main --> anaconda\n",
      "  certifi            pkgs/main::certifi-2020.11.8-py36haa9~ --> anaconda::certifi-2020.6.20-py36_0\n",
      "  openssl                                         pkgs/main --> anaconda\n",
      "\n",
      "\n",
      "\n",
      "Downloading and Extracting Packages\n",
      "\n",
      "openssl-1.1.1h       | 5.8 MB    |            |   0% \n",
      "openssl-1.1.1h       | 5.8 MB    |            |   0% \n",
      "openssl-1.1.1h       | 5.8 MB    | 6          |   7% \n",
      "openssl-1.1.1h       | 5.8 MB    | #6         |  17% \n",
      "openssl-1.1.1h       | 5.8 MB    | ##6        |  27% \n",
      "openssl-1.1.1h       | 5.8 MB    | ###5       |  35% \n",
      "openssl-1.1.1h       | 5.8 MB    | ####4      |  44% \n",
      "openssl-1.1.1h       | 5.8 MB    | #####2     |  53% \n",
      "openssl-1.1.1h       | 5.8 MB    | ######1    |  62% \n",
      "openssl-1.1.1h       | 5.8 MB    | #######    |  71% \n",
      "openssl-1.1.1h       | 5.8 MB    | #######8   |  79% \n",
      "openssl-1.1.1h       | 5.8 MB    | ########7  |  87% \n",
      "openssl-1.1.1h       | 5.8 MB    | #########5 |  96% \n",
      "openssl-1.1.1h       | 5.8 MB    | ########## | 100% \n",
      "\n",
      "ca-certificates-2020 | 159 KB    |            |   0% \n",
      "ca-certificates-2020 | 159 KB    | ########## | 100% \n",
      "ca-certificates-2020 | 159 KB    | ########## | 100% \n",
      "Preparing transaction: ...working... done\n",
      "Verifying transaction: ...working... done\n",
      "Executing transaction: ...working... done\n",
      "Collecting package metadata (current_repodata.json): ...working... done\n",
      "Solving environment: ...working... done\n",
      "\n",
      "## Package Plan ##\n",
      "\n",
      "  environment location: C:\\Users\\Ira\\anaconda3\\envs\\csma\n",
      "\n",
      "  added / updated specs:\n",
      "    - tensorflow-hub\n",
      "\n",
      "\n",
      "The following packages will be downloaded:\n",
      "\n",
      "    package                    |            build\n",
      "    ---------------------------|-----------------\n",
      "    openssl-1.1.1h             |       he774522_0         5.8 MB  conda-forge\n",
      "    ------------------------------------------------------------\n",
      "                                           Total:         5.8 MB\n",
      "\n",
      "The following packages will be UPDATED:\n",
      "\n",
      "  ca-certificates    anaconda::ca-certificates-2020.10.14-0 --> conda-forge::ca-certificates-2020.11.8-h5b45459_0\n",
      "  certifi                anaconda::certifi-2020.6.20-py36_0 --> conda-forge::certifi-2020.11.8-py36ha15d459_0\n",
      "\n",
      "The following packages will be SUPERSEDED by a higher-priority channel:\n",
      "\n",
      "  openssl                                          anaconda --> conda-forge\n",
      "\n",
      "\n",
      "\n",
      "Downloading and Extracting Packages\n",
      "\n",
      "openssl-1.1.1h       | 5.8 MB    |            |   0% \n",
      "openssl-1.1.1h       | 5.8 MB    |            |   0% \n",
      "openssl-1.1.1h       | 5.8 MB    | 7          |   8% \n",
      "openssl-1.1.1h       | 5.8 MB    | #6         |  16% \n",
      "openssl-1.1.1h       | 5.8 MB    | ##4        |  24% \n",
      "openssl-1.1.1h       | 5.8 MB    | ###3       |  34% \n",
      "openssl-1.1.1h       | 5.8 MB    | ####1      |  42% \n",
      "openssl-1.1.1h       | 5.8 MB    | ####8      |  49% \n",
      "openssl-1.1.1h       | 5.8 MB    | #####6     |  57% \n",
      "openssl-1.1.1h       | 5.8 MB    | ######6    |  67% \n",
      "openssl-1.1.1h       | 5.8 MB    | #######4   |  75% \n",
      "openssl-1.1.1h       | 5.8 MB    | ########3  |  84% \n",
      "openssl-1.1.1h       | 5.8 MB    | #########2 |  92% \n",
      "openssl-1.1.1h       | 5.8 MB    | ########## | 100% \n",
      "Preparing transaction: ...working... done\n",
      "Verifying transaction: ...working... done\n",
      "Executing transaction: ...working... done\n",
      "Collecting package metadata (current_repodata.json): ...working... done\n",
      "Solving environment: ...working... done\n",
      "\n",
      "## Package Plan ##\n",
      "\n",
      "  environment location: C:\\Users\\Ira\\anaconda3\\envs\\csma\n",
      "\n",
      "  added / updated specs:\n",
      "    - html2text\n",
      "\n",
      "\n",
      "The following packages will be downloaded:\n",
      "\n",
      "    package                    |            build\n",
      "    ---------------------------|-----------------\n",
      "    ca-certificates-2020.10.14 |                0         122 KB\n",
      "    html2text-2020.1.16        |             py_0          33 KB  conda-forge\n",
      "    openssl-1.1.1h             |       he774522_0         4.8 MB\n",
      "    ------------------------------------------------------------\n",
      "                                           Total:         5.0 MB\n",
      "\n",
      "The following NEW packages will be INSTALLED:\n",
      "\n",
      "  html2text          conda-forge/noarch::html2text-2020.1.16-py_0\n",
      "\n",
      "The following packages will be SUPERSEDED by a higher-priority channel:\n",
      "\n",
      "  ca-certificates    conda-forge::ca-certificates-2020.11.~ --> pkgs/main::ca-certificates-2020.10.14-0\n",
      "  certifi            conda-forge::certifi-2020.11.8-py36ha~ --> pkgs/main::certifi-2020.11.8-py36haa95532_0\n",
      "  openssl                                       conda-forge --> pkgs/main\n",
      "\n",
      "\n",
      "\n",
      "Downloading and Extracting Packages\n",
      "\n",
      "html2text-2020.1.16  | 33 KB     |            |   0% \n",
      "html2text-2020.1.16  | 33 KB     | ####7      |  48% \n",
      "html2text-2020.1.16  | 33 KB     | ########## | 100% \n",
      "html2text-2020.1.16  | 33 KB     | ########## | 100% \n",
      "\n",
      "openssl-1.1.1h       | 4.8 MB    |            |   0% \n",
      "openssl-1.1.1h       | 4.8 MB    |            |   0% \n",
      "openssl-1.1.1h       | 4.8 MB    | 9          |   9% \n",
      "openssl-1.1.1h       | 4.8 MB    | #8         |  18% \n",
      "openssl-1.1.1h       | 4.8 MB    | ##6        |  26% \n",
      "openssl-1.1.1h       | 4.8 MB    | ###4       |  35% \n",
      "openssl-1.1.1h       | 4.8 MB    | ####3      |  44% \n",
      "openssl-1.1.1h       | 4.8 MB    | #####2     |  53% \n",
      "openssl-1.1.1h       | 4.8 MB    | ######1    |  62% \n",
      "openssl-1.1.1h       | 4.8 MB    | ######9    |  70% \n",
      "openssl-1.1.1h       | 4.8 MB    | #######8   |  79% \n",
      "openssl-1.1.1h       | 4.8 MB    | ########8  |  88% \n",
      "openssl-1.1.1h       | 4.8 MB    | #########7 |  98% \n",
      "openssl-1.1.1h       | 4.8 MB    | ########## | 100% \n",
      "\n",
      "ca-certificates-2020 | 122 KB    |            |   0% \n",
      "ca-certificates-2020 | 122 KB    | ########## | 100% \n",
      "ca-certificates-2020 | 122 KB    | ########## | 100% \n",
      "Preparing transaction: ...working... done\n",
      "Verifying transaction: ...working... done\n",
      "Executing transaction: ...working... done\n",
      "Collecting package metadata (current_repodata.json): ...working... done\n",
      "Solving environment: ...working... done\n",
      "\n",
      "## Package Plan ##\n",
      "\n",
      "  environment location: C:\\Users\\Ira\\anaconda3\\envs\\csma\n",
      "\n",
      "  added / updated specs:\n",
      "    - tqdm\n",
      "\n",
      "\n",
      "The following packages will be downloaded:\n",
      "\n",
      "    package                    |            build\n",
      "    ---------------------------|-----------------\n",
      "    openssl-1.1.1h             |       he774522_0         5.8 MB  conda-forge\n",
      "    ------------------------------------------------------------\n",
      "                                           Total:         5.8 MB\n",
      "\n",
      "The following packages will be UPDATED:\n",
      "\n",
      "  ca-certificates    pkgs/main::ca-certificates-2020.10.14~ --> conda-forge::ca-certificates-2020.11.8-h5b45459_0\n",
      "\n",
      "The following packages will be SUPERSEDED by a higher-priority channel:\n",
      "\n",
      "  certifi            pkgs/main::certifi-2020.11.8-py36haa9~ --> conda-forge::certifi-2020.11.8-py36ha15d459_0\n",
      "  openssl                                         pkgs/main --> conda-forge\n",
      "\n",
      "\n",
      "\n",
      "Downloading and Extracting Packages\n",
      "\n",
      "openssl-1.1.1h       | 5.8 MB    |            |   0% \n",
      "openssl-1.1.1h       | 5.8 MB    |            |   0% \n",
      "openssl-1.1.1h       | 5.8 MB    | 8          |   8% \n",
      "openssl-1.1.1h       | 5.8 MB    | #3         |  14% \n",
      "openssl-1.1.1h       | 5.8 MB    | #8         |  19% \n",
      "openssl-1.1.1h       | 5.8 MB    | ##5        |  26% \n",
      "openssl-1.1.1h       | 5.8 MB    | ###3       |  33% \n",
      "openssl-1.1.1h       | 5.8 MB    | ###8       |  39% \n",
      "openssl-1.1.1h       | 5.8 MB    | ####3      |  43% \n",
      "openssl-1.1.1h       | 5.8 MB    | ####8      |  48% \n",
      "openssl-1.1.1h       | 5.8 MB    | #####5     |  56% \n",
      "openssl-1.1.1h       | 5.8 MB    | ######3    |  63% \n",
      "openssl-1.1.1h       | 5.8 MB    | #######    |  70% \n",
      "openssl-1.1.1h       | 5.8 MB    | #######7   |  77% \n",
      "openssl-1.1.1h       | 5.8 MB    | ########4  |  85% \n",
      "openssl-1.1.1h       | 5.8 MB    | #########1 |  92% \n",
      "openssl-1.1.1h       | 5.8 MB    | #########9 |  99% \n",
      "openssl-1.1.1h       | 5.8 MB    | ########## | 100% \n",
      "Preparing transaction: ...working... done\n",
      "Verifying transaction: ...working... done\n",
      "Executing transaction: ...working... done\n",
      "Collecting package metadata (current_repodata.json): ...working... done\n",
      "Solving environment: ...working... done\n",
      "\n",
      "## Package Plan ##\n",
      "\n",
      "  environment location: C:\\Users\\Ira\\anaconda3\\envs\\csma\n",
      "\n",
      "  added / updated specs:\n",
      "    - scikit-learn\n",
      "\n",
      "\n",
      "The following packages will be downloaded:\n",
      "\n",
      "    package                    |            build\n",
      "    ---------------------------|-----------------\n",
      "    ca-certificates-2020.10.14 |                0         159 KB  anaconda\n",
      "    openssl-1.1.1h             |       he774522_0         5.8 MB  anaconda\n",
      "    ------------------------------------------------------------\n",
      "                                           Total:         5.9 MB\n",
      "\n",
      "The following packages will be SUPERSEDED by a higher-priority channel:\n",
      "\n",
      "  ca-certificates    conda-forge::ca-certificates-2020.11.~ --> anaconda::ca-certificates-2020.10.14-0\n",
      "  certifi            conda-forge::certifi-2020.11.8-py36ha~ --> anaconda::certifi-2020.6.20-py36_0\n",
      "  openssl                                       conda-forge --> anaconda\n",
      "\n",
      "\n",
      "\n",
      "Downloading and Extracting Packages\n",
      "\n",
      "openssl-1.1.1h       | 5.8 MB    |            |   0% \n",
      "openssl-1.1.1h       | 5.8 MB    |            |   0% \n",
      "openssl-1.1.1h       | 5.8 MB    | 7          |   8% \n",
      "openssl-1.1.1h       | 5.8 MB    | #5         |  15% \n",
      "openssl-1.1.1h       | 5.8 MB    | ##2        |  22% \n",
      "openssl-1.1.1h       | 5.8 MB    | ##9        |  29% \n",
      "openssl-1.1.1h       | 5.8 MB    | ###5       |  36% \n",
      "openssl-1.1.1h       | 5.8 MB    | ####2      |  42% \n",
      "openssl-1.1.1h       | 5.8 MB    | ####9      |  49% \n",
      "openssl-1.1.1h       | 5.8 MB    | #####6     |  57% \n",
      "openssl-1.1.1h       | 5.8 MB    | ######4    |  64% \n",
      "openssl-1.1.1h       | 5.8 MB    | #######2   |  72% \n",
      "openssl-1.1.1h       | 5.8 MB    | #######8   |  79% \n",
      "openssl-1.1.1h       | 5.8 MB    | ########5  |  86% \n",
      "openssl-1.1.1h       | 5.8 MB    | #########3 |  93% \n",
      "openssl-1.1.1h       | 5.8 MB    | ########## | 100% \n",
      "openssl-1.1.1h       | 5.8 MB    | ########## | 100% \n",
      "\n",
      "ca-certificates-2020 | 159 KB    |            |   0% \n",
      "ca-certificates-2020 | 159 KB    | ########## | 100% \n",
      "ca-certificates-2020 | 159 KB    | ########## | 100% \n",
      "Preparing transaction: ...working... done\n",
      "Verifying transaction: ...working... done\n",
      "Executing transaction: ...working... done\n",
      "Collecting package metadata (current_repodata.json): ...working... done\n",
      "Solving environment: ...working... done\n",
      "\n",
      "## Package Plan ##\n",
      "\n",
      "  environment location: C:\\Users\\Ira\\anaconda3\\envs\\csma\n",
      "\n",
      "  added / updated specs:\n",
      "    - matplotlib\n",
      "\n",
      "\n",
      "The following packages will be downloaded:\n",
      "\n",
      "    package                    |            build\n",
      "    ---------------------------|-----------------\n",
      "    openssl-1.1.1h             |       he774522_0         5.8 MB  conda-forge\n",
      "    ------------------------------------------------------------\n",
      "                                           Total:         5.8 MB\n",
      "\n",
      "The following packages will be UPDATED:\n",
      "\n",
      "  ca-certificates    anaconda::ca-certificates-2020.10.14-0 --> conda-forge::ca-certificates-2020.11.8-h5b45459_0\n",
      "  certifi                anaconda::certifi-2020.6.20-py36_0 --> conda-forge::certifi-2020.11.8-py36ha15d459_0\n",
      "\n",
      "The following packages will be SUPERSEDED by a higher-priority channel:\n",
      "\n",
      "  openssl                                          anaconda --> conda-forge\n",
      "\n",
      "\n",
      "\n",
      "Downloading and Extracting Packages\n",
      "\n",
      "openssl-1.1.1h       | 5.8 MB    |            |   0% \n",
      "openssl-1.1.1h       | 5.8 MB    |            |   0% \n",
      "openssl-1.1.1h       | 5.8 MB    | 7          |   7% \n",
      "openssl-1.1.1h       | 5.8 MB    | #4         |  14% \n",
      "openssl-1.1.1h       | 5.8 MB    | ##1        |  21% \n",
      "openssl-1.1.1h       | 5.8 MB    | ##9        |  29% \n",
      "openssl-1.1.1h       | 5.8 MB    | ###6       |  36% \n",
      "openssl-1.1.1h       | 5.8 MB    | ####3      |  43% \n",
      "openssl-1.1.1h       | 5.8 MB    | #####1     |  51% \n",
      "openssl-1.1.1h       | 5.8 MB    | #####7     |  58% \n",
      "openssl-1.1.1h       | 5.8 MB    | ######4    |  65% \n",
      "openssl-1.1.1h       | 5.8 MB    | #######2   |  73% \n",
      "openssl-1.1.1h       | 5.8 MB    | ########   |  80% \n",
      "openssl-1.1.1h       | 5.8 MB    | ########7  |  87% \n",
      "openssl-1.1.1h       | 5.8 MB    | #########4 |  95% \n",
      "openssl-1.1.1h       | 5.8 MB    | ########## | 100% \n",
      "Preparing transaction: ...working... done\n",
      "Verifying transaction: ...working... done\n",
      "Executing transaction: ...working... done\n",
      "Collecting package metadata (current_repodata.json): ...working... done\n",
      "Solving environment: ...working... done\n",
      "\n",
      "## Package Plan ##\n",
      "\n",
      "  environment location: C:\\Users\\Ira\\anaconda3\\envs\\csma\n",
      "\n",
      "  added / updated specs:\n",
      "    - seaborn\n",
      "\n",
      "\n",
      "The following packages will be downloaded:\n",
      "\n",
      "    package                    |            build\n",
      "    ---------------------------|-----------------\n",
      "    openssl-1.1.1h             |       he774522_0         5.8 MB  anaconda\n",
      "    ------------------------------------------------------------\n",
      "                                           Total:         5.8 MB\n",
      "\n",
      "The following packages will be SUPERSEDED by a higher-priority channel:\n",
      "\n",
      "  ca-certificates    conda-forge::ca-certificates-2020.11.~ --> anaconda::ca-certificates-2020.10.14-0\n",
      "  certifi            conda-forge::certifi-2020.11.8-py36ha~ --> anaconda::certifi-2020.6.20-py36_0\n",
      "  openssl                                       conda-forge --> anaconda\n",
      "\n",
      "\n",
      "\n",
      "Downloading and Extracting Packages\n",
      "\n",
      "openssl-1.1.1h       | 5.8 MB    |            |   0% \n",
      "openssl-1.1.1h       | 5.8 MB    |            |   0% \n",
      "openssl-1.1.1h       | 5.8 MB    | 7          |   7% \n",
      "openssl-1.1.1h       | 5.8 MB    | #4         |  14% \n",
      "openssl-1.1.1h       | 5.8 MB    | ##2        |  23% \n",
      "openssl-1.1.1h       | 5.8 MB    | ###1       |  32% \n",
      "openssl-1.1.1h       | 5.8 MB    | ####1      |  41% \n",
      "openssl-1.1.1h       | 5.8 MB    | #####1     |  51% \n",
      "openssl-1.1.1h       | 5.8 MB    | #####9     |  60% \n",
      "openssl-1.1.1h       | 5.8 MB    | ######9    |  69% \n",
      "openssl-1.1.1h       | 5.8 MB    | #######8   |  78% \n",
      "openssl-1.1.1h       | 5.8 MB    | ########7  |  88% \n",
      "openssl-1.1.1h       | 5.8 MB    | #########6 |  96% \n",
      "openssl-1.1.1h       | 5.8 MB    | ########## | 100% \n",
      "Preparing transaction: ...working... done\n",
      "Verifying transaction: ...working... done\n",
      "Executing transaction: ...working... done\n"
     ]
    },
    {
     "name": "stderr",
     "output_type": "stream",
     "text": [
      "WARNING conda.gateways.disk.delete:unlink_or_rename_to_trash(139): Could not remove or rename C:\\Users\\Ira\\anaconda3\\pkgs\\openssl-1.1.1h-he774522_0\\Library\\bin\\libssl-1_1-x64.dll.conda_trash.conda_trash.conda_trash.conda_trash.conda_trash.conda_trash.conda_trash.conda_trash.conda_trash.conda_trash.conda_trash.conda_trash.conda_trash.conda_trash.  Please remove this file manually (you may need to reboot to free file handles)\n"
     ]
    }
   ],
   "source": [
    "install_packages = True\n",
    "if install_packages:\n",
    "    !conda install tensorflow=2 -y\n",
    "    !conda install -c anaconda pandas -y\n",
    "    !conda install -c conda-forge tensorflow-hub -y\n",
    "    !conda install -c akode html2text -y\n",
    "    !conda install -c conda-forge tqdm -y\n",
    "    !conda install -c anaconda scikit-learn -y\n",
    "    !conda install -c conda-forge matplotlib -y\n",
    "    !conda install -c anaconda seaborn -y"
   ]
  },
  {
   "cell_type": "markdown",
   "metadata": {},
   "source": [
    "# Imports"
   ]
  },
  {
   "cell_type": "code",
   "execution_count": 11,
   "metadata": {
    "id": "xD4HKjy9TC-g"
   },
   "outputs": [],
   "source": [
    "#imports\n",
    "import pandas as pd\n",
    "import numpy as np\n",
    "import os\n",
    "import time\n",
    "import tensorflow as tf\n",
    "import tensorflow_hub as hub\n",
    "import zipfile\n",
    "from html2text import HTML2Text\n",
    "from tqdm import tqdm\n",
    "import re\n",
    "from sklearn.metrics import pairwise_distances\n",
    "from sklearn.preprocessing import normalize\n",
    "import matplotlib.pyplot as plt\n",
    "import seaborn as sns"
   ]
  },
  {
   "cell_type": "markdown",
   "metadata": {},
   "source": [
    "# Set pandas print options\n",
    "This will improve readability of printed pandas dataframe.\n"
   ]
  },
  {
   "cell_type": "code",
   "execution_count": 12,
   "metadata": {
    "id": "SEH28FctS6SP"
   },
   "outputs": [],
   "source": [
    "pd.set_option('display.max_rows', None)\n",
    "pd.set_option('display.max_columns', None)\n",
    "pd.set_option('display.width', None)\n",
    "pd.set_option('display.max_colwidth', None)"
   ]
  },
  {
   "cell_type": "markdown",
   "metadata": {},
   "source": [
    "## Set global Parameters\n",
    "Set your parameters here:\n",
    "\n",
    "data_path: In this path put the data you have downloaded with YouTube Data Tools. \n",
    "output_path: Tghe files generated in this notebook will be saved here.\n",
    "\n",
    "url_dict: URLs to models on Tensorflow hub are saved here. Other models are available there.\n",
    "model_type: Define which model you would like to use. Choose one from url_dict\n",
    "\n",
    "new_embeddings: If this is true, new embeddings will be generated and saved at output_path. Otherwise, embeddings are loaded from Disc.\n",
    "\n",
    "\n"
   ]
  },
  {
   "cell_type": "code",
   "execution_count": 17,
   "metadata": {
    "id": "TL7Rvq_TD086"
   },
   "outputs": [],
   "source": [
    "data_path = './data/videoinfo_sMLnu2BQwzM_2020_11_29-22_12_29_comments.tab'\n",
    "output_path = \"./output/\"\n",
    "\n",
    "new_embeddings = True\n",
    "\n",
    "url_dict = {\n",
    "            'Transformer' : \"https://tfhub.dev/google/universal-sentence-encoder-large/5\",\n",
    "            'DAN' : \"https://tfhub.dev/google/universal-sentence-encoder/4\",\n",
    "            'Transformer_Multilingual': \"https://tfhub.dev/google/universal-sentence-encoder-multilingual-large/3\"\n",
    "}\n",
    "\n",
    "model_type = 'Transformer' #@param ['DAN','Transformer','Transformer_Multilingual']"
   ]
  },
  {
   "cell_type": "markdown",
   "metadata": {},
   "source": [
    "## Create output directory\n",
    "Try to create the directory defined by output_path"
   ]
  },
  {
   "cell_type": "code",
   "execution_count": 18,
   "metadata": {
    "colab": {
     "base_uri": "https://localhost:8080/"
    },
    "id": "NuvhsxjlZFhu",
    "outputId": "436a89b3-9ae8-4f74-f236-4a3f55b64d6d"
   },
   "outputs": [
    {
     "name": "stdout",
     "output_type": "stream",
     "text": [
      "Successfully created the directory ./output/ \n"
     ]
    }
   ],
   "source": [
    "try:\n",
    "   os.mkdir(output_path)\n",
    "except OSError:\n",
    "  print (\"Creation of the directory %s failed\" % output_path)\n",
    "else:\n",
    "  print (\"Successfully created the directory %s \" % output_path)\n"
   ]
  },
  {
   "cell_type": "markdown",
   "metadata": {
    "id": "VO9QOLP_9DxJ"
   },
   "source": [
    "# Load Data\n",
    "Load you data as a pandas dataframe"
   ]
  },
  {
   "cell_type": "code",
   "execution_count": 20,
   "metadata": {},
   "outputs": [],
   "source": [
    "if new_embeddings:\n",
    "    data = pd.read_csv(data_path,sep='\\t',header=(0))\n",
    "    data.head()"
   ]
  },
  {
   "cell_type": "markdown",
   "metadata": {
    "id": "_IUWISh1M5nz"
   },
   "source": [
    "# Preprocessing\n",
    "Preprocess your data:\n",
    "- Drop empty rows\n",
    "- Drop unused columns"
   ]
  },
  {
   "cell_type": "code",
   "execution_count": 21,
   "metadata": {
    "id": "gbU3mk83MBIH"
   },
   "outputs": [],
   "source": [
    "if new_embeddings:\n",
    "    data = data.dropna(subset=['text', 'authorName']) # drop rows with no content\n",
    "    data=data.drop(['id', 'replyCount','likeCount','authorChannelUrl','authorChannelId','isReplyTo','isReplyToName'],axis=1) # drop unused columns\n",
    "    data.head()"
   ]
  },
  {
   "cell_type": "markdown",
   "metadata": {},
   "source": [
    "- remove HTML-tags, links and usernames"
   ]
  },
  {
   "cell_type": "code",
   "execution_count": 22,
   "metadata": {
    "id": "vIgxEvzcM39J"
   },
   "outputs": [
    {
     "name": "stderr",
     "output_type": "stream",
     "text": [
      "100%|████████████████████████████████████████████████████████████████████████████| 1231/1231 [00:00<00:00, 4207.50it/s]\n"
     ]
    },
    {
     "name": "stdout",
     "output_type": "stream",
     "text": [
      "Removed HTML Tags.\n",
      "Removed Links.\n",
      "Removed user names.\n"
     ]
    }
   ],
   "source": [
    "if new_embeddings:\n",
    "    # Remove HTML tags\n",
    "    tqdm.pandas()\n",
    "    h = HTML2Text()\n",
    "    h.ignore_links = True\n",
    "    data['cleaned'] = data['text'].progress_apply(lambda x: h.handle(x))\n",
    "    print( \"Removed HTML Tags.\")\n",
    "\n",
    "    # Remove links\n",
    "    http_link_pattern = r'http\\S+'\n",
    "    bitly_link_pattern = r'bit.ly/\\S+'\n",
    "    data['cleaned'] = data['cleaned'].str.replace(http_link_pattern, '')\n",
    "    data['cleaned'] = data['cleaned'].str.replace(bitly_link_pattern, '')\n",
    "    print( \"Removed Links.\")\n",
    "\n",
    "    # Remove user names\n",
    "    keep_names = [\"earth\", \"Tide\", \"Geologist\", \"A Person\", \"Titanic\", \"adventure\", \"Sun\", \"The United States Of America\"] # user names we want to keep\n",
    "    user_names = [name for name in data['authorName'].unique() if (len(name)> 3 and name not in keep_names)]\n",
    "    data['cleaned'] = data['cleaned'].str.replace('|'.join(map(re.escape, user_names)), '')\n",
    "    print( \"Removed user names.\")"
   ]
  },
  {
   "cell_type": "markdown",
   "metadata": {},
   "source": [
    "# Save or Load preprocessed data\n",
    "\n",
    "Save your data afte preprocessing, or load preprocessed data from disc."
   ]
  },
  {
   "cell_type": "code",
   "execution_count": 23,
   "metadata": {
    "colab": {
     "base_uri": "https://localhost:8080/"
    },
    "id": "W0uP3D5IXvyT",
    "outputId": "ce705b12-d180-438e-8bb7-86a5dfffbdcf"
   },
   "outputs": [
    {
     "data": {
      "text/html": [
       "<div>\n",
       "<style scoped>\n",
       "    .dataframe tbody tr th:only-of-type {\n",
       "        vertical-align: middle;\n",
       "    }\n",
       "\n",
       "    .dataframe tbody tr th {\n",
       "        vertical-align: top;\n",
       "    }\n",
       "\n",
       "    .dataframe thead th {\n",
       "        text-align: right;\n",
       "    }\n",
       "</style>\n",
       "<table border=\"1\" class=\"dataframe\">\n",
       "  <thead>\n",
       "    <tr style=\"text-align: right;\">\n",
       "      <th></th>\n",
       "      <th>publishedAt</th>\n",
       "      <th>authorName</th>\n",
       "      <th>text</th>\n",
       "      <th>isReply</th>\n",
       "      <th>cleaned</th>\n",
       "    </tr>\n",
       "  </thead>\n",
       "  <tbody>\n",
       "    <tr>\n",
       "      <th>0</th>\n",
       "      <td>2020-11-28 06:13:43</td>\n",
       "      <td>Anugreh Kaul</td>\n",
       "      <td>&lt;a href=\"https://www.youtube.com/watch?v=sMLnu2BQwzM&amp;amp;t=5m56s\"&gt;5:56&lt;/a&gt; &lt;b&gt;cough cough..candance...cough cough...owens&lt;/b&gt;</td>\n",
       "      <td>0</td>\n",
       "      <td>5:56 **cough cough..candance...cough cough...owens**\\n\\n</td>\n",
       "    </tr>\n",
       "    <tr>\n",
       "      <th>1</th>\n",
       "      <td>2020-11-20 06:54:05</td>\n",
       "      <td>Justin</td>\n",
       "      <td>First, prove AND demonstrate, beyond a shadow of a doubt, that climate change is caused solely by man and not just apart of the normal heating and cooling cycles of the Earth. &lt;br /&gt;Second, maybe The Right would listen to The Left if they weren&amp;#39;t constantly being hyperbolic, claiming the world is going to die in xx years. &lt;br /&gt;Third, wouldn&amp;#39;t it make more sense for humans to adapt to a changing environment than try to change the whole fucking planet to suit you?</td>\n",
       "      <td>0</td>\n",
       "      <td>First, prove AND demonstrate, beyond a shadow of a doubt, that climate change\\nis caused solely by man and not just apart of the normal heating and cooling\\ncycles of the Earth.  \\nSecond, maybe The Right would listen to The Left if they weren't constantly\\nbeing hyperbolic, claiming the world is going to die in xx years.  \\nThird, wouldn't it make more sense for humans to adapt to a changing\\nenvironment than try to change the whole fucking planet to suit you?\\n\\n</td>\n",
       "    </tr>\n",
       "    <tr>\n",
       "      <th>2</th>\n",
       "      <td>2020-11-16 21:06:58</td>\n",
       "      <td>Mr Marvelous &amp; the Unicorn.</td>\n",
       "      <td>Hydro electric dams cause climate change. Consider all the mineral rich water that never reaches the sea.</td>\n",
       "      <td>0</td>\n",
       "      <td>Hydro electric dams cause climate change. Consider all the mineral rich water\\nthat never reaches the sea.\\n\\n</td>\n",
       "    </tr>\n",
       "    <tr>\n",
       "      <th>3</th>\n",
       "      <td>2020-11-16 09:36:41</td>\n",
       "      <td>Ахова птушак Бацькаўшчыны</td>\n",
       "      <td>Here you can watch a lecture on climate change by Dr Rob Field &lt;a href=\"https://youtu.be/EGmdDh3A-lc\"&gt;https://youtu.be/EGmdDh3A-lc&lt;/a&gt;</td>\n",
       "      <td>0</td>\n",
       "      <td>Here you can watch a lecture on climate change by Dr Rob Field\\n\\n\\n</td>\n",
       "    </tr>\n",
       "    <tr>\n",
       "      <th>4</th>\n",
       "      <td>2020-11-15 01:46:10</td>\n",
       "      <td>Cyphlix</td>\n",
       "      <td>Climate truthers base their worldview on ignorance and groupthink rather than science.</td>\n",
       "      <td>0</td>\n",
       "      <td>Climate truthers base their worldview on ignorance and groupthink rather than\\nscience.\\n\\n</td>\n",
       "    </tr>\n",
       "  </tbody>\n",
       "</table>\n",
       "</div>"
      ],
      "text/plain": [
       "           publishedAt                   authorName  \\\n",
       "0  2020-11-28 06:13:43                 Anugreh Kaul   \n",
       "1  2020-11-20 06:54:05                       Justin   \n",
       "2  2020-11-16 21:06:58  Mr Marvelous & the Unicorn.   \n",
       "3  2020-11-16 09:36:41    Ахова птушак Бацькаўшчыны   \n",
       "4  2020-11-15 01:46:10                      Cyphlix   \n",
       "\n",
       "                                                                                                                                                                                                                                                                                                                                                                                                                                                                                          text  \\\n",
       "0                                                                                                                                                                                                                                                                                                                                                                <a href=\"https://www.youtube.com/watch?v=sMLnu2BQwzM&amp;t=5m56s\">5:56</a> <b>cough cough..candance...cough cough...owens</b>   \n",
       "1  First, prove AND demonstrate, beyond a shadow of a doubt, that climate change is caused solely by man and not just apart of the normal heating and cooling cycles of the Earth. <br />Second, maybe The Right would listen to The Left if they weren&#39;t constantly being hyperbolic, claiming the world is going to die in xx years. <br />Third, wouldn&#39;t it make more sense for humans to adapt to a changing environment than try to change the whole fucking planet to suit you?   \n",
       "2                                                                                                                                                                                                                                                                                                                                                                                    Hydro electric dams cause climate change. Consider all the mineral rich water that never reaches the sea.   \n",
       "3                                                                                                                                                                                                                                                                                                                                                       Here you can watch a lecture on climate change by Dr Rob Field <a href=\"https://youtu.be/EGmdDh3A-lc\">https://youtu.be/EGmdDh3A-lc</a>   \n",
       "4                                                                                                                                                                                                                                                                                                                                                                                                       Climate truthers base their worldview on ignorance and groupthink rather than science.   \n",
       "\n",
       "   isReply  \\\n",
       "0        0   \n",
       "1        0   \n",
       "2        0   \n",
       "3        0   \n",
       "4        0   \n",
       "\n",
       "                                                                                                                                                                                                                                                                                                                                                                                                                                                                                 cleaned  \n",
       "0                                                                                                                                                                                                                                                                                                                                                                                                                               5:56 **cough cough..candance...cough cough...owens**\\n\\n  \n",
       "1  First, prove AND demonstrate, beyond a shadow of a doubt, that climate change\\nis caused solely by man and not just apart of the normal heating and cooling\\ncycles of the Earth.  \\nSecond, maybe The Right would listen to The Left if they weren't constantly\\nbeing hyperbolic, claiming the world is going to die in xx years.  \\nThird, wouldn't it make more sense for humans to adapt to a changing\\nenvironment than try to change the whole fucking planet to suit you?\\n\\n  \n",
       "2                                                                                                                                                                                                                                                                                                                                                                         Hydro electric dams cause climate change. Consider all the mineral rich water\\nthat never reaches the sea.\\n\\n  \n",
       "3                                                                                                                                                                                                                                                                                                                                                                                                                   Here you can watch a lecture on climate change by Dr Rob Field\\n\\n\\n  \n",
       "4                                                                                                                                                                                                                                                                                                                                                                                            Climate truthers base their worldview on ignorance and groupthink rather than\\nscience.\\n\\n  "
      ]
     },
     "execution_count": 23,
     "metadata": {},
     "output_type": "execute_result"
    }
   ],
   "source": [
    "if new_embeddings:\n",
    "  data.to_pickle(output_path+'data_preprocessed'+'.pkl')\n",
    "else:\n",
    "  data = pd.read_pickle(output_path+'data_preprocessed'+'.pkl')\n",
    "data.head()"
   ]
  },
  {
   "cell_type": "markdown",
   "metadata": {
    "id": "5YxXP5PtAFyV"
   },
   "source": [
    "# Produce Text Embeddings with Universal Sentence Encoder"
   ]
  },
  {
   "cell_type": "markdown",
   "metadata": {
    "id": "d_sStH0bXhFD"
   },
   "source": [
    "## Load Model\n",
    "Load the model from TF-hub"
   ]
  },
  {
   "cell_type": "code",
   "execution_count": 24,
   "metadata": {
    "id": "ugb89Xy7XdqR"
   },
   "outputs": [
    {
     "name": "stdout",
     "output_type": "stream",
     "text": [
      "Loading model. This will take some time...\n"
     ]
    }
   ],
   "source": [
    "hub_url = url_dict[model_type]\n",
    "if new_embeddings:\n",
    "  print(\"Loading model. This will take some time...\")\n",
    "  embed = hub.load(hub_url)"
   ]
  },
  {
   "cell_type": "markdown",
   "metadata": {},
   "source": [
    "## Embed Documents\n",
    "Produce embeddings of your documents."
   ]
  },
  {
   "cell_type": "code",
   "execution_count": 25,
   "metadata": {
    "id": "Yz3Qlca7YGEN"
   },
   "outputs": [
    {
     "name": "stdout",
     "output_type": "stream",
     "text": [
      "1 2 3 4 5 6 The embeddings vector is of fixed length 512\n"
     ]
    },
    {
     "data": {
      "text/plain": [
       "TensorShape([1231, 512])"
      ]
     },
     "execution_count": 25,
     "metadata": {},
     "output_type": "execute_result"
    }
   ],
   "source": [
    "if new_embeddings:\n",
    "    for k,g in data.groupby(np.arange(len(data))//200):\n",
    "        if k == 0:\n",
    "            embeddings = embed(g['cleaned'])\n",
    "        else:\n",
    "            embeddings_new = embed(g['cleaned'])\n",
    "            embeddings = tf.concat(values=[embeddings,embeddings_new],axis = 0)\n",
    "            print(k , end =\" \")\n",
    "    print(\"The embeddings vector is of fixed length {}\".format(embeddings.shape[1]))\n",
    "\n",
    "    np.save(output_path+'/embeddings'+model_type+'.npy', embeddings, allow_pickle=True, fix_imports=True)\n",
    "else:\n",
    "    embeddings = np.load(output_path+'/embeddings'+model_type+'.npy', mmap_mode=None, allow_pickle=False, fix_imports=True, encoding='ASCII')\n",
    "\n",
    "embeddings.shape"
   ]
  },
  {
   "cell_type": "markdown",
   "metadata": {
    "id": "oFTi_5lUAnJF"
   },
   "source": [
    "## Calculate Similarity Matrix with angular distance\n",
    "\n",
    "'Following Cer et al. (2018), we first compute\n",
    "the sentence embeddings u, v for an STS sentence\n",
    "pair, and then score the sentence pair similarity\n",
    "based on the angular distance between the two\n",
    "embedding vectors  d = − arccos (uv/||u|| ||v||\u0011).'"
   ]
  },
  {
   "cell_type": "code",
   "execution_count": 26,
   "metadata": {},
   "outputs": [
    {
     "name": "stdout",
     "output_type": "stream",
     "text": [
      "[[ 1.0000001  -0.02640833  0.02684269 ...  0.04611875  0.10051684\n",
      "   0.10051683]\n",
      " [-0.02640833  1.0000004   0.3212615  ... -0.0120322   0.03485531\n",
      "   0.03485529]\n",
      " [ 0.02684269  0.3212615   0.9999999  ... -0.05597638  0.10592273\n",
      "   0.10592273]\n",
      " ...\n",
      " [ 0.04611875 -0.0120322  -0.05597638 ...  1.          0.34124535\n",
      "   0.3412453 ]\n",
      " [ 0.10051684  0.03485531  0.10592273 ...  0.34124535  1.0000001\n",
      "   1.0000001 ]\n",
      " [ 0.10051683  0.03485529  0.10592273 ...  0.3412453   1.0000001\n",
      "   1.        ]]\n"
     ]
    }
   ],
   "source": [
    "from sklearn.metrics.pairwise import cosine_similarity\n",
    "def cos_sim(input_vectors):\n",
    "    similarity = cosine_similarity(input_vectors)\n",
    "    return similarity\n",
    "cosine_similarity_matrix = cos_sim(np.array(embeddings))\n",
    "print(cosine_similarity_matrix)"
   ]
  },
  {
   "cell_type": "markdown",
   "metadata": {},
   "source": [
    "# Plots Similarity \n",
    "Plot and print a heat map showing the semantic contextual similarity between comments."
   ]
  },
  {
   "cell_type": "code",
   "execution_count": 34,
   "metadata": {},
   "outputs": [
    {
     "data": {
      "image/png": "[encoded data removed]",
      "text/plain": [
       "<Figure size 432x288 with 2 Axes>"
      ]
     },
     "metadata": {},
     "output_type": "display_data"
    }
   ],
   "source": [
    "import seaborn as sns\n",
    "def plot_similarity(labels, features, rotation):\n",
    "  corr = np.inner(features, features)\n",
    "  sns.set(font_scale=0.8) #1.2\n",
    "  g = sns.heatmap(\n",
    "      corr,\n",
    "      xticklabels=labels,\n",
    "      yticklabels=labels,\n",
    "      vmin=0,\n",
    "      vmax=1,\n",
    "      cmap=\"YlOrRd\")\n",
    "  g.set_xticklabels(labels, rotation=rotation)\n",
    "  g.set_title(\"Semantic Textual Similarity\")\n",
    "\n",
    "num_samples = 5\n",
    "off_set = 0 #10000\n",
    "\n",
    "plot_similarity(data.iloc[off_set:off_set+num_samples]['cleaned'], embeddings[off_set:off_set+num_samples], 90)"
   ]
  },
  {
   "cell_type": "markdown",
   "metadata": {},
   "source": [
    "# Show neighbours of a comment \n",
    "Define which comment to analyze"
   ]
  },
  {
   "cell_type": "code",
   "execution_count": 51,
   "metadata": {},
   "outputs": [
    {
     "name": "stdout",
     "output_type": "stream",
     "text": [
      "CO2 is totally misrepresented as it always is. carbon dioxide is the most\n",
      "prevalent element in the atmosphere and every life form on this planet cannot\n",
      "survive without carbon. The concentration of carbon dioxide on its own is not\n",
      "quote-unquote plantfood or fertilizer it's the air that we breathe we exhale\n",
      "it every single time we inhale oxygen it is the process of life that we engage\n",
      "in if you don't understand that it is not a pollutant\n",
      "\n",
      "\n"
     ]
    }
   ],
   "source": [
    "comment_index = 567 #333 #222 #324\n",
    "comment = data[\"cleaned\"][comment_index]\n",
    "comment_list = data[\"cleaned\"].tolist()\n",
    "print(comment)"
   ]
  },
  {
   "cell_type": "markdown",
   "metadata": {},
   "source": [
    "Print similar comments."
   ]
  },
  {
   "cell_type": "code",
   "execution_count": 52,
   "metadata": {},
   "outputs": [
    {
     "name": "stdout",
     "output_type": "stream",
     "text": [
      "Top similar comment 1: CO2 is totally misrepresented as it always is. carbon dioxide is the most\n",
      "prevalent element in the atmosphere and every life form on this planet cannot\n",
      "survive without carbon. The concentration of carbon dioxide on its own is not\n",
      "quote-unquote plantfood or fertilizer it's the air that we breathe we exhale\n",
      "it every single time we inhale oxygen it is the process of life that we engage\n",
      "in if you don't understand that it is not a pollutant\n",
      "\n",
      "\n",
      "Top similar comment 2: CO2 isn't a 'plant fertilizer' you dumb witch, it's what plants breathe and\n",
      "they give off oxygen. She has a lack of basic plant biology and science,\n",
      "google it (photosynthesis).\n",
      "\n",
      "\n",
      "Top similar comment 3: Ahh yes of course, CO2 the gas of life that's poisonous to the climate or\n",
      "something. Yawn.\n",
      "\n",
      "\n",
      "Top similar comment 4: It is a fact that CO2 has dropped through out the Earth history. Look up the\n",
      "carbon cycle to see how this is happening. But we and everything on this Earth\n",
      "right now have evolved to live with the current level of CO2 plus the CO2\n",
      "expelled by volcanoes every year. We are in effect changing the past\n",
      "trajectory of life on Earth's evolution and are sending it on a new one. The\n",
      "problem is we don't know where that trajectory is taking us. We need to slow\n",
      "down human CO2 emissions because we don't have enough data to know for a fact\n",
      "where its going to take us.  \n",
      "People need to get real education on this and not garbage yes/no knee jerk\n",
      "mocking reactions. We do know the past carbon cycle was working for us.\n",
      "\n",
      "\n",
      "Top similar comment 5: @ThatBadGuy plants can take up much more CO2 than they give them credit. Just\n",
      "look up the periods of the earth where the CO2 levels where sky high and\n",
      "plants were loving it. Trees grew like skyscrapers. Oxygen concentration was\n",
      "higher too because of the plants. Climate change is real but humans are not\n",
      "the primary cause of it, climate on earth changes all the time and maybe\n",
      "humans contributed to it but we didn't created it.\n",
      "\n",
      "\n",
      "Top similar comment 6: Because CO2 is not the pollution! Everybody is for the cleaner environment,\n",
      "bur war on CO2 is not war on pollution. Only left is so stupid that they\n",
      "actually believe CO2 rise will cause ''end of the world'' for us.\n",
      "\n",
      "\n",
      "Top similar comment 7: So is co2 good bad? You all just laughed and expect very one to know. Plants\n",
      "need carbon. Please explain if there is a threshold of how much or if there’s\n",
      "to much for the plants. If co2 has been at 5x times the level it is today why\n",
      "is it so bad?\n",
      "\n",
      "\n",
      "Top similar comment 8: Hold on, she flat out said that carbon dioxide is a plant fertilizer but then\n",
      "didn’t explain why all this added CO2 is bad. So is the problem that we are\n",
      "creating too much carbon dioxide for the plants to handle?\n",
      "\n",
      "\n",
      "Top similar comment 9: @ You have a distorted view of reality with no sense of scale, and\n",
      "CO2 is not a pollutant, every living thing on earth started as CO2 so You are\n",
      "Pollution.\n",
      "\n",
      "\n",
      "Top similar comment 10: Except if I asked you to show me the data to illustrate that evidence you will\n",
      "not be able to because carbon dioxide is an essential part of life it is not a\n",
      "pollutant it is not carbon monoxide it is not acid. It leads to the production\n",
      "of more dense forest life which leads to the production of more oxygen which\n",
      "allows us to survive on this planet. To suggest that it's a human made element\n",
      "is preposterous because it's not. not to mention that no one cares about\n",
      "carbon monoxide from coal plants which is actually a pollutant which I\n",
      "actually care about this is why I know it's a scam\n",
      "\n",
      "\n",
      "Top similar comment 11: CO2 rise has barely any impact on ''warming'' the planet.  \n",
      "To understand this, you must first know how climate science works. This is how\n",
      "how they calculate sun's energy that is coming to Earth.  \n",
      "  \n",
      "  \n",
      "Because they spread incoming solar energy to entire earth's surface they\n",
      "diminishing it. And how they get that sun can only warm Earth's surface to\n",
      "-19.5°C/-18°C.  \n",
      "But Earth's surface is an average of 15°C! So, they invented 'greenhouse\n",
      "effect' in which greenhouse gases in atmosphere warms the Earth's surface from\n",
      "-18°C to 15°C.  \n",
      "Here is the model of how greenhouse effect works on Earth.  \n",
      "  \n",
      "According to physics, surface that adding heat faster than atmosphere can\n",
      "dissipate it, the temperature will go up. OK, I have no problem with that.  \n",
      "But, let's look at the Earth's surface in the last link.  \n",
      "You see! They show Earth as flat. The entire Earth's surface is receiving\n",
      "solar radiation. Every square meter of earth's surface receive the exactly\n",
      "same amount of solar radiation. This is where the problem start. Not only we\n",
      "get much lower Earth's surface temperature, but it completely distorts\n",
      "reality.  \n",
      "Because Earth is flat every square meter of earth's surface receive solar\n",
      "energy 24/7. There is no day and night cycle, no decreasing of incoming solar\n",
      "radiation from the Equator to the poles , no Earth's tilt. Every single square\n",
      "meter of Earth's surface is exactly the same as any other square meter, at any\n",
      "point of time!  \n",
      "And because earth's receive constant 24/7 solar energy it also emits constant\n",
      "heat 24/7, it never cools down. So, theoretically Earth's surface can go from\n",
      "-18°C to 15°C with the help of greenhouse gases, aka greenhouse effect. But\n",
      "this is only possible on paper, not in reality.\n",
      "\n",
      "\n",
      "Top similar comment 12: CO2 was 17 times higher in the past and it was 20° warmer and yet we have had\n",
      "may Ice Ages and Humans have thrived, but that means nothing, right? STFU\n",
      "\n",
      "\n",
      "Top similar comment 13: Absolutely true about more CO2 being good for plant life. We were in a stage\n",
      "of Earth's history where CO2 is at its lowest level... starvation levels for\n",
      "plants and trees. Growers pump higher levels of CO2 into greenhouses to\n",
      "increase plant growth!\n",
      "\n",
      "\n",
      "Top similar comment 14: There is no empirical evidence co2 does anything to the climate but\n",
      "fascinating to see a new religion being born in so called enlightened times.\n",
      "\n",
      "\n",
      "Top similar comment 15: Maybe you should check planet history, plants loved high CO2 levels. CO2 is\n",
      "more an issue for humans than for plants\n",
      "\n",
      "\n",
      "Top similar comment 16: CO2 rise has barely any impact on ''warming'' the planet. To understand this,\n",
      "you must first know how climate science works. This is how how they calculate\n",
      "sun's energy that is coming to Earth. \n",
      "balance-temperature-calculate \n",
      "Because they spread incoming solar energy to entire earth's surface they\n",
      "diminishing it. And how they get that sun can only warm Earth's surface to\n",
      "-19.5°C/-18°C. But Earth's surface is an average of 15°C! So, they invented\n",
      "'greenhouse effect' in which greenhouse gases in atmosphere warms the Earth's\n",
      "surface from -18°C to 15°C. Here is the model of how greenhouse effect works\n",
      "on Earth. \n",
      "According to physics, surface that adding heat faster than atmosphere can\n",
      "dissipate it, the temperature will go up. OK, I have no problem with that.\n",
      "But, let's look at the Earth's surface in the last link. You see! They show\n",
      "Earth as flat. The entire Earth's surface is receiving solar radiation. Every\n",
      "square meter of earth's surface receive the exactly same amount of solar\n",
      "radiation. This is where the problem start. Not only we get much lower Earth's\n",
      "surface temperature, but it completely distorts reality. Because Earth is flat\n",
      "every square meter of earth's surface receive solar energy 24/7. There is no\n",
      "day and night cycle, no decreasing of incoming solar radiation from the\n",
      "Equator to the poles , no Earth's tilt. Every single square meter of Earth's\n",
      "surface is exactly the same as any other square meter, at any point of time!\n",
      "And because earth's receive constant 24/7 solar energy it also emits constant\n",
      "heat 24/7, it never cools down. So, theoretically Earth's surface can go from\n",
      "-18°C to 15°C with the help of greenhouse gases, aka greenhouse effect. But\n",
      "this is only possible on paper, not in reality. I'm not the expert, but even I\n",
      "can see the irregularities in climate models.\n",
      "\n",
      "\n",
      "Top similar comment 17:  isn’t it funny that the same people who say there isn’t enough\n",
      "oxygen & there’s too much co2 are usually the ones who demand us to wear masks\n",
      "and breathe in our own co2 all day? There’s a war on oxygen and it’s been\n",
      "around since cigarettes were once marketed as health products\n",
      "\n",
      "\n",
      "Top similar comment 18: More CO2 IS making the earth greener. And if you look at the historical chart\n",
      "of atmospheric CO2 we are at extremely low levels of atmospheric CO2. The\n",
      "question is, why would this lawyer dismiss this scientific fact and why is Joe\n",
      "chuckling like a moron. This proposition, about CO2 being at extremely low\n",
      "levels now, is being made by; scientist, environmental icon, and co-founder of\n",
      "Greenpeace, Dr. Patrick Moore. I wish Joe would have Patrick Moore as a guest\n",
      "so he could hear what he has to say about man-made climate change.\n",
      "\n",
      "\n",
      "Top similar comment 19: Fact: youre a moron. Human impacts have massively accelerated climate change.\n",
      "Even if you dont think the temperature change is caused by us, any high\n",
      "schooler should be able to tell you that carbon dioxide makes water acidic.\n",
      "One of the least talked about and potentially most catastophic effects of us\n",
      "pumping so much co2 into the atmosphere is the increading acidity of the\n",
      "oceans waters. Do some actual research rather than reading crackpot right wing\n",
      "websites that are carrying water for big oil/coal\n",
      "\n",
      "\n",
      "Top similar comment 20: CO2 levels aren’t going to drastically decrease. CO2 has a persistence rate of\n",
      "over 200 years\n",
      "\n",
      "\n"
     ]
    }
   ],
   "source": [
    "def get_top_similar(sentence, sentence_list, similarity_matrix, topN):\n",
    "    # find the index of sentence in list\n",
    "    index = sentence_list.index(sentence)\n",
    "    # get the corresponding row in similarity matrix\n",
    "    similarity_row = np.array(similarity_matrix[index, :])\n",
    "    # get the indices of top similar\n",
    "    indices = similarity_row.argsort()[-topN:][::-1]\n",
    "    return [sentence_list[i] for i in indices]\n",
    "\n",
    "\n",
    "for i, value in enumerate(get_top_similar(comment, comment_list, cosine_similarity_matrix, 20)):\n",
    "  print(\"Top similar comment {}: {}\".format(i+1, value))"
   ]
  },
  {
   "cell_type": "code",
   "execution_count": null,
   "metadata": {},
   "outputs": [],
   "source": []
  }
 ],
 "metadata": {
  "colab": {
   "collapsed_sections": [],
   "name": "USE_Experiments_new.ipynb",
   "provenance": [],
   "toc_visible": true
  },
  "kernelspec": {
   "display_name": "Python 3",
   "language": "python",
   "name": "python3"
  },
  "language_info": {
   "codemirror_mode": {
    "name": "ipython",
    "version": 3
   },
   "file_extension": ".py",
   "mimetype": "text/x-python",
   "name": "python",
   "nbconvert_exporter": "python",
   "pygments_lexer": "ipython3",
   "version": "3.6.12"
  }
 },
 "nbformat": 4,
 "nbformat_minor": 4
}
