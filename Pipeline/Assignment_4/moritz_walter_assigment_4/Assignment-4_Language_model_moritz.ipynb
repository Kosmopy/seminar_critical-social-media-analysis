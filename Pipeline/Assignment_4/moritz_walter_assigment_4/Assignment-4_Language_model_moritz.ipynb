{
 "cells": [
  {
   "cell_type": "code",
   "execution_count": 1,
   "metadata": {
    "id": "iFXsrSxJlzCW"
   },
   "outputs": [],
   "source": [
    "#Introduction\n",
    "\n",
    "#.....\n"
   ]
  },
  {
   "cell_type": "markdown",
   "metadata": {},
   "source": [
    "Check to see if jupyter lab uses the correct python interpreter with '!which python'.\n",
    "It should be something like '/opt/anaconda3/envs/[environment name]/bin/python' (on Mac).\n",
    "If not, try this: https://github.com/jupyter/notebook/issues/3146#issuecomment-352718675"
   ]
  },
  {
   "cell_type": "code",
   "execution_count": 2,
   "metadata": {},
   "outputs": [
    {
     "data": {
      "text/plain": [
       "'C:\\\\Users\\\\moritz\\\\anaconda3\\\\envs\\\\social-2\\\\python.exe'"
      ]
     },
     "execution_count": 2,
     "metadata": {},
     "output_type": "execute_result"
    }
   ],
   "source": [
    "import sys\n",
    "sys.executable\n",
    "#!which python #which does not semm to work on windows"
   ]
  },
  {
   "cell_type": "markdown",
   "metadata": {},
   "source": [
    "# Install dependencies:"
   ]
  },
  {
   "cell_type": "code",
   "execution_count": 3,
   "metadata": {
    "colab": {
     "base_uri": "https://localhost:8080/"
    },
    "id": "H0q7BTlbiCWW",
    "outputId": "32ddd123-4834-4913-f942-038e830d9276"
   },
   "outputs": [
    {
     "name": "stdout",
     "output_type": "stream",
     "text": [
      "Collecting package metadata (current_repodata.json): ...working... done\n",
      "Solving environment: ...working... done\n",
      "\n",
      "## Package Plan ##\n",
      "\n",
      "  environment location: C:\\Users\\moritz\\anaconda3\\envs\\social-2\n",
      "\n",
      "  added / updated specs:\n",
      "    - tensorflow=2\n",
      "\n",
      "\n",
      "The following packages will be downloaded:\n",
      "\n",
      "    package                    |            build\n",
      "    ---------------------------|-----------------\n",
      "    ca-certificates-2020.10.14 |                0         122 KB\n",
      "    openssl-1.1.1h             |       he774522_0         4.8 MB\n",
      "    ------------------------------------------------------------\n",
      "                                           Total:         5.0 MB\n",
      "\n",
      "The following packages will be UPDATED:\n",
      "\n",
      "  certifi                anaconda::certifi-2020.6.20-py36_0 --> pkgs/main::certifi-2020.11.8-py36haa95532_0\n",
      "\n",
      "The following packages will be SUPERSEDED by a higher-priority channel:\n",
      "\n",
      "  ca-certificates                                  anaconda --> pkgs/main\n",
      "  openssl                                          anaconda --> pkgs/main\n",
      "\n",
      "\n",
      "\n",
      "Downloading and Extracting Packages\n",
      "\n",
      "openssl-1.1.1h       | 4.8 MB    |            |   0% \n",
      "openssl-1.1.1h       | 4.8 MB    |            |   0% \n",
      "openssl-1.1.1h       | 4.8 MB    | #1         |  12% \n",
      "openssl-1.1.1h       | 4.8 MB    | ##3        |  24% \n",
      "openssl-1.1.1h       | 4.8 MB    | ###5       |  36% \n",
      "openssl-1.1.1h       | 4.8 MB    | ####7      |  48% \n",
      "openssl-1.1.1h       | 4.8 MB    | #####9     |  60% \n",
      "openssl-1.1.1h       | 4.8 MB    | #######1   |  72% \n",
      "openssl-1.1.1h       | 4.8 MB    | ########3  |  84% \n",
      "openssl-1.1.1h       | 4.8 MB    | #########5 |  96% \n",
      "openssl-1.1.1h       | 4.8 MB    | ########## | 100% \n",
      "\n",
      "ca-certificates-2020 | 122 KB    |            |   0% \n",
      "ca-certificates-2020 | 122 KB    | ########## | 100% \n",
      "Preparing transaction: ...working... done\n",
      "Verifying transaction: ...working... done\n",
      "Executing transaction: ...working... done\n",
      "Collecting package metadata (current_repodata.json): ...working... done\n",
      "Solving environment: ...working... done\n",
      "\n",
      "## Package Plan ##\n",
      "\n",
      "  environment location: C:\\Users\\moritz\\anaconda3\\envs\\social-2\n",
      "\n",
      "  added / updated specs:\n",
      "    - pandas\n",
      "\n",
      "\n",
      "The following packages will be downloaded:\n",
      "\n",
      "    package                    |            build\n",
      "    ---------------------------|-----------------\n",
      "    ca-certificates-2020.10.14 |                0         159 KB  anaconda\n",
      "    openssl-1.1.1h             |       he774522_0         5.8 MB  anaconda\n",
      "    ------------------------------------------------------------\n",
      "                                           Total:         5.9 MB\n",
      "\n",
      "The following packages will be SUPERSEDED by a higher-priority channel:\n",
      "\n",
      "  ca-certificates                                 pkgs/main --> anaconda\n",
      "  certifi            pkgs/main::certifi-2020.11.8-py36haa9~ --> anaconda::certifi-2020.6.20-py36_0\n",
      "  openssl                                         pkgs/main --> anaconda\n",
      "\n",
      "\n",
      "\n",
      "Downloading and Extracting Packages\n",
      "\n",
      "openssl-1.1.1h       | 5.8 MB    |            |   0% \n",
      "openssl-1.1.1h       | 5.8 MB    |            |   0% \n",
      "openssl-1.1.1h       | 5.8 MB    | #          |  10% \n",
      "openssl-1.1.1h       | 5.8 MB    | ##         |  20% \n",
      "openssl-1.1.1h       | 5.8 MB    | ###        |  31% \n",
      "openssl-1.1.1h       | 5.8 MB    | ####       |  41% \n",
      "openssl-1.1.1h       | 5.8 MB    | #####      |  51% \n",
      "openssl-1.1.1h       | 5.8 MB    | ######     |  61% \n",
      "openssl-1.1.1h       | 5.8 MB    | #######    |  71% \n",
      "openssl-1.1.1h       | 5.8 MB    | ########1  |  81% \n",
      "openssl-1.1.1h       | 5.8 MB    | #########1 |  91% \n",
      "openssl-1.1.1h       | 5.8 MB    | ########## | 100% \n",
      "\n",
      "ca-certificates-2020 | 159 KB    |            |   0% \n",
      "ca-certificates-2020 | 159 KB    | ########## | 100% \n",
      "Preparing transaction: ...working... done\n",
      "Verifying transaction: ...working... done\n",
      "Executing transaction: ...working... done\n",
      "Collecting package metadata (current_repodata.json): ...working... done\n",
      "Solving environment: ...working... done\n",
      "\n",
      "## Package Plan ##\n",
      "\n",
      "  environment location: C:\\Users\\moritz\\anaconda3\\envs\\social-2\n",
      "\n",
      "  added / updated specs:\n",
      "    - html2text\n",
      "\n",
      "\n",
      "The following packages will be downloaded:\n",
      "\n",
      "    package                    |            build\n",
      "    ---------------------------|-----------------\n",
      "    html2text-2020.1.16        |             py_0          33 KB  conda-forge\n",
      "    openssl-1.1.1h             |       he774522_0         5.8 MB  conda-forge\n",
      "    ------------------------------------------------------------\n",
      "                                           Total:         5.8 MB\n",
      "\n",
      "The following NEW packages will be INSTALLED:\n",
      "\n",
      "  html2text          conda-forge/noarch::html2text-2020.1.16-py_0\n",
      "\n",
      "The following packages will be UPDATED:\n",
      "\n",
      "  ca-certificates    anaconda::ca-certificates-2020.10.14-0 --> conda-forge::ca-certificates-2020.11.8-h5b45459_0\n",
      "  certifi                anaconda::certifi-2020.6.20-py36_0 --> conda-forge::certifi-2020.11.8-py36ha15d459_0\n",
      "\n",
      "The following packages will be SUPERSEDED by a higher-priority channel:\n",
      "\n",
      "  openssl                                          anaconda --> conda-forge\n",
      "\n",
      "\n",
      "\n",
      "Downloading and Extracting Packages\n",
      "\n",
      "openssl-1.1.1h       | 5.8 MB    |            |   0% \n",
      "openssl-1.1.1h       | 5.8 MB    |            |   0% \n",
      "openssl-1.1.1h       | 5.8 MB    | #          |  10% \n",
      "openssl-1.1.1h       | 5.8 MB    | ##         |  20% \n",
      "openssl-1.1.1h       | 5.8 MB    | ###        |  31% \n",
      "openssl-1.1.1h       | 5.8 MB    | ####       |  41% \n",
      "openssl-1.1.1h       | 5.8 MB    | #####      |  51% \n",
      "openssl-1.1.1h       | 5.8 MB    | ######1    |  61% \n",
      "openssl-1.1.1h       | 5.8 MB    | #######1   |  71% \n",
      "openssl-1.1.1h       | 5.8 MB    | ########1  |  81% \n",
      "openssl-1.1.1h       | 5.8 MB    | #########1 |  91% \n",
      "openssl-1.1.1h       | 5.8 MB    | ########## | 100% \n",
      "\n",
      "html2text-2020.1.16  | 33 KB     |            |   0% \n",
      "html2text-2020.1.16  | 33 KB     | ########## | 100% \n",
      "Preparing transaction: ...working... done\n",
      "Verifying transaction: ...working... done\n",
      "Executing transaction: ...working... done\n"
     ]
    },
    {
     "name": "stderr",
     "output_type": "stream",
     "text": [
      "usage: conda-script.py [-h] [-V] command ...\n",
      "conda-script.py: error: unrecognized arguments: # conda install html2text\n"
     ]
    },
    {
     "name": "stdout",
     "output_type": "stream",
     "text": [
      "Collecting package metadata (current_repodata.json): ...working... done\n",
      "Solving environment: ...working... done\n",
      "\n",
      "# All requested packages already installed.\n",
      "\n",
      "Collecting package metadata (current_repodata.json): ...working... done\n",
      "Solving environment: ...working... done\n",
      "\n",
      "## Package Plan ##\n",
      "\n",
      "  environment location: C:\\Users\\moritz\\anaconda3\\envs\\social-2\n",
      "\n",
      "  added / updated specs:\n",
      "    - scikit-learn\n",
      "\n",
      "\n",
      "The following packages will be downloaded:\n",
      "\n",
      "    package                    |            build\n",
      "    ---------------------------|-----------------\n",
      "    openssl-1.1.1h             |       he774522_0         5.8 MB  anaconda\n",
      "    ------------------------------------------------------------\n",
      "                                           Total:         5.8 MB\n",
      "\n",
      "The following packages will be SUPERSEDED by a higher-priority channel:\n",
      "\n",
      "  ca-certificates    conda-forge::ca-certificates-2020.11.~ --> anaconda::ca-certificates-2020.10.14-0\n",
      "  certifi            conda-forge::certifi-2020.11.8-py36ha~ --> anaconda::certifi-2020.6.20-py36_0\n",
      "  openssl                                       conda-forge --> anaconda\n",
      "\n",
      "\n",
      "\n",
      "Downloading and Extracting Packages\n",
      "\n",
      "openssl-1.1.1h       | 5.8 MB    |            |   0% \n",
      "openssl-1.1.1h       | 5.8 MB    |            |   0% \n",
      "openssl-1.1.1h       | 5.8 MB    | #          |  10% \n",
      "openssl-1.1.1h       | 5.8 MB    | ##         |  20% \n",
      "openssl-1.1.1h       | 5.8 MB    | ###        |  30% \n",
      "openssl-1.1.1h       | 5.8 MB    | ####       |  40% \n",
      "openssl-1.1.1h       | 5.8 MB    | #####      |  51% \n",
      "openssl-1.1.1h       | 5.8 MB    | ######     |  61% \n",
      "openssl-1.1.1h       | 5.8 MB    | #######    |  71% \n",
      "openssl-1.1.1h       | 5.8 MB    | ########   |  81% \n",
      "openssl-1.1.1h       | 5.8 MB    | #########1 |  91% \n",
      "openssl-1.1.1h       | 5.8 MB    | ########## | 100% \n",
      "Preparing transaction: ...working... done\n",
      "Verifying transaction: ...working... done\n",
      "Executing transaction: ...working... done\n",
      "Collecting package metadata (current_repodata.json): ...working... done\n",
      "Solving environment: ...working... done\n",
      "\n",
      "## Package Plan ##\n",
      "\n",
      "  environment location: C:\\Users\\moritz\\anaconda3\\envs\\social-2\n",
      "\n",
      "  added / updated specs:\n",
      "    - matplotlib\n",
      "\n",
      "\n",
      "The following packages will be downloaded:\n",
      "\n",
      "    package                    |            build\n",
      "    ---------------------------|-----------------\n",
      "    openssl-1.1.1h             |       he774522_0         5.8 MB  conda-forge\n",
      "    ------------------------------------------------------------\n",
      "                                           Total:         5.8 MB\n",
      "\n",
      "The following packages will be UPDATED:\n",
      "\n",
      "  ca-certificates    anaconda::ca-certificates-2020.10.14-0 --> conda-forge::ca-certificates-2020.11.8-h5b45459_0\n",
      "  certifi                anaconda::certifi-2020.6.20-py36_0 --> conda-forge::certifi-2020.11.8-py36ha15d459_0\n",
      "\n",
      "The following packages will be SUPERSEDED by a higher-priority channel:\n",
      "\n",
      "  openssl                                          anaconda --> conda-forge\n",
      "\n",
      "\n",
      "\n",
      "Downloading and Extracting Packages\n",
      "\n",
      "openssl-1.1.1h       | 5.8 MB    |            |   0% \n",
      "openssl-1.1.1h       | 5.8 MB    |            |   0% \n",
      "openssl-1.1.1h       | 5.8 MB    | #          |  10% \n",
      "openssl-1.1.1h       | 5.8 MB    | ##         |  20% \n",
      "openssl-1.1.1h       | 5.8 MB    | ###        |  31% \n",
      "openssl-1.1.1h       | 5.8 MB    | ####       |  41% \n",
      "openssl-1.1.1h       | 5.8 MB    | #####1     |  51% \n",
      "openssl-1.1.1h       | 5.8 MB    | ######1    |  61% \n",
      "openssl-1.1.1h       | 5.8 MB    | #######1   |  71% \n",
      "openssl-1.1.1h       | 5.8 MB    | ########1  |  81% \n",
      "openssl-1.1.1h       | 5.8 MB    | #########1 |  92% \n",
      "openssl-1.1.1h       | 5.8 MB    | ########## | 100% \n",
      "Preparing transaction: ...working... done\n",
      "Verifying transaction: ...working... done\n",
      "Executing transaction: ...working... done\n",
      "Collecting package metadata (current_repodata.json): ...working... done\n",
      "Solving environment: ...working... done\n",
      "\n",
      "## Package Plan ##\n",
      "\n",
      "  environment location: C:\\Users\\moritz\\anaconda3\\envs\\social-2\n",
      "\n",
      "  added / updated specs:\n",
      "    - seaborn\n",
      "\n",
      "\n",
      "The following packages will be downloaded:\n",
      "\n",
      "    package                    |            build\n",
      "    ---------------------------|-----------------\n",
      "    openssl-1.1.1h             |       he774522_0         5.8 MB  anaconda\n",
      "    ------------------------------------------------------------\n",
      "                                           Total:         5.8 MB\n",
      "\n",
      "The following packages will be SUPERSEDED by a higher-priority channel:\n",
      "\n",
      "  ca-certificates    conda-forge::ca-certificates-2020.11.~ --> anaconda::ca-certificates-2020.10.14-0\n",
      "  certifi            conda-forge::certifi-2020.11.8-py36ha~ --> anaconda::certifi-2020.6.20-py36_0\n",
      "  openssl                                       conda-forge --> anaconda\n",
      "\n",
      "\n",
      "\n",
      "Downloading and Extracting Packages\n",
      "\n",
      "openssl-1.1.1h       | 5.8 MB    |            |   0% \n",
      "openssl-1.1.1h       | 5.8 MB    |            |   0% \n",
      "openssl-1.1.1h       | 5.8 MB    | #          |  10% \n",
      "openssl-1.1.1h       | 5.8 MB    | ##         |  21% \n",
      "openssl-1.1.1h       | 5.8 MB    | ###        |  31% \n",
      "openssl-1.1.1h       | 5.8 MB    | ####1      |  41% \n",
      "openssl-1.1.1h       | 5.8 MB    | #####1     |  51% \n",
      "openssl-1.1.1h       | 5.8 MB    | ######1    |  61% \n",
      "openssl-1.1.1h       | 5.8 MB    | #######1   |  71% \n",
      "openssl-1.1.1h       | 5.8 MB    | ########1  |  82% \n",
      "openssl-1.1.1h       | 5.8 MB    | #########1 |  92% \n",
      "openssl-1.1.1h       | 5.8 MB    | ########## | 100% \n",
      "Preparing transaction: ...working... done\n",
      "Verifying transaction: ...working... done\n",
      "Executing transaction: ...working... done\n",
      "Done\n"
     ]
    }
   ],
   "source": [
    "install_packages = False\n",
    "if install_packages:\n",
    "    !conda install tensorflow=2 -y\n",
    "    !conda install -c anaconda pandas -y\n",
    "    !conda install -c conda-forge html2text -y\n",
    "    !conda install -c conda-forge tensorflow-hub -y # !conda install -c akode html2text -y\n",
    "    !conda install -c conda-forge tqdm -y\n",
    "    !conda install -c anaconda scikit-learn -y\n",
    "    !conda install -c conda-forge matplotlib -y\n",
    "    !conda install -c anaconda seaborn -y\n",
    "    print(\"Done\")"
   ]
  },
  {
   "cell_type": "markdown",
   "metadata": {},
   "source": [
    "# Imports"
   ]
  },
  {
   "cell_type": "code",
   "execution_count": 4,
   "metadata": {
    "id": "xD4HKjy9TC-g"
   },
   "outputs": [],
   "source": [
    "#imports\n",
    "import pandas as pd\n",
    "import numpy as np\n",
    "import os\n",
    "import time\n",
    "import tensorflow as tf\n",
    "import tensorflow_hub as hub\n",
    "import zipfile\n",
    "from html2text import HTML2Text\n",
    "from tqdm import tqdm\n",
    "import re\n",
    "from sklearn.metrics import pairwise_distances\n",
    "from sklearn.preprocessing import normalize\n",
    "import matplotlib.pyplot as plt\n",
    "import seaborn as sns"
   ]
  },
  {
   "cell_type": "markdown",
   "metadata": {},
   "source": [
    "# Set pandas print options\n",
    "This will improve readability of printed pandas dataframe.\n"
   ]
  },
  {
   "cell_type": "code",
   "execution_count": 5,
   "metadata": {
    "id": "SEH28FctS6SP"
   },
   "outputs": [],
   "source": [
    "pd.set_option('display.max_rows', None)\n",
    "pd.set_option('display.max_columns', None)\n",
    "pd.set_option('display.width', None)\n",
    "pd.set_option('display.max_colwidth', None)"
   ]
  },
  {
   "cell_type": "markdown",
   "metadata": {},
   "source": [
    "## Set global Parameters\n",
    "Set your parameters here:\n",
    "\n",
    "data_path: In this path put the data you have downloaded with YouTube Data Tools. \n",
    "output_path: Tghe files generated in this notebook will be saved here.\n",
    "\n",
    "url_dict: URLs to models on Tensorflow hub are saved here. Other models are available there.\n",
    "model_type: Define which model you would like to use. Choose one from url_dict\n",
    "\n",
    "new_embeddings: If this is true, new embeddings will be generated and saved at output_path. Otherwise, embeddings are loaded from Disc.\n",
    "\n",
    "\n"
   ]
  },
  {
   "cell_type": "code",
   "execution_count": 6,
   "metadata": {
    "id": "TL7Rvq_TD086"
   },
   "outputs": [],
   "source": [
    "data_path = './data/videoinfo_VMXcbWwzeY8_2020_11_24-15_26_42_comments.tab'\n",
    "output_path = \"./output/\"\n",
    "\n",
    "new_embeddings = True\n",
    "\n",
    "url_dict = {\n",
    "            'Transformer' : \"https://tfhub.dev/google/universal-sentence-encoder-large/5\",\n",
    "            'DAN' : \"https://tfhub.dev/google/universal-sentence-encoder/4\",\n",
    "            'Transformer_Multilingual': \"https://tfhub.dev/google/universal-sentence-encoder-multilingual-large/3\"\n",
    "}\n",
    "\n",
    "model_type = 'Transformer' #@param ['DAN','Transformer','Transformer_Multilingual']"
   ]
  },
  {
   "cell_type": "markdown",
   "metadata": {},
   "source": [
    "## Create output directory\n",
    "Try to create the directory defined by output_path"
   ]
  },
  {
   "cell_type": "code",
   "execution_count": 7,
   "metadata": {
    "colab": {
     "base_uri": "https://localhost:8080/"
    },
    "id": "NuvhsxjlZFhu",
    "outputId": "436a89b3-9ae8-4f74-f236-4a3f55b64d6d"
   },
   "outputs": [
    {
     "name": "stdout",
     "output_type": "stream",
     "text": [
      "Successfully created the directory ./output/ \n"
     ]
    }
   ],
   "source": [
    "try:\n",
    "   os.mkdir(output_path)\n",
    "except OSError:\n",
    "  print (\"Creation of the directory %s failed\" % output_path)\n",
    "else:\n",
    "  print (\"Successfully created the directory %s \" % output_path)\n"
   ]
  },
  {
   "cell_type": "markdown",
   "metadata": {
    "id": "VO9QOLP_9DxJ"
   },
   "source": [
    "# Load Data\n",
    "Load you data as a pandas dataframe"
   ]
  },
  {
   "cell_type": "code",
   "execution_count": 8,
   "metadata": {},
   "outputs": [],
   "source": [
    "if new_embeddings:\n",
    "    data = pd.read_csv(data_path,sep='\\t',header=(0))\n",
    "    data.head()"
   ]
  },
  {
   "cell_type": "markdown",
   "metadata": {
    "id": "_IUWISh1M5nz"
   },
   "source": [
    "# Preprocessing\n",
    "Preprocess your data:\n",
    "- Drop empty rows\n",
    "- Drop unused columns"
   ]
  },
  {
   "cell_type": "code",
   "execution_count": 9,
   "metadata": {
    "id": "gbU3mk83MBIH"
   },
   "outputs": [],
   "source": [
    "if new_embeddings:\n",
    "    data = data.dropna(subset=['text', 'authorName']) # drop rows with no content\n",
    "    data=data.drop(['id', 'replyCount','likeCount','authorChannelUrl','authorChannelId','isReplyTo','isReplyToName'],axis=1) # drop unused columns\n",
    "    data.head()"
   ]
  },
  {
   "cell_type": "markdown",
   "metadata": {},
   "source": [
    "- remove HTML-tags, links and usernames"
   ]
  },
  {
   "cell_type": "code",
   "execution_count": 10,
   "metadata": {
    "id": "vIgxEvzcM39J"
   },
   "outputs": [
    {
     "name": "stderr",
     "output_type": "stream",
     "text": [
      "100%|███████████████████████████████████████████████████████████████████████████| 1520/1520 [00:00<00:00, 11286.85it/s]\n"
     ]
    },
    {
     "name": "stdout",
     "output_type": "stream",
     "text": [
      "Removed HTML Tags.\n",
      "Removed Links.\n",
      "Removed user names.\n"
     ]
    }
   ],
   "source": [
    "if new_embeddings:\n",
    "    # Remove HTML tags\n",
    "    tqdm.pandas()\n",
    "    h = HTML2Text()\n",
    "    h.ignore_links = True\n",
    "    data['cleaned'] = data['text'].progress_apply(lambda x: h.handle(x))\n",
    "    print( \"Removed HTML Tags.\")\n",
    "\n",
    "    # Remove links\n",
    "    http_link_pattern = r'http\\S+'\n",
    "    bitly_link_pattern = r'bit.ly/\\S+'\n",
    "    data['cleaned'] = data['cleaned'].str.replace(http_link_pattern, '')\n",
    "    data['cleaned'] = data['cleaned'].str.replace(bitly_link_pattern, '')\n",
    "    print( \"Removed Links.\")\n",
    "\n",
    "    # Remove user names\n",
    "    keep_names = [\"earth\", \"Tide\", \"Geologist\", \"A Person\", \"Titanic\", \"adventure\", \"Sun\", \"The United States Of America\"] # user names we want to keep\n",
    "    user_names = [name for name in data['authorName'].unique() if (len(name)> 3 and name not in keep_names)]\n",
    "    data['cleaned'] = data['cleaned'].str.replace('|'.join(map(re.escape, user_names)), '')\n",
    "    print( \"Removed user names.\")"
   ]
  },
  {
   "cell_type": "markdown",
   "metadata": {},
   "source": [
    "# Save or Load preprocessed data\n",
    "\n",
    "Save your data afte preprocessing, or load preprocessed data from disc."
   ]
  },
  {
   "cell_type": "code",
   "execution_count": 11,
   "metadata": {
    "colab": {
     "base_uri": "https://localhost:8080/"
    },
    "id": "W0uP3D5IXvyT",
    "outputId": "ce705b12-d180-438e-8bb7-86a5dfffbdcf"
   },
   "outputs": [
    {
     "data": {
      "text/html": [
       "<div>\n",
       "<style scoped>\n",
       "    .dataframe tbody tr th:only-of-type {\n",
       "        vertical-align: middle;\n",
       "    }\n",
       "\n",
       "    .dataframe tbody tr th {\n",
       "        vertical-align: top;\n",
       "    }\n",
       "\n",
       "    .dataframe thead th {\n",
       "        text-align: right;\n",
       "    }\n",
       "</style>\n",
       "<table border=\"1\" class=\"dataframe\">\n",
       "  <thead>\n",
       "    <tr style=\"text-align: right;\">\n",
       "      <th></th>\n",
       "      <th>publishedAt</th>\n",
       "      <th>authorName</th>\n",
       "      <th>text</th>\n",
       "      <th>isReply</th>\n",
       "      <th>cleaned</th>\n",
       "    </tr>\n",
       "  </thead>\n",
       "  <tbody>\n",
       "    <tr>\n",
       "      <th>0</th>\n",
       "      <td>2020-11-21 01:19:26</td>\n",
       "      <td>GS Railfann</td>\n",
       "      <td>Climate is fake</td>\n",
       "      <td>0</td>\n",
       "      <td>Climate is fake\\n\\n</td>\n",
       "    </tr>\n",
       "    <tr>\n",
       "      <th>1</th>\n",
       "      <td>2020-11-14 21:25:35</td>\n",
       "      <td>Rajat Baniya</td>\n",
       "      <td>Lol..</td>\n",
       "      <td>0</td>\n",
       "      <td>Lol..\\n\\n</td>\n",
       "    </tr>\n",
       "    <tr>\n",
       "      <th>2</th>\n",
       "      <td>2020-11-14 14:33:33</td>\n",
       "      <td>Syria Siri</td>\n",
       "      <td>The poor countries on this planet no climate change is real , The rich deny it because of money , As usual the poor with nothing who live simple lives suffer in this Life , i am sure it will be the other way around in the next life ?</td>\n",
       "      <td>0</td>\n",
       "      <td>The poor countries on this planet no climate change is real , The rich deny it\\nbecause of money , As usual the poor with nothing who live simple lives suffer\\nin this Life , i am sure it will be the other way around in the next life ?\\n\\n</td>\n",
       "    </tr>\n",
       "    <tr>\n",
       "      <th>3</th>\n",
       "      <td>2020-11-04 16:18:39</td>\n",
       "      <td>Catface Toons</td>\n",
       "      <td>Trump said global warming was a hoax just look at the ice caps tell that to the folks</td>\n",
       "      <td>0</td>\n",
       "      <td>Trump said global warming was a hoax just look at the ice caps tell that to\\nthe folks\\n\\n</td>\n",
       "    </tr>\n",
       "    <tr>\n",
       "      <th>4</th>\n",
       "      <td>2020-10-31 22:15:38</td>\n",
       "      <td>Tim Popik</td>\n",
       "      <td>Why was it that California was not taking care of the forests? - zero forest management. Nature&amp;#39;s way to manage forests is FIRE</td>\n",
       "      <td>0</td>\n",
       "      <td>Why was it that California was not taking care of the forests? - zero forest\\nmanagement. Nature's way to manage forests is FIRE\\n\\n</td>\n",
       "    </tr>\n",
       "  </tbody>\n",
       "</table>\n",
       "</div>"
      ],
      "text/plain": [
       "           publishedAt     authorName  \\\n",
       "0  2020-11-21 01:19:26    GS Railfann   \n",
       "1  2020-11-14 21:25:35   Rajat Baniya   \n",
       "2  2020-11-14 14:33:33     Syria Siri   \n",
       "3  2020-11-04 16:18:39  Catface Toons   \n",
       "4  2020-10-31 22:15:38      Tim Popik   \n",
       "\n",
       "                                                                                                                                                                                                                                        text  \\\n",
       "0                                                                                                                                                                                                                            Climate is fake   \n",
       "1                                                                                                                                                                                                                                      Lol..   \n",
       "2  The poor countries on this planet no climate change is real , The rich deny it because of money , As usual the poor with nothing who live simple lives suffer in this Life , i am sure it will be the other way around in the next life ?   \n",
       "3                                                                                                                                                      Trump said global warming was a hoax just look at the ice caps tell that to the folks   \n",
       "4                                                                                                        Why was it that California was not taking care of the forests? - zero forest management. Nature&#39;s way to manage forests is FIRE   \n",
       "\n",
       "   isReply  \\\n",
       "0        0   \n",
       "1        0   \n",
       "2        0   \n",
       "3        0   \n",
       "4        0   \n",
       "\n",
       "                                                                                                                                                                                                                                           cleaned  \n",
       "0                                                                                                                                                                                                                              Climate is fake\\n\\n  \n",
       "1                                                                                                                                                                                                                                        Lol..\\n\\n  \n",
       "2  The poor countries on this planet no climate change is real , The rich deny it\\nbecause of money , As usual the poor with nothing who live simple lives suffer\\nin this Life , i am sure it will be the other way around in the next life ?\\n\\n  \n",
       "3                                                                                                                                                       Trump said global warming was a hoax just look at the ice caps tell that to\\nthe folks\\n\\n  \n",
       "4                                                                                                             Why was it that California was not taking care of the forests? - zero forest\\nmanagement. Nature's way to manage forests is FIRE\\n\\n  "
      ]
     },
     "execution_count": 11,
     "metadata": {},
     "output_type": "execute_result"
    }
   ],
   "source": [
    "if new_embeddings:\n",
    "  data.to_pickle(output_path+'data_preprocessed'+'.pkl')\n",
    "else:\n",
    "  data = pd.read_pickle(output_path+'data_preprocessed'+'.pkl')\n",
    "data.head()"
   ]
  },
  {
   "cell_type": "markdown",
   "metadata": {
    "id": "5YxXP5PtAFyV"
   },
   "source": [
    "# Produce Text Embeddings with Universal Sentence Encoder"
   ]
  },
  {
   "cell_type": "markdown",
   "metadata": {
    "id": "d_sStH0bXhFD"
   },
   "source": [
    "## Load Model\n",
    "Load the model from TF-hub"
   ]
  },
  {
   "cell_type": "code",
   "execution_count": 12,
   "metadata": {
    "id": "ugb89Xy7XdqR"
   },
   "outputs": [
    {
     "name": "stdout",
     "output_type": "stream",
     "text": [
      "Loading model. This will take some time...\n"
     ]
    }
   ],
   "source": [
    "hub_url = url_dict[model_type]\n",
    "if new_embeddings:\n",
    "  print(\"Loading model. This will take some time...\")\n",
    "  embed = hub.load(hub_url)"
   ]
  },
  {
   "cell_type": "markdown",
   "metadata": {},
   "source": [
    "## Embed Documents\n",
    "Produce embeddings of your documents."
   ]
  },
  {
   "cell_type": "code",
   "execution_count": 13,
   "metadata": {
    "id": "Yz3Qlca7YGEN"
   },
   "outputs": [
    {
     "name": "stdout",
     "output_type": "stream",
     "text": [
      "1 2 3 4 5 6 7 The embeddings vector is of fixed length 512\n"
     ]
    },
    {
     "data": {
      "text/plain": [
       "TensorShape([1520, 512])"
      ]
     },
     "execution_count": 13,
     "metadata": {},
     "output_type": "execute_result"
    }
   ],
   "source": [
    "if new_embeddings:\n",
    "    for k,g in data.groupby(np.arange(len(data))//200):\n",
    "        if k == 0:\n",
    "            embeddings = embed(g['cleaned'])\n",
    "        else:\n",
    "            embeddings_new = embed(g['cleaned'])\n",
    "            embeddings = tf.concat(values=[embeddings,embeddings_new],axis = 0)\n",
    "            print(k , end =\" \")\n",
    "    print(\"The embeddings vector is of fixed length {}\".format(embeddings.shape[1]))\n",
    "\n",
    "    np.save(output_path+'/embeddings'+model_type+'.npy', embeddings, allow_pickle=True, fix_imports=True)\n",
    "else:\n",
    "    embeddings = np.load(output_path+'/embeddings'+model_type+'.npy', mmap_mode=None, allow_pickle=False, fix_imports=True, encoding='ASCII')\n",
    "\n",
    "embeddings.shape"
   ]
  },
  {
   "cell_type": "markdown",
   "metadata": {
    "id": "oFTi_5lUAnJF"
   },
   "source": [
    "## Calculate Similarity Matrix with angular distance\n",
    "\n",
    "'Following Cer et al. (2018), we first compute\n",
    "the sentence embeddings u, v for an STS sentence\n",
    "pair, and then score the sentence pair similarity\n",
    "based on the angular distance between the two\n",
    "embedding vectors  d = − arccos (uv/||u|| ||v||\u0011).'"
   ]
  },
  {
   "cell_type": "code",
   "execution_count": 14,
   "metadata": {},
   "outputs": [
    {
     "name": "stdout",
     "output_type": "stream",
     "text": [
      "[[ 1.          0.08336148  0.3147695  ...  0.15701678  0.43515855\n",
      "   0.20181644]\n",
      " [ 0.08336148  1.         -0.03067182 ...  0.20465687 -0.01571003\n",
      "   0.14301391]\n",
      " [ 0.3147695  -0.03067182  1.         ...  0.03741583  0.40591344\n",
      "   0.04954696]\n",
      " ...\n",
      " [ 0.15701678  0.20465687  0.03741583 ...  0.99999994 -0.00946979\n",
      "   0.17928067]\n",
      " [ 0.43515855 -0.01571003  0.40591344 ... -0.00946979  1.0000001\n",
      "   0.0582822 ]\n",
      " [ 0.20181644  0.14301391  0.04954696 ...  0.17928067  0.0582822\n",
      "   1.0000001 ]]\n"
     ]
    }
   ],
   "source": [
    "from sklearn.metrics.pairwise import cosine_similarity\n",
    "def cos_sim(input_vectors):\n",
    "    similarity = cosine_similarity(input_vectors)\n",
    "    return similarity\n",
    "cosine_similarity_matrix = cos_sim(np.array(embeddings))\n",
    "print(cosine_similarity_matrix)"
   ]
  },
  {
   "cell_type": "markdown",
   "metadata": {},
   "source": [
    "# Plots Similarity \n",
    "Plot and print a heat map showing the semantic contextual similarity between comments."
   ]
  },
  {
   "cell_type": "code",
   "execution_count": 25,
   "metadata": {},
   "outputs": [
    {
     "data": {
      "image/png": "[encoded data removed]",
      "text/plain": [
       "<Figure size 432x288 with 2 Axes>"
      ]
     },
     "metadata": {},
     "output_type": "display_data"
    }
   ],
   "source": [
    "import seaborn as sns\n",
    "def plot_similarity(labels, features, rotation):\n",
    "  corr = np.inner(features, features)\n",
    "  sns.set(font_scale=1.2)\n",
    "  g = sns.heatmap(\n",
    "      corr,\n",
    "      xticklabels=labels,\n",
    "      yticklabels=labels,\n",
    "      vmin=0,\n",
    "      vmax=1,\n",
    "      cmap=\"YlOrRd\")\n",
    "  g.set_xticklabels(labels, rotation=rotation)\n",
    "  g.set_title(\"Semantic Textual Similarity\")\n",
    "\n",
    "num_samples = 5\n",
    "off_set = 170\n",
    "\n",
    "plot_similarity(data.iloc[off_set:off_set+num_samples]['cleaned'], embeddings[off_set:off_set+num_samples], 90)"
   ]
  },
  {
   "cell_type": "markdown",
   "metadata": {},
   "source": [
    "# Show neighbours of a comment \n",
    "Define which comment to analyze"
   ]
  },
  {
   "cell_type": "code",
   "execution_count": 26,
   "metadata": {},
   "outputs": [
    {
     "name": "stdout",
     "output_type": "stream",
     "text": [
      "“I don’t think science knows” -person who claimed there were airports in 1776\n",
      "\n",
      "\n"
     ]
    }
   ],
   "source": [
    "comment_index = 171\n",
    "comment = data[\"cleaned\"][comment_index]\n",
    "comment_list = data[\"cleaned\"].tolist()\n",
    "print(comment)"
   ]
  },
  {
   "cell_type": "markdown",
   "metadata": {},
   "source": [
    "Print similar comments."
   ]
  },
  {
   "cell_type": "code",
   "execution_count": 27,
   "metadata": {},
   "outputs": [
    {
     "name": "stdout",
     "output_type": "stream",
     "text": [
      "Top similar comment 1: “I don’t think science knows” -person who claimed there were airports in 1776\n",
      "\n",
      "\n",
      "Top similar comment 2: \"I don't think science knows, actually\"  \n",
      "~Donald Trump\n",
      "\n",
      "\n",
      "Top similar comment 3: Nobody knows more about science, than Trump.\n",
      "\n",
      "\n",
      "Top similar comment 4: Imagine actually believing some guy that said science doesn’t know what it’s\n",
      "talking about, instead of 99.7% of all scientists.🤦🏻\n",
      "\n",
      "\n",
      "Top similar comment 5: \"I don't think science knows\"\\- D. Trump.\n",
      "\n",
      "\n",
      "Top similar comment 6: Did the guy just say \"I don't think science know, actually\"???\n",
      "\n",
      "\n",
      "Top similar comment 7: @ science doesn't know that this is an arson\n",
      "\n",
      "\n",
      "Top similar comment 8: \"I dOnT ThInK sCiEnCe kNoWs aCtUaLlY\"  \n",
      "I'm surprised he's not an anti vaxxer/ flat earther\n",
      "\n",
      "\n",
      "Top similar comment 9: \"I don't think Science knows.\" Truest words Trump ever spoke. Down with the\n",
      "mandated religion of Scientificism!\n",
      "\n",
      "\n",
      "Top similar comment 10: The Science clearly doesn't know because the fires don't go into the Canadian\n",
      "or Mexican Borders. The Science clearly clearly doesn't know.\n",
      "\n",
      "\n",
      "Top similar comment 11: He doesn't know any science that knows, that's why.\n",
      "\n",
      "\n",
      "Top similar comment 12: There's no scientific consensus...only a media one.\n",
      "\n",
      "\n",
      "Top similar comment 13: Unfortunately only the left believes scientists. The right gets their science\n",
      "from Trump\n",
      "\n",
      "\n",
      "Top similar comment 14: Lots of scientists believe Climate change is bullshit like covid\n",
      "\n",
      "\n",
      "Top similar comment 15: \"I don't think science knows, actually\" President of America, ladies and\n",
      "gentlemen. What's more shocking is those morons still support him.\n",
      "\n",
      "\n",
      "Top similar comment 16: Science doesn't know lol so true\n",
      "\n",
      "\n",
      "Top similar comment 17: “I don’t think science knows actually.” That’s not denial - it’s saying we\n",
      "don’t know for certain what’s causing it.\n",
      "\n",
      "\n",
      "Top similar comment 18: @ I would imagine he has up to date information\n",
      "regarding the numerous arson attacks that have been taking place over the\n",
      "countrysides - something that is not even being factored into the opinions of\n",
      "the scientists presenting their reports. So, yes... \"Science doesn't know\" in\n",
      "this case.\n",
      "\n",
      "\n",
      "Top similar comment 19: Stupid arse he need therapy! \" I DON'T THINK SCIENCE KNOWS\"! WTF MR DUCK\n",
      "\n",
      "\n",
      "Top similar comment 20: I honestly thought Oz was more aware of the science of climate change. Your\n",
      "news station is disappointing.\n",
      "\n",
      "\n"
     ]
    }
   ],
   "source": [
    "def get_top_similar(sentence, sentence_list, similarity_matrix, topN):\n",
    "    # find the index of sentence in list\n",
    "    index = sentence_list.index(sentence)\n",
    "    # get the corresponding row in similarity matrix\n",
    "    similarity_row = np.array(similarity_matrix[index, :])\n",
    "    # get the indices of top similar\n",
    "    indices = similarity_row.argsort()[-topN:][::-1]\n",
    "    return [sentence_list[i] for i in indices]\n",
    "\n",
    "\n",
    "for i, value in enumerate(get_top_similar(comment, comment_list, cosine_similarity_matrix, 20)):\n",
    "  print(\"Top similar comment {}: {}\".format(i+1, value))"
   ]
  },
  {
   "cell_type": "code",
   "execution_count": null,
   "metadata": {},
   "outputs": [],
   "source": []
  },
  {
   "cell_type": "code",
   "execution_count": null,
   "metadata": {},
   "outputs": [],
   "source": []
  },
  {
   "cell_type": "code",
   "execution_count": null,
   "metadata": {},
   "outputs": [],
   "source": []
  },
  {
   "cell_type": "code",
   "execution_count": null,
   "metadata": {},
   "outputs": [],
   "source": []
  },
  {
   "cell_type": "code",
   "execution_count": null,
   "metadata": {},
   "outputs": [],
   "source": []
  },
  {
   "cell_type": "code",
   "execution_count": null,
   "metadata": {},
   "outputs": [],
   "source": []
  }
 ],
 "metadata": {
  "colab": {
   "collapsed_sections": [],
   "name": "USE_Experiments_new.ipynb",
   "provenance": [],
   "toc_visible": true
  },
  "kernelspec": {
   "display_name": "Python 3",
   "language": "python",
   "name": "python3"
  },
  "language_info": {
   "codemirror_mode": {
    "name": "ipython",
    "version": 3
   },
   "file_extension": ".py",
   "mimetype": "text/x-python",
   "name": "python",
   "nbconvert_exporter": "python",
   "pygments_lexer": "ipython3",
   "version": "3.6.12"
  }
 },
 "nbformat": 4,
 "nbformat_minor": 4
}
