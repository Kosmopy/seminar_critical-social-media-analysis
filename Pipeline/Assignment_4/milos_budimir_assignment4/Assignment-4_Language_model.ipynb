{
 "cells": [
  {
   "cell_type": "markdown",
   "metadata": {
    "id": "iFXsrSxJlzCW"
   },
   "source": [
    "#Introduction\n",
    "\n",
    ".....\n"
   ]
  },
  {
   "cell_type": "markdown",
   "metadata": {},
   "source": [
    "Check to see if jupyter lab uses the correct python interpreter with '!which python'.\n",
    "It should be something like '/opt/anaconda3/envs/[environment name]/bin/python' (on Mac).\n",
    "If not, try this: https://github.com/jupyter/notebook/issues/3146#issuecomment-352718675"
   ]
  },
  {
   "cell_type": "code",
   "execution_count": 1,
   "metadata": {},
   "outputs": [],
   "source": [
    "!which python"
   ]
  },
  {
   "cell_type": "markdown",
   "metadata": {},
   "source": [
    "# Install dependencies:"
   ]
  },
  {
   "cell_type": "code",
   "execution_count": 2,
   "metadata": {
    "colab": {
     "base_uri": "https://localhost:8080/"
    },
    "id": "H0q7BTlbiCWW",
    "outputId": "32ddd123-4834-4913-f942-038e830d9276"
   },
   "outputs": [
    {
     "name": "stdout",
     "output_type": "stream",
     "text": [
      "Collecting package metadata (current_repodata.json): done\n",
      "Solving environment: done\n",
      "\n",
      "## Package Plan ##\n",
      "\n",
      "  environment location: /home/budmil/anaconda3\n",
      "\n",
      "  added / updated specs:\n",
      "    - tensorflow=2\n",
      "\n",
      "\n",
      "The following packages will be downloaded:\n",
      "\n",
      "    package                    |            build\n",
      "    ---------------------------|-----------------\n",
      "    ca-certificates-2020.10.14 |                0         121 KB\n",
      "    openssl-1.1.1h             |       h7b6447c_0         2.5 MB\n",
      "    ------------------------------------------------------------\n",
      "                                           Total:         2.7 MB\n",
      "\n",
      "The following packages will be SUPERSEDED by a higher-priority channel:\n",
      "\n",
      "  ca-certificates                                  anaconda --> pkgs/main\n",
      "  conda              conda-forge::conda-4.9.2-py38h578d9bd~ --> pkgs/main::conda-4.9.2-py38h06a4308_0\n",
      "  openssl                                          anaconda --> pkgs/main\n",
      "\n",
      "\n",
      "\n",
      "Downloading and Extracting Packages\n",
      "openssl-1.1.1h       | 2.5 MB    | ##################################### | 100% \n",
      "ca-certificates-2020 | 121 KB    | ##################################### | 100% \n",
      "Preparing transaction: done\n",
      "Verifying transaction: done\n",
      "Executing transaction: done\n",
      "Collecting package metadata (current_repodata.json): done\n",
      "Solving environment: done\n",
      "\n",
      "## Package Plan ##\n",
      "\n",
      "  environment location: /home/budmil/anaconda3\n",
      "\n",
      "  added / updated specs:\n",
      "    - pandas\n",
      "\n",
      "\n",
      "The following packages will be downloaded:\n",
      "\n",
      "    package                    |            build\n",
      "    ---------------------------|-----------------\n",
      "    ca-certificates-2020.10.14 |                0         128 KB  anaconda\n",
      "    openssl-1.1.1h             |       h7b6447c_0         3.8 MB  anaconda\n",
      "    ------------------------------------------------------------\n",
      "                                           Total:         3.9 MB\n",
      "\n",
      "The following packages will be SUPERSEDED by a higher-priority channel:\n",
      "\n",
      "  ca-certificates                                 pkgs/main --> anaconda\n",
      "  openssl                                         pkgs/main --> anaconda\n",
      "\n",
      "\n",
      "\n",
      "Downloading and Extracting Packages\n",
      "ca-certificates-2020 | 128 KB    | ##################################### | 100% \n",
      "openssl-1.1.1h       | 3.8 MB    | ##################################### | 100% \n",
      "Preparing transaction: done\n",
      "Verifying transaction: done\n",
      "Executing transaction: done\n",
      "Collecting package metadata (current_repodata.json): done\n",
      "Solving environment: / \n",
      "Warning: 4 possible package resolutions (only showing differing packages):\n",
      "  - anaconda/linux-64::ca-certificates-2020.10.14-0, anaconda/linux-64::openssl-1.1.1h-h7b6447c_0\n",
      "  - anaconda/linux-64::ca-certificates-2020.10.14-0, defaults/linux-64::openssl-1.1.1h-h7b6447c_0\n",
      "  - anaconda/linux-64::openssl-1.1.1h-h7b6447c_0, defaults/linux-64::ca-certificates-2020.10.14-0\n",
      "  - defaults/linux-64::ca-certificates-2020.10.14-0, defaults/linux-64::openssl-1.1.1h-h7b6447cdone\n",
      "\n",
      "## Package Plan ##\n",
      "\n",
      "  environment location: /home/budmil/anaconda3\n",
      "\n",
      "  added / updated specs:\n",
      "    - tensorflow-hub\n",
      "\n",
      "\n",
      "The following packages will be SUPERSEDED by a higher-priority channel:\n",
      "\n",
      "  conda               pkgs/main::conda-4.9.2-py38h06a4308_0 --> conda-forge::conda-4.9.2-py38h578d9bd_0\n",
      "\n",
      "\n",
      "Preparing transaction: done\n",
      "Verifying transaction: done\n",
      "Executing transaction: done\n",
      "Collecting package metadata (current_repodata.json): done\n",
      "Solving environment: failed with initial frozen solve. Retrying with flexible solve.\n",
      "Collecting package metadata (repodata.json): done\n",
      "Solving environment: failed with initial frozen solve. Retrying with flexible solve.\n",
      "\n",
      "PackagesNotFoundError: The following packages are not available from current channels:\n",
      "\n",
      "  - html2text\n",
      "\n",
      "Current channels:\n",
      "\n",
      "  - https://conda.anaconda.org/akode/linux-64\n",
      "  - https://conda.anaconda.org/akode/noarch\n",
      "  - https://repo.anaconda.com/pkgs/main/linux-64\n",
      "  - https://repo.anaconda.com/pkgs/main/noarch\n",
      "  - https://repo.anaconda.com/pkgs/r/linux-64\n",
      "  - https://repo.anaconda.com/pkgs/r/noarch\n",
      "\n",
      "To search for alternate channels that may provide the conda package you're\n",
      "looking for, navigate to\n",
      "\n",
      "    https://anaconda.org\n",
      "\n",
      "and use the search bar at the top of the page.\n",
      "\n",
      "\n",
      "Collecting package metadata (current_repodata.json): done\n",
      "Solving environment: - \n",
      "Warning: 4 possible package resolutions (only showing differing packages):\n",
      "  - anaconda/linux-64::ca-certificates-2020.10.14-0, anaconda/linux-64::openssl-1.1.1h-h7b6447c_0\n",
      "  - anaconda/linux-64::openssl-1.1.1h-h7b6447c_0, defaults/linux-64::ca-certificates-2020.10.14-0\n",
      "  - anaconda/linux-64::ca-certificates-2020.10.14-0, defaults/linux-64::openssl-1.1.1h-h7b6447c_0\n",
      "  - defaults/linux-64::ca-certificates-2020.10.14-0, defaults/linux-64::openssl-1.1.1h-h7b6447cdone\n",
      "\n",
      "# All requested packages already installed.\n",
      "\n",
      "Collecting package metadata (current_repodata.json): done\n",
      "Solving environment: done\n",
      "\n",
      "# All requested packages already installed.\n",
      "\n",
      "Collecting package metadata (current_repodata.json): done\n",
      "Solving environment: / \n",
      "Warning: 4 possible package resolutions (only showing differing packages):\n",
      "  - anaconda/linux-64::ca-certificates-2020.10.14-0, anaconda/linux-64::openssl-1.1.1h-h7b6447c_0\n",
      "  - anaconda/linux-64::ca-certificates-2020.10.14-0, defaults/linux-64::openssl-1.1.1h-h7b6447c_0\n",
      "  - anaconda/linux-64::openssl-1.1.1h-h7b6447c_0, defaults/linux-64::ca-certificates-2020.10.14-0\n",
      "  - defaults/linux-64::ca-certificates-2020.10.14-0, defaults/linux-64::openssl-1.1.1h-h7b6447cdone\n",
      "\n",
      "# All requested packages already installed.\n",
      "\n",
      "Collecting package metadata (current_repodata.json): done\n",
      "Solving environment: done\n",
      "\n",
      "# All requested packages already installed.\n",
      "\n"
     ]
    }
   ],
   "source": [
    "install_packages = True\n",
    "if install_packages:\n",
    "    !conda install tensorflow=2 -y\n",
    "    !conda install -c anaconda pandas -y\n",
    "    !conda install -c conda-forge tensorflow-hub -y\n",
    "    !conda install -c akode html2text -y\n",
    "    !conda install -c conda-forge tqdm -y\n",
    "    !conda install -c anaconda scikit-learn -y\n",
    "    !conda install -c conda-forge matplotlib -y\n",
    "    !conda install -c anaconda seaborn -y"
   ]
  },
  {
   "cell_type": "code",
   "execution_count": 3,
   "metadata": {},
   "outputs": [
    {
     "name": "stdout",
     "output_type": "stream",
     "text": [
      "Requirement already satisfied: html2text in /home/budmil/anaconda3/lib/python3.8/site-packages (2020.1.16)\r\n"
     ]
    }
   ],
   "source": [
    "!pip install html2text"
   ]
  },
  {
   "cell_type": "markdown",
   "metadata": {},
   "source": [
    "# Imports"
   ]
  },
  {
   "cell_type": "code",
   "execution_count": 1,
   "metadata": {
    "id": "xD4HKjy9TC-g"
   },
   "outputs": [],
   "source": [
    "#imports\n",
    "import pandas as pd\n",
    "import numpy as np\n",
    "import os\n",
    "import time\n",
    "import tensorflow as tf\n",
    "import tensorflow_hub as hub\n",
    "import zipfile\n",
    "from html2text import HTML2Text\n",
    "from tqdm import tqdm\n",
    "import re\n",
    "from sklearn.metrics import pairwise_distances\n",
    "from sklearn.preprocessing import normalize\n",
    "import matplotlib.pyplot as plt\n",
    "import seaborn as sns"
   ]
  },
  {
   "cell_type": "markdown",
   "metadata": {},
   "source": [
    "# Set pandas print options\n",
    "This will improve readability of printed pandas dataframe.\n"
   ]
  },
  {
   "cell_type": "code",
   "execution_count": 2,
   "metadata": {
    "id": "SEH28FctS6SP"
   },
   "outputs": [],
   "source": [
    "pd.set_option('display.max_rows', None)\n",
    "pd.set_option('display.max_columns', None)\n",
    "pd.set_option('display.width', None)\n",
    "pd.set_option('display.max_colwidth', None)"
   ]
  },
  {
   "cell_type": "markdown",
   "metadata": {},
   "source": [
    "## Set global Parameters\n",
    "Set your parameters here:\n",
    "\n",
    "data_path: In this path put the data you have downloaded with YouTube Data Tools. \n",
    "output_path: Tghe files generated in this notebook will be saved here.\n",
    "\n",
    "url_dict: URLs to models on Tensorflow hub are saved here. Other models are available there.\n",
    "model_type: Define which model you would like to use. Choose one from url_dict\n",
    "\n",
    "new_embeddings: If this is true, new embeddings will be generated and saved at output_path. Otherwise, embeddings are loaded from Disc.\n",
    "\n",
    "\n"
   ]
  },
  {
   "cell_type": "code",
   "execution_count": 3,
   "metadata": {
    "id": "TL7Rvq_TD086"
   },
   "outputs": [],
   "source": [
    "data_path = './videoinfo_CEii1_kEoZs_2020_12_01-23_08_31_comments.tab'\n",
    "output_path = \"./output/\"\n",
    "\n",
    "new_embeddings = True\n",
    "\n",
    "url_dict = {\n",
    "            'Transformer' : \"https://tfhub.dev/google/universal-sentence-encoder-large/5\",\n",
    "            'DAN' : \"https://tfhub.dev/google/universal-sentence-encoder/4\",\n",
    "            'Transformer_Multilingual': \"https://tfhub.dev/google/universal-sentence-encoder-multilingual-large/3\"\n",
    "}\n",
    "\n",
    "model_type = 'Transformer' #@param ['DAN','Transformer','Transformer_Multilingual']"
   ]
  },
  {
   "cell_type": "markdown",
   "metadata": {},
   "source": [
    "## Create output directory\n",
    "Try to create the directory defined by output_path"
   ]
  },
  {
   "cell_type": "code",
   "execution_count": 4,
   "metadata": {
    "colab": {
     "base_uri": "https://localhost:8080/"
    },
    "id": "NuvhsxjlZFhu",
    "outputId": "436a89b3-9ae8-4f74-f236-4a3f55b64d6d"
   },
   "outputs": [
    {
     "name": "stdout",
     "output_type": "stream",
     "text": [
      "Creation of the directory ./output/ failed\n"
     ]
    }
   ],
   "source": [
    "try:\n",
    "   os.mkdir(output_path)\n",
    "except OSError:\n",
    "  print (\"Creation of the directory %s failed\" % output_path)\n",
    "else:\n",
    "  print (\"Successfully created the directory %s \" % output_path)\n"
   ]
  },
  {
   "cell_type": "markdown",
   "metadata": {
    "id": "VO9QOLP_9DxJ"
   },
   "source": [
    "# Load Data\n",
    "Load you data as a pandas dataframe"
   ]
  },
  {
   "cell_type": "code",
   "execution_count": 5,
   "metadata": {},
   "outputs": [],
   "source": [
    "if new_embeddings:\n",
    "    data = pd.read_csv(data_path,sep='\\t',header=(0))\n",
    "    data.head()"
   ]
  },
  {
   "cell_type": "markdown",
   "metadata": {
    "id": "_IUWISh1M5nz"
   },
   "source": [
    "# Preprocessing\n",
    "Preprocess your data:\n",
    "- Drop empty rows\n",
    "- Drop unused columns"
   ]
  },
  {
   "cell_type": "code",
   "execution_count": 6,
   "metadata": {
    "id": "gbU3mk83MBIH"
   },
   "outputs": [],
   "source": [
    "if new_embeddings:\n",
    "    data = data.dropna(subset=['text', 'authorName']) # drop rows with no content\n",
    "    data=data.drop(['id', 'replyCount','likeCount','authorChannelUrl','authorChannelId','isReplyTo','isReplyToName'],axis=1) # drop unused columns\n",
    "    data.head()"
   ]
  },
  {
   "cell_type": "markdown",
   "metadata": {},
   "source": [
    "- remove HTML-tags, links and usernames"
   ]
  },
  {
   "cell_type": "code",
   "execution_count": 7,
   "metadata": {
    "id": "vIgxEvzcM39J"
   },
   "outputs": [
    {
     "name": "stderr",
     "output_type": "stream",
     "text": [
      "/home/budmil/anaconda3/lib/python3.8/site-packages/tqdm/std.py:697: FutureWarning: The Panel class is removed from pandas. Accessing it from the top-level namespace will also be removed in the next version\n",
      "  from pandas import Panel\n",
      "100%|██████████| 4956/4956 [00:02<00:00, 2171.82it/s]\n"
     ]
    },
    {
     "name": "stdout",
     "output_type": "stream",
     "text": [
      "Removed HTML Tags.\n",
      "Removed Links.\n",
      "Removed user names.\n"
     ]
    }
   ],
   "source": [
    "if new_embeddings:\n",
    "    # Remove HTML tags\n",
    "    tqdm.pandas()\n",
    "    h = HTML2Text()\n",
    "    h.ignore_links = True\n",
    "    data['cleaned'] = data['text'].progress_apply(lambda x: h.handle(x))\n",
    "    print( \"Removed HTML Tags.\")\n",
    "\n",
    "    # Remove links\n",
    "    http_link_pattern = r'http\\S+'\n",
    "    bitly_link_pattern = r'bit.ly/\\S+'\n",
    "    data['cleaned'] = data['cleaned'].str.replace(http_link_pattern, '')\n",
    "    data['cleaned'] = data['cleaned'].str.replace(bitly_link_pattern, '')\n",
    "    print( \"Removed Links.\")\n",
    "\n",
    "    # Remove user names\n",
    "    keep_names = [\"earth\", \"Tide\", \"Geologist\", \"A Person\", \"Titanic\", \"adventure\", \"Sun\", \"The United States Of America\"] # user names we want to keep\n",
    "    user_names = [name for name in data['authorName'].unique() if (len(name)> 3 and name not in keep_names)]\n",
    "    data['cleaned'] = data['cleaned'].str.replace('|'.join(map(re.escape, user_names)), '')\n",
    "    print( \"Removed user names.\")"
   ]
  },
  {
   "cell_type": "markdown",
   "metadata": {},
   "source": [
    "# Save or Load preprocessed data\n",
    "\n",
    "Save your data afte preprocessing, or load preprocessed data from disc."
   ]
  },
  {
   "cell_type": "code",
   "execution_count": 8,
   "metadata": {
    "colab": {
     "base_uri": "https://localhost:8080/"
    },
    "id": "W0uP3D5IXvyT",
    "outputId": "ce705b12-d180-438e-8bb7-86a5dfffbdcf"
   },
   "outputs": [
    {
     "data": {
      "text/html": [
       "<div>\n",
       "<style scoped>\n",
       "    .dataframe tbody tr th:only-of-type {\n",
       "        vertical-align: middle;\n",
       "    }\n",
       "\n",
       "    .dataframe tbody tr th {\n",
       "        vertical-align: top;\n",
       "    }\n",
       "\n",
       "    .dataframe thead th {\n",
       "        text-align: right;\n",
       "    }\n",
       "</style>\n",
       "<table border=\"1\" class=\"dataframe\">\n",
       "  <thead>\n",
       "    <tr style=\"text-align: right;\">\n",
       "      <th></th>\n",
       "      <th>publishedAt</th>\n",
       "      <th>authorName</th>\n",
       "      <th>text</th>\n",
       "      <th>isReply</th>\n",
       "      <th>cleaned</th>\n",
       "    </tr>\n",
       "  </thead>\n",
       "  <tbody>\n",
       "    <tr>\n",
       "      <th>0</th>\n",
       "      <td>2020-12-01 14:44:34</td>\n",
       "      <td>Brent Kitter</td>\n",
       "      <td>Cringe .</td>\n",
       "      <td>0</td>\n",
       "      <td>Cringe .\\n\\n</td>\n",
       "    </tr>\n",
       "    <tr>\n",
       "      <th>1</th>\n",
       "      <td>2020-12-01 01:22:06</td>\n",
       "      <td>BEM BEM</td>\n",
       "      <td>So guy we all should have some sort of sense. dont you think it cost whosoever doing the spraying? Or whatever you may call it Marking up the sky like that. and look at it this way if it wasnt doing anything why do it? yea? and dont tell me it was always like that people are just noticing it now. becuase people been looking up for a long time now and its not like before. i cant spell it all out ok.</td>\n",
       "      <td>0</td>\n",
       "      <td>So guy we all should have some sort of sense. dont you think it cost whosoever\\ndoing the spraying? Or whatever you may call it Marking up the sky like that.\\nand look at it this way if it wasnt doing anything why do it? yea? and dont\\ntell me it was always like that people are just noticing it now. becuase\\npeople been looking up for a long time now and its not like before. i cant\\nspell it all out ok.\\n\\n</td>\n",
       "    </tr>\n",
       "    <tr>\n",
       "      <th>2</th>\n",
       "      <td>2020-12-01 04:29:56</td>\n",
       "      <td>Elyjah Stark</td>\n",
       "      <td>“If it wasn’t doing anything why do it” ... do what? Exhaust water vapor? Because that’s the natural by product of combusting a hydrocarbon fuel. And that water vapor naturally condenses (flash freezes) when the air temperature is -40ish degrees or colder. And that condensation naturally is unable to sublimate when the relative humidity of the ambient air is high. No one is doing anything. It’s physics at work.</td>\n",
       "      <td>1</td>\n",
       "      <td>“If it wasn’t doing anything why do it” ... do what? Exhaust water vapor?\\nBecause that’s the natural by product of combusting a hydrocarbon fuel. And\\nthat water vapor naturally condenses (flash freezes) when the air temperature\\nis -40ish degrees or colder. And that condensation naturally is unable to\\nsublimate when the relative humidity of the ambient air is high. No one is\\ndoing anything. It’s physics at work.\\n\\n</td>\n",
       "    </tr>\n",
       "    <tr>\n",
       "      <th>3</th>\n",
       "      <td>2020-12-01 01:55:13</td>\n",
       "      <td>siouxperb5570</td>\n",
       "      <td>There is no \"spraying\". Persistent contrails have been a reality in the skies for more than 80 years. As the amount of air traffic has increased, so have the contrails. Besides, the 'chemtrail' hoax is mathematically impossible. If you think otherwise, simply name an aircraft that can carry the amount of payload that would equal the mass of a persistent contrail. There isn't one. Case closed.</td>\n",
       "      <td>1</td>\n",
       "      <td>There is no \"spraying\". Persistent contrails have been a reality in the skies\\nfor more than 80 years. As the amount of air traffic has increased, so have\\nthe contrails. Besides, the 'chemtrail' hoax is mathematically impossible. If\\nyou think otherwise, simply name an aircraft that can carry the amount of\\npayload that would equal the mass of a persistent contrail. There isn't one.\\nCase closed.\\n\\n</td>\n",
       "    </tr>\n",
       "    <tr>\n",
       "      <th>4</th>\n",
       "      <td>2020-11-28 23:27:05</td>\n",
       "      <td>Anonymous Human</td>\n",
       "      <td>If airline pilots are for some reason venting fuel a lot more often than they used to, this might account for an increase in long-persisting contrails over the last couple of decades.</td>\n",
       "      <td>0</td>\n",
       "      <td>If airline pilots are for some reason venting fuel a lot more often than they\\nused to, this might account for an increase in long-persisting contrails over\\nthe last couple of decades.\\n\\n</td>\n",
       "    </tr>\n",
       "  </tbody>\n",
       "</table>\n",
       "</div>"
      ],
      "text/plain": [
       "           publishedAt       authorName  \\\n",
       "0  2020-12-01 14:44:34     Brent Kitter   \n",
       "1  2020-12-01 01:22:06          BEM BEM   \n",
       "2  2020-12-01 04:29:56     Elyjah Stark   \n",
       "3  2020-12-01 01:55:13    siouxperb5570   \n",
       "4  2020-11-28 23:27:05  Anonymous Human   \n",
       "\n",
       "                                                                                                                                                                                                                                                                                                                                                                                                                             text  \\\n",
       "0                                                                                                                                                                                                                                                                                                                                                                                                                        Cringe .   \n",
       "1               So guy we all should have some sort of sense. dont you think it cost whosoever doing the spraying? Or whatever you may call it Marking up the sky like that. and look at it this way if it wasnt doing anything why do it? yea? and dont tell me it was always like that people are just noticing it now. becuase people been looking up for a long time now and its not like before. i cant spell it all out ok.   \n",
       "2  “If it wasn’t doing anything why do it” ... do what? Exhaust water vapor? Because that’s the natural by product of combusting a hydrocarbon fuel. And that water vapor naturally condenses (flash freezes) when the air temperature is -40ish degrees or colder. And that condensation naturally is unable to sublimate when the relative humidity of the ambient air is high. No one is doing anything. It’s physics at work.   \n",
       "3                     There is no \"spraying\". Persistent contrails have been a reality in the skies for more than 80 years. As the amount of air traffic has increased, so have the contrails. Besides, the 'chemtrail' hoax is mathematically impossible. If you think otherwise, simply name an aircraft that can carry the amount of payload that would equal the mass of a persistent contrail. There isn't one. Case closed.   \n",
       "4                                                                                                                                                                                                                                         If airline pilots are for some reason venting fuel a lot more often than they used to, this might account for an increase in long-persisting contrails over the last couple of decades.   \n",
       "\n",
       "   isReply  \\\n",
       "0        0   \n",
       "1        0   \n",
       "2        1   \n",
       "3        1   \n",
       "4        0   \n",
       "\n",
       "                                                                                                                                                                                                                                                                                                                                                                                                                                   cleaned  \n",
       "0                                                                                                                                                                                                                                                                                                                                                                                                                             Cringe .\\n\\n  \n",
       "1               So guy we all should have some sort of sense. dont you think it cost whosoever\\ndoing the spraying? Or whatever you may call it Marking up the sky like that.\\nand look at it this way if it wasnt doing anything why do it? yea? and dont\\ntell me it was always like that people are just noticing it now. becuase\\npeople been looking up for a long time now and its not like before. i cant\\nspell it all out ok.\\n\\n  \n",
       "2  “If it wasn’t doing anything why do it” ... do what? Exhaust water vapor?\\nBecause that’s the natural by product of combusting a hydrocarbon fuel. And\\nthat water vapor naturally condenses (flash freezes) when the air temperature\\nis -40ish degrees or colder. And that condensation naturally is unable to\\nsublimate when the relative humidity of the ambient air is high. No one is\\ndoing anything. It’s physics at work.\\n\\n  \n",
       "3                     There is no \"spraying\". Persistent contrails have been a reality in the skies\\nfor more than 80 years. As the amount of air traffic has increased, so have\\nthe contrails. Besides, the 'chemtrail' hoax is mathematically impossible. If\\nyou think otherwise, simply name an aircraft that can carry the amount of\\npayload that would equal the mass of a persistent contrail. There isn't one.\\nCase closed.\\n\\n  \n",
       "4                                                                                                                                                                                                                                            If airline pilots are for some reason venting fuel a lot more often than they\\nused to, this might account for an increase in long-persisting contrails over\\nthe last couple of decades.\\n\\n  "
      ]
     },
     "execution_count": 8,
     "metadata": {},
     "output_type": "execute_result"
    }
   ],
   "source": [
    "if new_embeddings:\n",
    "  data.to_pickle(output_path+'data_preprocessed'+'.pkl')\n",
    "else:\n",
    "  data = pd.read_pickle(output_path+'data_preprocessed'+'.pkl')\n",
    "data.head()"
   ]
  },
  {
   "cell_type": "markdown",
   "metadata": {
    "id": "5YxXP5PtAFyV"
   },
   "source": [
    "# Produce Text Embeddings with Universal Sentence Encoder"
   ]
  },
  {
   "cell_type": "markdown",
   "metadata": {
    "id": "d_sStH0bXhFD"
   },
   "source": [
    "## Load Model\n",
    "Load the model from TF-hub"
   ]
  },
  {
   "cell_type": "code",
   "execution_count": 9,
   "metadata": {
    "id": "ugb89Xy7XdqR"
   },
   "outputs": [
    {
     "name": "stdout",
     "output_type": "stream",
     "text": [
      "Loading model. This will take some time...\n"
     ]
    }
   ],
   "source": [
    "hub_url = url_dict[model_type]\n",
    "if new_embeddings:\n",
    "  print(\"Loading model. This will take some time...\")\n",
    "  embed = hub.load(hub_url)"
   ]
  },
  {
   "cell_type": "markdown",
   "metadata": {},
   "source": [
    "## Embed Documents\n",
    "Produce embeddings of your documents."
   ]
  },
  {
   "cell_type": "code",
   "execution_count": 11,
   "metadata": {
    "id": "Yz3Qlca7YGEN"
   },
   "outputs": [
    {
     "name": "stdout",
     "output_type": "stream",
     "text": [
      "1 2 "
     ]
    },
    {
     "ename": "ResourceExhaustedError",
     "evalue": " OOM when allocating tensor with shape[200,8,841,841] and type float on /job:localhost/replica:0/task:0/device:CPU:0 by allocator mklcpu\n\t [[{{node StatefulPartitionedCall/StatefulPartitionedCall/EncoderTransformer/Transformer/SparseTransformerEncode/Layer_0/SelfAttention/SparseMultiheadAttention/DotProductAttention/MatMul}}]]\nHint: If you want to see a list of allocated tensors when OOM happens, add report_tensor_allocations_upon_oom to RunOptions for current allocation info.\n [Op:__inference_restored_function_body_88309]\n\nFunction call stack:\nrestored_function_body\n",
     "output_type": "error",
     "traceback": [
      "\u001b[0;31m---------------------------------------------------------------------------\u001b[0m",
      "\u001b[0;31mResourceExhaustedError\u001b[0m                    Traceback (most recent call last)",
      "\u001b[0;32m<ipython-input-11-8d52c02fe39a>\u001b[0m in \u001b[0;36m<module>\u001b[0;34m\u001b[0m\n\u001b[1;32m      4\u001b[0m             \u001b[0membeddings\u001b[0m \u001b[0;34m=\u001b[0m \u001b[0membed\u001b[0m\u001b[0;34m(\u001b[0m\u001b[0mg\u001b[0m\u001b[0;34m[\u001b[0m\u001b[0;34m'cleaned'\u001b[0m\u001b[0;34m]\u001b[0m\u001b[0;34m)\u001b[0m\u001b[0;34m\u001b[0m\u001b[0;34m\u001b[0m\u001b[0m\n\u001b[1;32m      5\u001b[0m         \u001b[0;32melse\u001b[0m\u001b[0;34m:\u001b[0m\u001b[0;34m\u001b[0m\u001b[0;34m\u001b[0m\u001b[0m\n\u001b[0;32m----> 6\u001b[0;31m             \u001b[0membeddings_new\u001b[0m \u001b[0;34m=\u001b[0m \u001b[0membed\u001b[0m\u001b[0;34m(\u001b[0m\u001b[0mg\u001b[0m\u001b[0;34m[\u001b[0m\u001b[0;34m'cleaned'\u001b[0m\u001b[0;34m]\u001b[0m\u001b[0;34m)\u001b[0m\u001b[0;34m\u001b[0m\u001b[0;34m\u001b[0m\u001b[0m\n\u001b[0m\u001b[1;32m      7\u001b[0m             \u001b[0membeddings\u001b[0m \u001b[0;34m=\u001b[0m \u001b[0mtf\u001b[0m\u001b[0;34m.\u001b[0m\u001b[0mconcat\u001b[0m\u001b[0;34m(\u001b[0m\u001b[0mvalues\u001b[0m\u001b[0;34m=\u001b[0m\u001b[0;34m[\u001b[0m\u001b[0membeddings\u001b[0m\u001b[0;34m,\u001b[0m\u001b[0membeddings_new\u001b[0m\u001b[0;34m]\u001b[0m\u001b[0;34m,\u001b[0m\u001b[0maxis\u001b[0m \u001b[0;34m=\u001b[0m \u001b[0;36m0\u001b[0m\u001b[0;34m)\u001b[0m\u001b[0;34m\u001b[0m\u001b[0;34m\u001b[0m\u001b[0m\n\u001b[1;32m      8\u001b[0m             \u001b[0mprint\u001b[0m\u001b[0;34m(\u001b[0m\u001b[0mk\u001b[0m \u001b[0;34m,\u001b[0m \u001b[0mend\u001b[0m \u001b[0;34m=\u001b[0m\u001b[0;34m\" \"\u001b[0m\u001b[0;34m)\u001b[0m\u001b[0;34m\u001b[0m\u001b[0;34m\u001b[0m\u001b[0m\n",
      "\u001b[0;32m~/anaconda3/lib/python3.8/site-packages/tensorflow/python/saved_model/load.py\u001b[0m in \u001b[0;36m_call_attribute\u001b[0;34m(instance, *args, **kwargs)\u001b[0m\n\u001b[1;32m    484\u001b[0m \u001b[0;34m\u001b[0m\u001b[0m\n\u001b[1;32m    485\u001b[0m \u001b[0;32mdef\u001b[0m \u001b[0m_call_attribute\u001b[0m\u001b[0;34m(\u001b[0m\u001b[0minstance\u001b[0m\u001b[0;34m,\u001b[0m \u001b[0;34m*\u001b[0m\u001b[0margs\u001b[0m\u001b[0;34m,\u001b[0m \u001b[0;34m**\u001b[0m\u001b[0mkwargs\u001b[0m\u001b[0;34m)\u001b[0m\u001b[0;34m:\u001b[0m\u001b[0;34m\u001b[0m\u001b[0;34m\u001b[0m\u001b[0m\n\u001b[0;32m--> 486\u001b[0;31m   \u001b[0;32mreturn\u001b[0m \u001b[0minstance\u001b[0m\u001b[0;34m.\u001b[0m\u001b[0m__call__\u001b[0m\u001b[0;34m(\u001b[0m\u001b[0;34m*\u001b[0m\u001b[0margs\u001b[0m\u001b[0;34m,\u001b[0m \u001b[0;34m**\u001b[0m\u001b[0mkwargs\u001b[0m\u001b[0;34m)\u001b[0m\u001b[0;34m\u001b[0m\u001b[0;34m\u001b[0m\u001b[0m\n\u001b[0m\u001b[1;32m    487\u001b[0m \u001b[0;34m\u001b[0m\u001b[0m\n\u001b[1;32m    488\u001b[0m \u001b[0;34m\u001b[0m\u001b[0m\n",
      "\u001b[0;32m~/anaconda3/lib/python3.8/site-packages/tensorflow/python/eager/def_function.py\u001b[0m in \u001b[0;36m__call__\u001b[0;34m(self, *args, **kwds)\u001b[0m\n\u001b[1;32m    578\u001b[0m         \u001b[0mxla_context\u001b[0m\u001b[0;34m.\u001b[0m\u001b[0mExit\u001b[0m\u001b[0;34m(\u001b[0m\u001b[0;34m)\u001b[0m\u001b[0;34m\u001b[0m\u001b[0;34m\u001b[0m\u001b[0m\n\u001b[1;32m    579\u001b[0m     \u001b[0;32melse\u001b[0m\u001b[0;34m:\u001b[0m\u001b[0;34m\u001b[0m\u001b[0;34m\u001b[0m\u001b[0m\n\u001b[0;32m--> 580\u001b[0;31m       \u001b[0mresult\u001b[0m \u001b[0;34m=\u001b[0m \u001b[0mself\u001b[0m\u001b[0;34m.\u001b[0m\u001b[0m_call\u001b[0m\u001b[0;34m(\u001b[0m\u001b[0;34m*\u001b[0m\u001b[0margs\u001b[0m\u001b[0;34m,\u001b[0m \u001b[0;34m**\u001b[0m\u001b[0mkwds\u001b[0m\u001b[0;34m)\u001b[0m\u001b[0;34m\u001b[0m\u001b[0;34m\u001b[0m\u001b[0m\n\u001b[0m\u001b[1;32m    581\u001b[0m \u001b[0;34m\u001b[0m\u001b[0m\n\u001b[1;32m    582\u001b[0m     \u001b[0;32mif\u001b[0m \u001b[0mtracing_count\u001b[0m \u001b[0;34m==\u001b[0m \u001b[0mself\u001b[0m\u001b[0;34m.\u001b[0m\u001b[0m_get_tracing_count\u001b[0m\u001b[0;34m(\u001b[0m\u001b[0;34m)\u001b[0m\u001b[0;34m:\u001b[0m\u001b[0;34m\u001b[0m\u001b[0;34m\u001b[0m\u001b[0m\n",
      "\u001b[0;32m~/anaconda3/lib/python3.8/site-packages/tensorflow/python/eager/def_function.py\u001b[0m in \u001b[0;36m_call\u001b[0;34m(self, *args, **kwds)\u001b[0m\n\u001b[1;32m    616\u001b[0m       \u001b[0;31m# In this case we have not created variables on the first call. So we can\u001b[0m\u001b[0;34m\u001b[0m\u001b[0;34m\u001b[0m\u001b[0;34m\u001b[0m\u001b[0m\n\u001b[1;32m    617\u001b[0m       \u001b[0;31m# run the first trace but we should fail if variables are created.\u001b[0m\u001b[0;34m\u001b[0m\u001b[0;34m\u001b[0m\u001b[0;34m\u001b[0m\u001b[0m\n\u001b[0;32m--> 618\u001b[0;31m       \u001b[0mresults\u001b[0m \u001b[0;34m=\u001b[0m \u001b[0mself\u001b[0m\u001b[0;34m.\u001b[0m\u001b[0m_stateful_fn\u001b[0m\u001b[0;34m(\u001b[0m\u001b[0;34m*\u001b[0m\u001b[0margs\u001b[0m\u001b[0;34m,\u001b[0m \u001b[0;34m**\u001b[0m\u001b[0mkwds\u001b[0m\u001b[0;34m)\u001b[0m\u001b[0;34m\u001b[0m\u001b[0;34m\u001b[0m\u001b[0m\n\u001b[0m\u001b[1;32m    619\u001b[0m       \u001b[0;32mif\u001b[0m \u001b[0mself\u001b[0m\u001b[0;34m.\u001b[0m\u001b[0m_created_variables\u001b[0m\u001b[0;34m:\u001b[0m\u001b[0;34m\u001b[0m\u001b[0;34m\u001b[0m\u001b[0m\n\u001b[1;32m    620\u001b[0m         raise ValueError(\"Creating variables on a non-first call to a function\"\n",
      "\u001b[0;32m~/anaconda3/lib/python3.8/site-packages/tensorflow/python/eager/function.py\u001b[0m in \u001b[0;36m__call__\u001b[0;34m(self, *args, **kwargs)\u001b[0m\n\u001b[1;32m   2418\u001b[0m     \u001b[0;32mwith\u001b[0m \u001b[0mself\u001b[0m\u001b[0;34m.\u001b[0m\u001b[0m_lock\u001b[0m\u001b[0;34m:\u001b[0m\u001b[0;34m\u001b[0m\u001b[0;34m\u001b[0m\u001b[0m\n\u001b[1;32m   2419\u001b[0m       \u001b[0mgraph_function\u001b[0m\u001b[0;34m,\u001b[0m \u001b[0margs\u001b[0m\u001b[0;34m,\u001b[0m \u001b[0mkwargs\u001b[0m \u001b[0;34m=\u001b[0m \u001b[0mself\u001b[0m\u001b[0;34m.\u001b[0m\u001b[0m_maybe_define_function\u001b[0m\u001b[0;34m(\u001b[0m\u001b[0margs\u001b[0m\u001b[0;34m,\u001b[0m \u001b[0mkwargs\u001b[0m\u001b[0;34m)\u001b[0m\u001b[0;34m\u001b[0m\u001b[0;34m\u001b[0m\u001b[0m\n\u001b[0;32m-> 2420\u001b[0;31m     \u001b[0;32mreturn\u001b[0m \u001b[0mgraph_function\u001b[0m\u001b[0;34m.\u001b[0m\u001b[0m_filtered_call\u001b[0m\u001b[0;34m(\u001b[0m\u001b[0margs\u001b[0m\u001b[0;34m,\u001b[0m \u001b[0mkwargs\u001b[0m\u001b[0;34m)\u001b[0m  \u001b[0;31m# pylint: disable=protected-access\u001b[0m\u001b[0;34m\u001b[0m\u001b[0;34m\u001b[0m\u001b[0m\n\u001b[0m\u001b[1;32m   2421\u001b[0m \u001b[0;34m\u001b[0m\u001b[0m\n\u001b[1;32m   2422\u001b[0m   \u001b[0;34m@\u001b[0m\u001b[0mproperty\u001b[0m\u001b[0;34m\u001b[0m\u001b[0;34m\u001b[0m\u001b[0m\n",
      "\u001b[0;32m~/anaconda3/lib/python3.8/site-packages/tensorflow/python/eager/function.py\u001b[0m in \u001b[0;36m_filtered_call\u001b[0;34m(self, args, kwargs)\u001b[0m\n\u001b[1;32m   1659\u001b[0m       \u001b[0;31m`\u001b[0m\u001b[0margs\u001b[0m\u001b[0;31m`\u001b[0m \u001b[0;32mand\u001b[0m\u001b[0;31m \u001b[0m\u001b[0;31m`\u001b[0m\u001b[0mkwargs\u001b[0m\u001b[0;31m`\u001b[0m\u001b[0;34m.\u001b[0m\u001b[0;34m\u001b[0m\u001b[0;34m\u001b[0m\u001b[0m\n\u001b[1;32m   1660\u001b[0m     \"\"\"\n\u001b[0;32m-> 1661\u001b[0;31m     return self._call_flat(\n\u001b[0m\u001b[1;32m   1662\u001b[0m         (t for t in nest.flatten((args, kwargs), expand_composites=True)\n\u001b[1;32m   1663\u001b[0m          if isinstance(t, (ops.Tensor,\n",
      "\u001b[0;32m~/anaconda3/lib/python3.8/site-packages/tensorflow/python/eager/function.py\u001b[0m in \u001b[0;36m_call_flat\u001b[0;34m(self, args, captured_inputs, cancellation_manager)\u001b[0m\n\u001b[1;32m   1743\u001b[0m         and executing_eagerly):\n\u001b[1;32m   1744\u001b[0m       \u001b[0;31m# No tape is watching; skip to running the function.\u001b[0m\u001b[0;34m\u001b[0m\u001b[0;34m\u001b[0m\u001b[0;34m\u001b[0m\u001b[0m\n\u001b[0;32m-> 1745\u001b[0;31m       return self._build_call_outputs(self._inference_function.call(\n\u001b[0m\u001b[1;32m   1746\u001b[0m           ctx, args, cancellation_manager=cancellation_manager))\n\u001b[1;32m   1747\u001b[0m     forward_backward = self._select_forward_and_backward_functions(\n",
      "\u001b[0;32m~/anaconda3/lib/python3.8/site-packages/tensorflow/python/eager/function.py\u001b[0m in \u001b[0;36mcall\u001b[0;34m(self, ctx, args, cancellation_manager)\u001b[0m\n\u001b[1;32m    591\u001b[0m       \u001b[0;32mwith\u001b[0m \u001b[0m_InterpolateFunctionError\u001b[0m\u001b[0;34m(\u001b[0m\u001b[0mself\u001b[0m\u001b[0;34m)\u001b[0m\u001b[0;34m:\u001b[0m\u001b[0;34m\u001b[0m\u001b[0;34m\u001b[0m\u001b[0m\n\u001b[1;32m    592\u001b[0m         \u001b[0;32mif\u001b[0m \u001b[0mcancellation_manager\u001b[0m \u001b[0;32mis\u001b[0m \u001b[0;32mNone\u001b[0m\u001b[0;34m:\u001b[0m\u001b[0;34m\u001b[0m\u001b[0;34m\u001b[0m\u001b[0m\n\u001b[0;32m--> 593\u001b[0;31m           outputs = execute.execute(\n\u001b[0m\u001b[1;32m    594\u001b[0m               \u001b[0mstr\u001b[0m\u001b[0;34m(\u001b[0m\u001b[0mself\u001b[0m\u001b[0;34m.\u001b[0m\u001b[0msignature\u001b[0m\u001b[0;34m.\u001b[0m\u001b[0mname\u001b[0m\u001b[0;34m)\u001b[0m\u001b[0;34m,\u001b[0m\u001b[0;34m\u001b[0m\u001b[0;34m\u001b[0m\u001b[0m\n\u001b[1;32m    595\u001b[0m               \u001b[0mnum_outputs\u001b[0m\u001b[0;34m=\u001b[0m\u001b[0mself\u001b[0m\u001b[0;34m.\u001b[0m\u001b[0m_num_outputs\u001b[0m\u001b[0;34m,\u001b[0m\u001b[0;34m\u001b[0m\u001b[0;34m\u001b[0m\u001b[0m\n",
      "\u001b[0;32m~/anaconda3/lib/python3.8/site-packages/tensorflow/python/eager/execute.py\u001b[0m in \u001b[0;36mquick_execute\u001b[0;34m(op_name, num_outputs, inputs, attrs, ctx, name)\u001b[0m\n\u001b[1;32m     57\u001b[0m   \u001b[0;32mtry\u001b[0m\u001b[0;34m:\u001b[0m\u001b[0;34m\u001b[0m\u001b[0;34m\u001b[0m\u001b[0m\n\u001b[1;32m     58\u001b[0m     \u001b[0mctx\u001b[0m\u001b[0;34m.\u001b[0m\u001b[0mensure_initialized\u001b[0m\u001b[0;34m(\u001b[0m\u001b[0;34m)\u001b[0m\u001b[0;34m\u001b[0m\u001b[0;34m\u001b[0m\u001b[0m\n\u001b[0;32m---> 59\u001b[0;31m     tensors = pywrap_tfe.TFE_Py_Execute(ctx._handle, device_name, op_name,\n\u001b[0m\u001b[1;32m     60\u001b[0m                                         inputs, attrs, num_outputs)\n\u001b[1;32m     61\u001b[0m   \u001b[0;32mexcept\u001b[0m \u001b[0mcore\u001b[0m\u001b[0;34m.\u001b[0m\u001b[0m_NotOkStatusException\u001b[0m \u001b[0;32mas\u001b[0m \u001b[0me\u001b[0m\u001b[0;34m:\u001b[0m\u001b[0;34m\u001b[0m\u001b[0;34m\u001b[0m\u001b[0m\n",
      "\u001b[0;31mResourceExhaustedError\u001b[0m:  OOM when allocating tensor with shape[200,8,841,841] and type float on /job:localhost/replica:0/task:0/device:CPU:0 by allocator mklcpu\n\t [[{{node StatefulPartitionedCall/StatefulPartitionedCall/EncoderTransformer/Transformer/SparseTransformerEncode/Layer_0/SelfAttention/SparseMultiheadAttention/DotProductAttention/MatMul}}]]\nHint: If you want to see a list of allocated tensors when OOM happens, add report_tensor_allocations_upon_oom to RunOptions for current allocation info.\n [Op:__inference_restored_function_body_88309]\n\nFunction call stack:\nrestored_function_body\n"
     ]
    }
   ],
   "source": [
    "if new_embeddings:\n",
    "    for k,g in data.groupby(np.arange(len(data))//200):\n",
    "        if k == 0:\n",
    "            embeddings = embed(g['cleaned'])\n",
    "        else:\n",
    "            embeddings_new = embed(g['cleaned'])\n",
    "            embeddings = tf.concat(values=[embeddings,embeddings_new],axis = 0)\n",
    "            print(k , end =\" \")\n",
    "    print(\"The embeddings vector is of fixed length {}\".format(embeddings.shape[1]))\n",
    "\n",
    "    np.save(output_path+'/embeddings'+model_type+'.npy', embeddings, allow_pickle=True, fix_imports=True)\n",
    "else:\n",
    "    embeddings = np.load(output_path+'/embeddings'+model_type+'.npy', mmap_mode=None, allow_pickle=False, fix_imports=True, encoding='ASCII')\n",
    "\n",
    "embeddings.shape"
   ]
  },
  {
   "cell_type": "markdown",
   "metadata": {
    "id": "oFTi_5lUAnJF"
   },
   "source": [
    "## Calculate Similarity Matrix with angular distance\n",
    "\n",
    "'Following Cer et al. (2018), we first compute\n",
    "the sentence embeddings u, v for an STS sentence\n",
    "pair, and then score the sentence pair similarity\n",
    "based on the angular distance between the two\n",
    "embedding vectors  d = − arccos (uv/||u|| ||v||\u0011).'"
   ]
  },
  {
   "cell_type": "code",
   "execution_count": 14,
   "metadata": {},
   "outputs": [
    {
     "name": "stdout",
     "output_type": "stream",
     "text": [
      "[[ 1.         -0.02615304 -0.01595093 ...  0.03544068  0.11431973\n",
      "   0.04244978]\n",
      " [-0.02615304  1.0000001   0.25287086 ...  0.19574177  0.05822545\n",
      "   0.09644982]\n",
      " [-0.01595093  0.25287086  1.0000004  ...  0.12160502  0.03123004\n",
      "   0.09430367]\n",
      " ...\n",
      " [ 0.03544068  0.19574177  0.12160502 ...  1.0000005   0.08829152\n",
      "   0.14527209]\n",
      " [ 0.11431973  0.05822545  0.03123004 ...  0.08829152  1.0000001\n",
      "   0.11541677]\n",
      " [ 0.04244978  0.09644982  0.09430367 ...  0.14527209  0.11541677\n",
      "   1.        ]]\n"
     ]
    }
   ],
   "source": [
    "from sklearn.metrics.pairwise import cosine_similarity\n",
    "def cos_sim(input_vectors):\n",
    "    similarity = cosine_similarity(input_vectors)\n",
    "    return similarity\n",
    "cosine_similarity_matrix = cos_sim(np.array(embeddings))\n",
    "print(cosine_similarity_matrix)"
   ]
  },
  {
   "cell_type": "markdown",
   "metadata": {},
   "source": [
    "# Plots Similarity \n",
    "Plot and print a heat map showing the semantic contextual similarity between comments."
   ]
  },
  {
   "cell_type": "code",
   "execution_count": 15,
   "metadata": {},
   "outputs": [
    {
     "name": "stderr",
     "output_type": "stream",
     "text": [
      "/home/budmil/anaconda3/lib/python3.8/site-packages/seaborn/matrix.py:311: UserWarning: Attempting to set identical left == right == 0 results in singular transformations; automatically expanding.\n",
      "  ax.set(xlim=(0, self.data.shape[1]), ylim=(0, self.data.shape[0]))\n",
      "/home/budmil/anaconda3/lib/python3.8/site-packages/seaborn/matrix.py:311: UserWarning: Attempting to set identical bottom == top == 0 results in singular transformations; automatically expanding.\n",
      "  ax.set(xlim=(0, self.data.shape[1]), ylim=(0, self.data.shape[0]))\n"
     ]
    },
    {
     "data": {
      "image/png": "[encoded data removed]",
      "text/plain": [
       "<Figure size 432x288 with 2 Axes>"
      ]
     },
     "metadata": {},
     "output_type": "display_data"
    }
   ],
   "source": [
    "import seaborn as sns\n",
    "def plot_similarity(labels, features, rotation):\n",
    "  corr = np.inner(features, features)\n",
    "  sns.set(font_scale=1.2)\n",
    "  g = sns.heatmap(\n",
    "      corr,\n",
    "      xticklabels=labels,\n",
    "      yticklabels=labels,\n",
    "      vmin=0,\n",
    "      vmax=1,\n",
    "      cmap=\"YlOrRd\")\n",
    "  g.set_xticklabels(labels, rotation=rotation)\n",
    "  g.set_title(\"Semantic Textual Similarity\")\n",
    "\n",
    "num_samples = 5\n",
    "off_set = 10000\n",
    "\n",
    "plot_similarity(data.iloc[off_set:off_set+num_samples]['cleaned'], embeddings[off_set:off_set+num_samples], 90)"
   ]
  },
  {
   "cell_type": "markdown",
   "metadata": {},
   "source": [
    "# Show neighbours of a comment \n",
    "Define which comment to analyze"
   ]
  },
  {
   "cell_type": "code",
   "execution_count": 18,
   "metadata": {},
   "outputs": [
    {
     "name": "stdout",
     "output_type": "stream",
     "text": [
      "you failed to mention what are they spraying. total lies a sellout is the\n",
      "worse thing anybody can be. do a real research before you post nonsense.\n",
      "\n",
      "\n"
     ]
    }
   ],
   "source": [
    "comment_index = 122\n",
    "comment = data[\"cleaned\"][comment_index]\n",
    "comment_list = data[\"cleaned\"].tolist()\n",
    "print(comment)"
   ]
  },
  {
   "cell_type": "markdown",
   "metadata": {},
   "source": [
    "Print similar comments."
   ]
  },
  {
   "cell_type": "code",
   "execution_count": 19,
   "metadata": {},
   "outputs": [
    {
     "name": "stdout",
     "output_type": "stream",
     "text": [
      "Top similar comment 1: you failed to mention what are they spraying. total lies a sellout is the\n",
      "worse thing anybody can be. do a real research before you post nonsense.\n",
      "\n",
      "\n",
      "Top similar comment 2: Doesnt matter what you think they are. They shouldn't be spraying stuff in the\n",
      "air because we are breathing that crap and it's going into our eyes, on our\n",
      "skin, the soil. Dont you see a problem with that you government issued douche\n",
      "bag  \n",
      "Of course they're doing other shady bs but this is by far the absolute worse\n",
      "because everyone including the planet is being and will be effected by this.\n",
      "Keep pretending the world is just great and theres nothing absolutely insane\n",
      "or diabolical going on, that fine but you are in for a rude awakening\n",
      "\n",
      "\n",
      "Top similar comment 3: @ so what are those planes spraying? Because you cant say nothing\n",
      "is being sprayed\n",
      "\n",
      "\n",
      "Top similar comment 4: @ Bottom line - they are spraying metals and crap in the air and\n",
      "there IS evidence to support that. A lot of it... taken over years.\n",
      "\n",
      "\n",
      "Top similar comment 5: Wow what an idiot. Totally happening. I have seen the airports they fly from,\n",
      "I have seen stuck open sprayers on jets landing. Do your homework before you\n",
      "pass judgement on other people. You sound like an ass. Look up haarp. While\n",
      "you are at it. And the people you get your so called information from. Is\n",
      "doing the spraying. Do you think they would tell you😂so nieve\n",
      "\n",
      "\n",
      "Top similar comment 6: Contrails dissipate right behind a plane and don't spread out? Since when? Did\n",
      "the laws of physics change recently? There is plenty of documented science\n",
      "that proves that you are a liar. \"Gov admits spraying\" Fascinating. Link? \"do\n",
      "the research\" Says the online conspiracy troll that wouldn't know research if\n",
      "it bit them squarely in the ass.\n",
      "\n",
      "\n",
      "Top similar comment 7: @ bullsht, haven't you heard of stratospheric aerosol injections?\n",
      "\n",
      "\n",
      "Top similar comment 8: We knows it’s real contrails dissipate right behind a plane cheamtrails don’t\n",
      "they spread out fall on your head at night look up you sr are trying to spin\n",
      "it even the Gov admits spraying do the research don’t Liston to this clown\n",
      "\n",
      "\n",
      "Top similar comment 9: He didn't forget because \"they\" aren't \"spraying\" anything. And a sellout is\n",
      "NOT the worst thing one can be. Being willfully scientifically illiterate is\n",
      "far worse.\n",
      "\n",
      "\n",
      "Top similar comment 10: STOP SPRAYING THEM THEN🖕\n",
      "\n",
      "\n",
      "Top similar comment 11: @ Your continual harping about loads is a \"load\" of crap. I know,\n",
      "I know...your assignment from your CREEPY masters is to get people to doubt\n",
      "their own observations. None of us are buying it. Get used to it. Your\n",
      "\"chemtrails are contrails\" bullshit is just a red herring. You'll have to do\n",
      "better than that. BTW, you STILL haven't told us who you work for. You WON'T\n",
      "tell us because all of you disinfo agitators are COWARDS.\n",
      "\n",
      "\n",
      "Top similar comment 12: 'Chemtrails' are a mathematically impossible hoax. You sound very naive with\n",
      "your ignorant references to HAARP, and the \"stuck open sprayer\" nonsense. Try\n",
      "learning some actual science, and maybe some basic math. Would save you a lot\n",
      "of embarrassment.\n",
      "\n",
      "\n",
      "Top similar comment 13: @ Cite one single lie I have ever presented, on this or any other\n",
      "video on youtube. You've been challenged. Now, are you going to be a gutless\n",
      "ad hominem troll, or will you defend your hoax. What's the matter? Coward?\n",
      "\n",
      "\n",
      "Top similar comment 14: @ Whatever..... do you now know what contrails are, and that\n",
      "'chemtrails' are not real?\n",
      "\n",
      "\n",
      "Top similar comment 15: What pile of garbage! Everyone knows there is a spraying program.\n",
      "\n",
      "\n",
      "Top similar comment 16: You are so full of shit; plains in the past before mid eighties those things\n",
      "did not exist. There is no distrust or lies. Bullshit to your conspiracy crap.\n",
      "Notice how they spray through out the day following the path of the sun. Your\n",
      "final judgement is full of shit\n",
      "\n",
      "\n",
      "Top similar comment 17: @ That's a maximum .... DOH ! You know you're talking BS to try and\n",
      "convince the sheep out there !!! Anyone who looks up at CONTRAILS will see\n",
      "they dissipate almost immediately, we don't need you dark idiots to tell us\n",
      "different.\n",
      "\n",
      "\n",
      "Top similar comment 18: Funny how that's a thing now.U stupid!! Knuckleheads!! What a big gigantic\n",
      "bunch of fools u are.U are a bunch of sell out shill puppets.All for $$.Sad..U\n",
      "will answer for that.Dummies.\n",
      "\n",
      "\n",
      "Top similar comment 19: @ look, contrails are real,persistent contrails may be real too\n",
      "but make no mistake, chemtrails are also real. The fact that you don't ant to\n",
      "see doesn't make it unreal. You've been brainwashed and indoctrinated you poor\n",
      "creature. Enjoy life and go back to your beautiful bubble. Peace out.\n",
      "\n",
      "\n",
      "Top similar comment 20: @Derek Fishman Yes, Derek, what DOES the existence of pesticides have to do\n",
      "with your fairy tale hoax that is the idiotic misidentification of persistent\n",
      "aircraft contrails? Do tell us why you feigning to be (or actually are)\n",
      "scientifically illiterate. Please, do tell.\n",
      "\n",
      "\n"
     ]
    }
   ],
   "source": [
    "def get_top_similar(sentence, sentence_list, similarity_matrix, topN):\n",
    "    # find the index of sentence in list\n",
    "    index = sentence_list.index(sentence)\n",
    "    # get the corresponding row in similarity matrix\n",
    "    similarity_row = np.array(similarity_matrix[index, :])\n",
    "    # get the indices of top similar\n",
    "    indices = similarity_row.argsort()[-topN:][::-1]\n",
    "    return [sentence_list[i] for i in indices]\n",
    "\n",
    "\n",
    "for i, value in enumerate(get_top_similar(comment, comment_list, cosine_similarity_matrix, 20)):\n",
    "  print(\"Top similar comment {}: {}\".format(i+1, value))"
   ]
  },
  {
   "cell_type": "code",
   "execution_count": null,
   "metadata": {},
   "outputs": [],
   "source": []
  }
 ],
 "metadata": {
  "colab": {
   "collapsed_sections": [],
   "name": "USE_Experiments_new.ipynb",
   "provenance": [],
   "toc_visible": true
  },
  "kernelspec": {
   "display_name": "Python 3",
   "language": "python",
   "name": "python3"
  },
  "language_info": {
   "codemirror_mode": {
    "name": "ipython",
    "version": 3
   },
   "file_extension": ".py",
   "mimetype": "text/x-python",
   "name": "python",
   "nbconvert_exporter": "python",
   "pygments_lexer": "ipython3",
   "version": "3.8.5"
  }
 },
 "nbformat": 4,
 "nbformat_minor": 4
}
