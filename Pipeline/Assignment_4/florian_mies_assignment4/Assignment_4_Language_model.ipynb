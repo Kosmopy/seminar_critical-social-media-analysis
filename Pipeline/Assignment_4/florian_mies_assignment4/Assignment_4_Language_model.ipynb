{
  "nbformat": 4,
  "nbformat_minor": 0,
  "metadata": {
    "colab": {
      "name": "Assignment-4_Language_model.ipynb",
      "provenance": [],
      "collapsed_sections": [],
      "toc_visible": true
    },
    "kernelspec": {
      "display_name": "Python 3",
      "language": "python",
      "name": "python3"
    },
    "language_info": {
      "codemirror_mode": {
        "name": "ipython",
        "version": 3
      },
      "file_extension": ".py",
      "mimetype": "text/x-python",
      "name": "python",
      "nbconvert_exporter": "python",
      "pygments_lexer": "ipython3",
      "version": "3.6.12"
    }
  },
  "cells": [
    {
      "cell_type": "markdown",
      "metadata": {
        "id": "iFXsrSxJlzCW"
      },
      "source": [
        "#Introduction\n",
        "\n",
        ".....\n"
      ]
    },
    {
      "cell_type": "markdown",
      "metadata": {
        "id": "oIxLDLnF9g4B"
      },
      "source": [
        "Check to see if jupyter lab uses the correct python interpreter with '!which python'.\n",
        "It should be something like '/opt/anaconda3/envs/[environment name]/bin/python' (on Mac).\n",
        "If not, try this: https://github.com/jupyter/notebook/issues/3146#issuecomment-352718675"
      ]
    },
    {
      "cell_type": "code",
      "metadata": {
        "colab": {
          "base_uri": "https://localhost:8080/"
        },
        "id": "4ZwEkMzu9g4C",
        "outputId": "93606012-efdf-44b6-f697-8a5354bffa5f"
      },
      "source": [
        "!which python\n",
        "!python --version"
      ],
      "execution_count": 5,
      "outputs": [
        {
          "output_type": "stream",
          "text": [
            "/usr/local/bin/python\n",
            "Python 3.6.9\n"
          ],
          "name": "stdout"
        }
      ]
    },
    {
      "cell_type": "code",
      "metadata": {
        "colab": {
          "base_uri": "https://localhost:8080/"
        },
        "id": "2cwaNQyr9oDn",
        "outputId": "0400564b-750d-4a80-92d7-1b28c3680250"
      },
      "source": [
        "!pip install html2text"
      ],
      "execution_count": 6,
      "outputs": [
        {
          "output_type": "stream",
          "text": [
            "Collecting html2text\n",
            "  Downloading https://files.pythonhosted.org/packages/ae/88/14655f727f66b3e3199f4467bafcc88283e6c31b562686bf606264e09181/html2text-2020.1.16-py3-none-any.whl\n",
            "Installing collected packages: html2text\n",
            "Successfully installed html2text-2020.1.16\n"
          ],
          "name": "stdout"
        }
      ]
    },
    {
      "cell_type": "markdown",
      "metadata": {
        "id": "J6aqBT6G9g4D"
      },
      "source": [
        "# Install dependencies:"
      ]
    },
    {
      "cell_type": "code",
      "metadata": {
        "id": "H0q7BTlbiCWW"
      },
      "source": [
        "install_packages = False\n",
        "if install_packages:\n",
        "    !conda install tensorflow=2 -y\n",
        "    !conda install -c anaconda pandas -y\n",
        "    !conda install -c conda-forge tensorflow-hub -y\n",
        "    !conda install -c akode html2text -y\n",
        "    !conda install -c conda-forge tqdm -y\n",
        "    !conda install -c anaconda scikit-learn -y\n",
        "    !conda install -c conda-forge matplotlib -y\n",
        "    !conda install -c anaconda seaborn -y"
      ],
      "execution_count": null,
      "outputs": []
    },
    {
      "cell_type": "markdown",
      "metadata": {
        "id": "g9saS2P09g4D"
      },
      "source": [
        "# Imports"
      ]
    },
    {
      "cell_type": "code",
      "metadata": {
        "id": "xD4HKjy9TC-g"
      },
      "source": [
        "#imports\n",
        "import pandas as pd\n",
        "import numpy as np\n",
        "import os\n",
        "import time\n",
        "import tensorflow as tf\n",
        "import tensorflow_hub as hub\n",
        "import zipfile\n",
        "from html2text import HTML2Text\n",
        "from tqdm import tqdm\n",
        "import re\n",
        "from sklearn.metrics import pairwise_distances\n",
        "from sklearn.preprocessing import normalize\n",
        "import matplotlib.pyplot as plt\n",
        "import seaborn as sns"
      ],
      "execution_count": 7,
      "outputs": []
    },
    {
      "cell_type": "markdown",
      "metadata": {
        "id": "bLrw4ilF9g4E"
      },
      "source": [
        "# Set pandas print options\n",
        "This will improve readability of printed pandas dataframe.\n"
      ]
    },
    {
      "cell_type": "code",
      "metadata": {
        "id": "SEH28FctS6SP"
      },
      "source": [
        "pd.set_option('display.max_rows', None)\n",
        "pd.set_option('display.max_columns', None)\n",
        "pd.set_option('display.width', None)\n",
        "pd.set_option('display.max_colwidth', None)"
      ],
      "execution_count": 9,
      "outputs": []
    },
    {
      "cell_type": "markdown",
      "metadata": {
        "id": "VatRSTkJ9g4E"
      },
      "source": [
        "## Set global Parameters\n",
        "Set your parameters here:\n",
        "\n",
        "data_path: In this path put the data you have downloaded with YouTube Data Tools. \n",
        "output_path: Tghe files generated in this notebook will be saved here.\n",
        "\n",
        "url_dict: URLs to models on Tensorflow hub are saved here. Other models are available there.\n",
        "model_type: Define which model you would like to use. Choose one from url_dict\n",
        "\n",
        "new_embeddings: If this is true, new embeddings will be generated and saved at output_path. Otherwise, embeddings are loaded from Disc.\n",
        "\n",
        "\n"
      ]
    },
    {
      "cell_type": "code",
      "metadata": {
        "id": "TL7Rvq_TD086"
      },
      "source": [
        "data_path = './data/comments_climate_change_trump.tab'\n",
        "output_path = \"./output/\"\n",
        "\n",
        "new_embeddings = True\n",
        "\n",
        "url_dict = {\n",
        "            'Transformer' : \"https://tfhub.dev/google/universal-sentence-encoder-large/5\",\n",
        "            'DAN' : \"https://tfhub.dev/google/universal-sentence-encoder/4\",\n",
        "            'Transformer_Multilingual': \"https://tfhub.dev/google/universal-sentence-encoder-multilingual-large/3\"\n",
        "}\n",
        "\n",
        "model_type = 'Transformer' #@param ['DAN','Transformer','Transformer_Multilingual']"
      ],
      "execution_count": 12,
      "outputs": []
    },
    {
      "cell_type": "markdown",
      "metadata": {
        "id": "ZFHn_DIo9g4G"
      },
      "source": [
        "## Create output directory\n",
        "Try to create the directory defined by output_path"
      ]
    },
    {
      "cell_type": "code",
      "metadata": {
        "colab": {
          "base_uri": "https://localhost:8080/"
        },
        "id": "NuvhsxjlZFhu",
        "outputId": "a7d08c54-4e4e-4f07-aad3-628478b3fdff"
      },
      "source": [
        "try:\n",
        "   os.mkdir(output_path)\n",
        "except OSError:\n",
        "  print (\"Creation of the directory %s failed\" % output_path)\n",
        "else:\n",
        "  print (\"Successfully created the directory %s \" % output_path)\n"
      ],
      "execution_count": 13,
      "outputs": [
        {
          "output_type": "stream",
          "text": [
            "Creation of the directory ./output/ failed\n"
          ],
          "name": "stdout"
        }
      ]
    },
    {
      "cell_type": "markdown",
      "metadata": {
        "id": "VO9QOLP_9DxJ"
      },
      "source": [
        "# Load Data\n",
        "Load you data as a pandas dataframe"
      ]
    },
    {
      "cell_type": "code",
      "metadata": {
        "id": "XHqOeot79g4G"
      },
      "source": [
        "if new_embeddings:\n",
        "    data = pd.read_csv(data_path,sep='\\t',header=(0))\n",
        "    data.head()"
      ],
      "execution_count": 14,
      "outputs": []
    },
    {
      "cell_type": "code",
      "metadata": {
        "colab": {
          "base_uri": "https://localhost:8080/",
          "height": 1000
        },
        "id": "FzU4myRQEOfw",
        "outputId": "a9c78f9d-d637-430d-b37d-bba7a01709a7"
      },
      "source": [
        "data.head()"
      ],
      "execution_count": 15,
      "outputs": [
        {
          "output_type": "execute_result",
          "data": {
            "text/html": [
              "<div>\n",
              "<style scoped>\n",
              "    .dataframe tbody tr th:only-of-type {\n",
              "        vertical-align: middle;\n",
              "    }\n",
              "\n",
              "    .dataframe tbody tr th {\n",
              "        vertical-align: top;\n",
              "    }\n",
              "\n",
              "    .dataframe thead th {\n",
              "        text-align: right;\n",
              "    }\n",
              "</style>\n",
              "<table border=\"1\" class=\"dataframe\">\n",
              "  <thead>\n",
              "    <tr style=\"text-align: right;\">\n",
              "      <th></th>\n",
              "      <th>id</th>\n",
              "      <th>replyCount</th>\n",
              "      <th>likeCount</th>\n",
              "      <th>publishedAt</th>\n",
              "      <th>authorName</th>\n",
              "      <th>text</th>\n",
              "      <th>authorChannelId</th>\n",
              "      <th>authorChannelUrl</th>\n",
              "      <th>isReply</th>\n",
              "      <th>isReplyTo</th>\n",
              "      <th>isReplyToName</th>\n",
              "    </tr>\n",
              "  </thead>\n",
              "  <tbody>\n",
              "    <tr>\n",
              "      <th>0</th>\n",
              "      <td>UgzwMT8VGhOGEfka8vJ4AaABAg</td>\n",
              "      <td>0.0</td>\n",
              "      <td>0</td>\n",
              "      <td>2020-11-14 17:49:26</td>\n",
              "      <td>Art Lover</td>\n",
              "      <td>He&amp;#39;s so politically correct! What a great man! POS!!!</td>\n",
              "      <td>UCOl3TBZ5zfrNHJ6y0nDK3zw</td>\n",
              "      <td>http://www.youtube.com/channel/UCOl3TBZ5zfrNHJ6y0nDK3zw</td>\n",
              "      <td>0</td>\n",
              "      <td>NaN</td>\n",
              "      <td>NaN</td>\n",
              "    </tr>\n",
              "    <tr>\n",
              "      <th>1</th>\n",
              "      <td>UgySDTPTAVvwooP86Lp4AaABAg</td>\n",
              "      <td>0.0</td>\n",
              "      <td>0</td>\n",
              "      <td>2020-11-02 17:01:43</td>\n",
              "      <td>homer j simpson</td>\n",
              "      <td>co2 is life. man can not change the climate. money hoax</td>\n",
              "      <td>UC75kSPu1lVjsr7bgwIllHhQ</td>\n",
              "      <td>http://www.youtube.com/channel/UC75kSPu1lVjsr7bgwIllHhQ</td>\n",
              "      <td>0</td>\n",
              "      <td>NaN</td>\n",
              "      <td>NaN</td>\n",
              "    </tr>\n",
              "    <tr>\n",
              "      <th>2</th>\n",
              "      <td>UgzEMSrII-YxJh5bw2t4AaABAg</td>\n",
              "      <td>0.0</td>\n",
              "      <td>0</td>\n",
              "      <td>2020-10-22 14:21:59</td>\n",
              "      <td>Beverly Dwyer</td>\n",
              "      <td>All the president is an advocate for big oil because their filling his freaking pockets..... He’s a waste of very important time . You say climate change to Joe Biden he says jobs jobs and more jobs👍🏻💫</td>\n",
              "      <td>UCRn9qT4uHuA1hVm3aKWfNTA</td>\n",
              "      <td>http://www.youtube.com/channel/UCRn9qT4uHuA1hVm3aKWfNTA</td>\n",
              "      <td>0</td>\n",
              "      <td>NaN</td>\n",
              "      <td>NaN</td>\n",
              "    </tr>\n",
              "    <tr>\n",
              "      <th>3</th>\n",
              "      <td>UgzYSV9aVtR7wS7c9nF4AaABAg</td>\n",
              "      <td>0.0</td>\n",
              "      <td>0</td>\n",
              "      <td>2020-10-15 17:49:35</td>\n",
              "      <td>Hobro Club</td>\n",
              "      <td>Where is the whole interview?</td>\n",
              "      <td>UCVej8w_oH1MwECKCw3po8UQ</td>\n",
              "      <td>http://www.youtube.com/channel/UCVej8w_oH1MwECKCw3po8UQ</td>\n",
              "      <td>0</td>\n",
              "      <td>NaN</td>\n",
              "      <td>NaN</td>\n",
              "    </tr>\n",
              "    <tr>\n",
              "      <th>4</th>\n",
              "      <td>UgxyLvpaVjw9SxhoY1p4AaABAg</td>\n",
              "      <td>0.0</td>\n",
              "      <td>0</td>\n",
              "      <td>2020-10-12 19:25:59</td>\n",
              "      <td>LUKE EAGLE</td>\n",
              "      <td>Climate change is a scam from Roman Catholic Church and left wing socialist. Mr president tell them you believe in creation so that CC is in GOD&amp;#39;S hand only.</td>\n",
              "      <td>UCOEpSM2pFVDma6mzD7ni-MQ</td>\n",
              "      <td>http://www.youtube.com/channel/UCOEpSM2pFVDma6mzD7ni-MQ</td>\n",
              "      <td>0</td>\n",
              "      <td>NaN</td>\n",
              "      <td>NaN</td>\n",
              "    </tr>\n",
              "  </tbody>\n",
              "</table>\n",
              "</div>"
            ],
            "text/plain": [
              "                           id  replyCount  likeCount          publishedAt  \\\n",
              "0  UgzwMT8VGhOGEfka8vJ4AaABAg         0.0          0  2020-11-14 17:49:26   \n",
              "1  UgySDTPTAVvwooP86Lp4AaABAg         0.0          0  2020-11-02 17:01:43   \n",
              "2  UgzEMSrII-YxJh5bw2t4AaABAg         0.0          0  2020-10-22 14:21:59   \n",
              "3  UgzYSV9aVtR7wS7c9nF4AaABAg         0.0          0  2020-10-15 17:49:35   \n",
              "4  UgxyLvpaVjw9SxhoY1p4AaABAg         0.0          0  2020-10-12 19:25:59   \n",
              "\n",
              "        authorName  \\\n",
              "0        Art Lover   \n",
              "1  homer j simpson   \n",
              "2    Beverly Dwyer   \n",
              "3       Hobro Club   \n",
              "4       LUKE EAGLE   \n",
              "\n",
              "                                                                                                                                                                                                        text  \\\n",
              "0                                                                                                                                                  He&#39;s so politically correct! What a great man! POS!!!   \n",
              "1                                                                                                                                                    co2 is life. man can not change the climate. money hoax   \n",
              "2  All the president is an advocate for big oil because their filling his freaking pockets..... He’s a waste of very important time . You say climate change to Joe Biden he says jobs jobs and more jobs👍🏻💫   \n",
              "3                                                                                                                                                                              Where is the whole interview?   \n",
              "4                                          Climate change is a scam from Roman Catholic Church and left wing socialist. Mr president tell them you believe in creation so that CC is in GOD&#39;S hand only.   \n",
              "\n",
              "            authorChannelId  \\\n",
              "0  UCOl3TBZ5zfrNHJ6y0nDK3zw   \n",
              "1  UC75kSPu1lVjsr7bgwIllHhQ   \n",
              "2  UCRn9qT4uHuA1hVm3aKWfNTA   \n",
              "3  UCVej8w_oH1MwECKCw3po8UQ   \n",
              "4  UCOEpSM2pFVDma6mzD7ni-MQ   \n",
              "\n",
              "                                          authorChannelUrl  isReply isReplyTo  \\\n",
              "0  http://www.youtube.com/channel/UCOl3TBZ5zfrNHJ6y0nDK3zw        0       NaN   \n",
              "1  http://www.youtube.com/channel/UC75kSPu1lVjsr7bgwIllHhQ        0       NaN   \n",
              "2  http://www.youtube.com/channel/UCRn9qT4uHuA1hVm3aKWfNTA        0       NaN   \n",
              "3  http://www.youtube.com/channel/UCVej8w_oH1MwECKCw3po8UQ        0       NaN   \n",
              "4  http://www.youtube.com/channel/UCOEpSM2pFVDma6mzD7ni-MQ        0       NaN   \n",
              "\n",
              "  isReplyToName  \n",
              "0           NaN  \n",
              "1           NaN  \n",
              "2           NaN  \n",
              "3           NaN  \n",
              "4           NaN  "
            ]
          },
          "metadata": {
            "tags": []
          },
          "execution_count": 15
        }
      ]
    },
    {
      "cell_type": "markdown",
      "metadata": {
        "id": "_IUWISh1M5nz"
      },
      "source": [
        "# Preprocessing\n",
        "Preprocess your data:\n",
        "- Drop empty rows\n",
        "- Drop unused columns"
      ]
    },
    {
      "cell_type": "code",
      "metadata": {
        "id": "gbU3mk83MBIH"
      },
      "source": [
        "if new_embeddings:\n",
        "    data = data.dropna(subset=['text', 'authorName']) # drop rows with no content\n",
        "    data=data.drop(['id', 'replyCount','likeCount','authorChannelUrl','authorChannelId','isReplyTo','isReplyToName'],axis=1) # drop unused columns\n",
        "    data.head()"
      ],
      "execution_count": 16,
      "outputs": []
    },
    {
      "cell_type": "markdown",
      "metadata": {
        "id": "qVqAAc3s9g4G"
      },
      "source": [
        "- remove HTML-tags, links and usernames"
      ]
    },
    {
      "cell_type": "code",
      "metadata": {
        "id": "vIgxEvzcM39J",
        "colab": {
          "base_uri": "https://localhost:8080/"
        },
        "outputId": "c2928ed3-cca9-4243-ee23-f0af5a496671"
      },
      "source": [
        "if new_embeddings:\n",
        "    # Remove HTML tags\n",
        "    tqdm.pandas()\n",
        "    h = HTML2Text()\n",
        "    h.ignore_links = True\n",
        "    data['cleaned'] = data['text'].progress_apply(lambda x: h.handle(x))\n",
        "    print( \"Removed HTML Tags.\")\n",
        "\n",
        "    # Remove links\n",
        "    http_link_pattern = r'http\\S+'\n",
        "    bitly_link_pattern = r'bit.ly/\\S+'\n",
        "    data['cleaned'] = data['cleaned'].str.replace(http_link_pattern, '')\n",
        "    data['cleaned'] = data['cleaned'].str.replace(bitly_link_pattern, '')\n",
        "    print( \"Removed Links.\")\n",
        "\n",
        "    # Remove user names\n",
        "    keep_names = [\"earth\", \"Tide\", \"Geologist\", \"A Person\", \"Titanic\", \"adventure\", \"Sun\", \"The United States Of America\"] # user names we want to keep\n",
        "    user_names = [name for name in data['authorName'].unique() if (len(name)> 3 and name not in keep_names)]\n",
        "    data['cleaned'] = data['cleaned'].str.replace('|'.join(map(re.escape, user_names)), '')\n",
        "    print( \"Removed user names.\")"
      ],
      "execution_count": 17,
      "outputs": [
        {
          "output_type": "stream",
          "text": [
            "100%|██████████| 757/757 [00:00<00:00, 5393.83it/s]\n"
          ],
          "name": "stderr"
        },
        {
          "output_type": "stream",
          "text": [
            "Removed HTML Tags.\n",
            "Removed Links.\n",
            "Removed user names.\n"
          ],
          "name": "stdout"
        }
      ]
    },
    {
      "cell_type": "markdown",
      "metadata": {
        "id": "N0ODyI2A9g4H"
      },
      "source": [
        "# Save or Load preprocessed data\n",
        "\n",
        "Save your data afte preprocessing, or load preprocessed data from disc."
      ]
    },
    {
      "cell_type": "code",
      "metadata": {
        "colab": {
          "base_uri": "https://localhost:8080/",
          "height": 449
        },
        "id": "W0uP3D5IXvyT",
        "outputId": "e3fa173f-6059-4d45-fab3-b5cd22f91a6b"
      },
      "source": [
        "if new_embeddings:\n",
        "  data.to_pickle(output_path+'data_preprocessed'+'.pkl')\n",
        "else:\n",
        "  data = pd.read_pickle(output_path+'data_preprocessed'+'.pkl')\n",
        "data.head()"
      ],
      "execution_count": 18,
      "outputs": [
        {
          "output_type": "execute_result",
          "data": {
            "text/html": [
              "<div>\n",
              "<style scoped>\n",
              "    .dataframe tbody tr th:only-of-type {\n",
              "        vertical-align: middle;\n",
              "    }\n",
              "\n",
              "    .dataframe tbody tr th {\n",
              "        vertical-align: top;\n",
              "    }\n",
              "\n",
              "    .dataframe thead th {\n",
              "        text-align: right;\n",
              "    }\n",
              "</style>\n",
              "<table border=\"1\" class=\"dataframe\">\n",
              "  <thead>\n",
              "    <tr style=\"text-align: right;\">\n",
              "      <th></th>\n",
              "      <th>publishedAt</th>\n",
              "      <th>authorName</th>\n",
              "      <th>text</th>\n",
              "      <th>isReply</th>\n",
              "      <th>cleaned</th>\n",
              "    </tr>\n",
              "  </thead>\n",
              "  <tbody>\n",
              "    <tr>\n",
              "      <th>0</th>\n",
              "      <td>2020-11-14 17:49:26</td>\n",
              "      <td>Art Lover</td>\n",
              "      <td>He&amp;#39;s so politically correct! What a great man! POS!!!</td>\n",
              "      <td>0</td>\n",
              "      <td>He's so politically correct! What a great man! POS!!!\\n\\n</td>\n",
              "    </tr>\n",
              "    <tr>\n",
              "      <th>1</th>\n",
              "      <td>2020-11-02 17:01:43</td>\n",
              "      <td>homer j simpson</td>\n",
              "      <td>co2 is life. man can not change the climate. money hoax</td>\n",
              "      <td>0</td>\n",
              "      <td>co2 is life. man can not change the climate. money hoax\\n\\n</td>\n",
              "    </tr>\n",
              "    <tr>\n",
              "      <th>2</th>\n",
              "      <td>2020-10-22 14:21:59</td>\n",
              "      <td>Beverly Dwyer</td>\n",
              "      <td>All the president is an advocate for big oil because their filling his freaking pockets..... He’s a waste of very important time . You say climate change to Joe Biden he says jobs jobs and more jobs👍🏻💫</td>\n",
              "      <td>0</td>\n",
              "      <td>All the president is an advocate for big oil because their filling his\\nfreaking pockets..... He’s a waste of very important time . You say climate\\nchange to Joe Biden he says jobs jobs and more jobs👍🏻💫\\n\\n</td>\n",
              "    </tr>\n",
              "    <tr>\n",
              "      <th>3</th>\n",
              "      <td>2020-10-15 17:49:35</td>\n",
              "      <td>Hobro Club</td>\n",
              "      <td>Where is the whole interview?</td>\n",
              "      <td>0</td>\n",
              "      <td>Where is the whole interview?\\n\\n</td>\n",
              "    </tr>\n",
              "    <tr>\n",
              "      <th>4</th>\n",
              "      <td>2020-10-12 19:25:59</td>\n",
              "      <td>LUKE EAGLE</td>\n",
              "      <td>Climate change is a scam from Roman Catholic Church and left wing socialist. Mr president tell them you believe in creation so that CC is in GOD&amp;#39;S hand only.</td>\n",
              "      <td>0</td>\n",
              "      <td>Climate change is a scam from Roman Catholic Church and left wing socialist.\\nMr president tell them you believe in creation so that CC is in GOD'S hand\\nonly.\\n\\n</td>\n",
              "    </tr>\n",
              "  </tbody>\n",
              "</table>\n",
              "</div>"
            ],
            "text/plain": [
              "           publishedAt       authorName  \\\n",
              "0  2020-11-14 17:49:26        Art Lover   \n",
              "1  2020-11-02 17:01:43  homer j simpson   \n",
              "2  2020-10-22 14:21:59    Beverly Dwyer   \n",
              "3  2020-10-15 17:49:35       Hobro Club   \n",
              "4  2020-10-12 19:25:59       LUKE EAGLE   \n",
              "\n",
              "                                                                                                                                                                                                        text  \\\n",
              "0                                                                                                                                                  He&#39;s so politically correct! What a great man! POS!!!   \n",
              "1                                                                                                                                                    co2 is life. man can not change the climate. money hoax   \n",
              "2  All the president is an advocate for big oil because their filling his freaking pockets..... He’s a waste of very important time . You say climate change to Joe Biden he says jobs jobs and more jobs👍🏻💫   \n",
              "3                                                                                                                                                                              Where is the whole interview?   \n",
              "4                                          Climate change is a scam from Roman Catholic Church and left wing socialist. Mr president tell them you believe in creation so that CC is in GOD&#39;S hand only.   \n",
              "\n",
              "   isReply  \\\n",
              "0        0   \n",
              "1        0   \n",
              "2        0   \n",
              "3        0   \n",
              "4        0   \n",
              "\n",
              "                                                                                                                                                                                                           cleaned  \n",
              "0                                                                                                                                                        He's so politically correct! What a great man! POS!!!\\n\\n  \n",
              "1                                                                                                                                                      co2 is life. man can not change the climate. money hoax\\n\\n  \n",
              "2  All the president is an advocate for big oil because their filling his\\nfreaking pockets..... He’s a waste of very important time . You say climate\\nchange to Joe Biden he says jobs jobs and more jobs👍🏻💫\\n\\n  \n",
              "3                                                                                                                                                                                Where is the whole interview?\\n\\n  \n",
              "4                                              Climate change is a scam from Roman Catholic Church and left wing socialist.\\nMr president tell them you believe in creation so that CC is in GOD'S hand\\nonly.\\n\\n  "
            ]
          },
          "metadata": {
            "tags": []
          },
          "execution_count": 18
        }
      ]
    },
    {
      "cell_type": "markdown",
      "metadata": {
        "id": "5YxXP5PtAFyV"
      },
      "source": [
        "# Produce Text Embeddings with Universal Sentence Encoder"
      ]
    },
    {
      "cell_type": "markdown",
      "metadata": {
        "id": "d_sStH0bXhFD"
      },
      "source": [
        "## Load Model\n",
        "Load the model from TF-hub"
      ]
    },
    {
      "cell_type": "code",
      "metadata": {
        "id": "ugb89Xy7XdqR",
        "colab": {
          "base_uri": "https://localhost:8080/"
        },
        "outputId": "47c637db-ef2b-4c10-bf9d-e99144987d8d"
      },
      "source": [
        "hub_url = url_dict[model_type]\n",
        "if new_embeddings:\n",
        "  print(\"Loading model. This will take some time...\")\n",
        "  embed = hub.load(hub_url)"
      ],
      "execution_count": 19,
      "outputs": [
        {
          "output_type": "stream",
          "text": [
            "Loading model. This will take some time...\n"
          ],
          "name": "stdout"
        }
      ]
    },
    {
      "cell_type": "markdown",
      "metadata": {
        "id": "smVQb22E9g4I"
      },
      "source": [
        "## Embed Documents\n",
        "Produce embeddings of your documents."
      ]
    },
    {
      "cell_type": "code",
      "metadata": {
        "id": "Yz3Qlca7YGEN",
        "colab": {
          "base_uri": "https://localhost:8080/"
        },
        "outputId": "834ead23-b28f-46f5-cd4c-744ff2c1da65"
      },
      "source": [
        "if new_embeddings:\n",
        "    for k,g in data.groupby(np.arange(len(data))//200):\n",
        "        if k == 0:\n",
        "            embeddings = embed(g['cleaned'])\n",
        "        else:\n",
        "            embeddings_new = embed(g['cleaned'])\n",
        "            embeddings = tf.concat(values=[embeddings,embeddings_new],axis = 0)\n",
        "            print(k , end =\" \")\n",
        "    print(\"The embeddings vector is of fixed length {}\".format(embeddings.shape[1]))\n",
        "\n",
        "    np.save(output_path+'/embeddings'+model_type+'.npy', embeddings, allow_pickle=True, fix_imports=True)\n",
        "else:\n",
        "    embeddings = np.load(output_path+'/embeddings'+model_type+'.npy', mmap_mode=None, allow_pickle=False, fix_imports=True, encoding='ASCII')\n",
        "\n",
        "embeddings.shape"
      ],
      "execution_count": 20,
      "outputs": [
        {
          "output_type": "stream",
          "text": [
            "1 2 3 The embeddings vector is of fixed length 512\n"
          ],
          "name": "stdout"
        },
        {
          "output_type": "execute_result",
          "data": {
            "text/plain": [
              "TensorShape([757, 512])"
            ]
          },
          "metadata": {
            "tags": []
          },
          "execution_count": 20
        }
      ]
    },
    {
      "cell_type": "markdown",
      "metadata": {
        "id": "oFTi_5lUAnJF"
      },
      "source": [
        "## Calculate Similarity Matrix with angular distance\n",
        "\n",
        "'Following Cer et al. (2018), we first compute\n",
        "the sentence embeddings u, v for an STS sentence\n",
        "pair, and then score the sentence pair similarity\n",
        "based on the angular distance between the two\n",
        "embedding vectors  d = − arccos (uv/||u|| ||v||\u0011).'"
      ]
    },
    {
      "cell_type": "code",
      "metadata": {
        "colab": {
          "base_uri": "https://localhost:8080/"
        },
        "id": "ZTMjSNyc9g4J",
        "outputId": "0c641819-2212-46c0-a62c-9fe0d0ca0cb4"
      },
      "source": [
        "from sklearn.metrics.pairwise import cosine_similarity\n",
        "def cos_sim(input_vectors):\n",
        "    similarity = cosine_similarity(input_vectors)\n",
        "    return similarity\n",
        "cosine_similarity_matrix = cos_sim(np.array(embeddings))\n",
        "print(cosine_similarity_matrix)"
      ],
      "execution_count": 21,
      "outputs": [
        {
          "output_type": "stream",
          "text": [
            "[[ 1.          0.1494708   0.1671412  ... -0.04761782  0.25915042\n",
            "   0.3377232 ]\n",
            " [ 0.1494708   0.9999999   0.20697746 ...  0.12819368  0.09571084\n",
            "   0.06458462]\n",
            " [ 0.1671412   0.20697746  1.0000006  ...  0.02210272  0.21918434\n",
            "   0.13197531]\n",
            " ...\n",
            " [-0.04761782  0.12819368  0.02210272 ...  1.0000001   0.33803537\n",
            "   0.03947615]\n",
            " [ 0.25915042  0.09571084  0.21918434 ...  0.33803537  1.0000001\n",
            "   0.24737117]\n",
            " [ 0.3377232   0.06458462  0.13197531 ...  0.03947615  0.24737117\n",
            "   1.        ]]\n"
          ],
          "name": "stdout"
        }
      ]
    },
    {
      "cell_type": "markdown",
      "metadata": {
        "id": "U6JBhQDC9g4J"
      },
      "source": [
        "# Plots Similarity \n",
        "Plot and print a heat map showing the semantic contextual similarity between comments."
      ]
    },
    {
      "cell_type": "code",
      "metadata": {
        "colab": {
          "base_uri": "https://localhost:8080/",
          "height": 362
        },
        "id": "Vl7_jFBa9g4K",
        "outputId": "2ad6b881-87e4-4854-d4ee-01a06bcf1d83"
      },
      "source": [
        "import seaborn as sns\n",
        "def plot_similarity(labels, features, rotation):\n",
        "  corr = np.inner(features, features)\n",
        "  sns.set(font_scale=1.2)\n",
        "  g = sns.heatmap(\n",
        "      corr,\n",
        "      xticklabels=labels,\n",
        "      yticklabels=labels,\n",
        "      vmin=0,\n",
        "      vmax=1,\n",
        "      cmap=\"YlOrRd\")\n",
        "  g.set_xticklabels(labels, rotation=rotation)\n",
        "  g.set_title(\"Semantic Textual Similarity\")\n",
        "\n",
        "num_samples = 5\n",
        "off_set = 10000\n",
        "\n",
        "plot_similarity(data.iloc[off_set:off_set+num_samples]['cleaned'], embeddings[off_set:off_set+num_samples], 90)"
      ],
      "execution_count": 22,
      "outputs": [
        {
          "output_type": "stream",
          "text": [
            "/usr/local/lib/python3.6/dist-packages/seaborn/matrix.py:311: UserWarning: Attempting to set identical bottom == top == 0 results in singular transformations; automatically expanding.\n",
            "  ax.set(xlim=(0, self.data.shape[1]), ylim=(0, self.data.shape[0]))\n",
            "/usr/local/lib/python3.6/dist-packages/seaborn/matrix.py:311: UserWarning: Attempting to set identical left == right == 0 results in singular transformations; automatically expanding.\n",
            "  ax.set(xlim=(0, self.data.shape[1]), ylim=(0, self.data.shape[0]))\n"
          ],
          "name": "stderr"
        },
        {
          "output_type": "display_data",
          "data": {
            "image/png": "[encoded data removed]",
            "text/plain": [
              "<Figure size 432x288 with 2 Axes>"
            ]
          },
          "metadata": {
            "tags": []
          }
        }
      ]
    },
    {
      "cell_type": "markdown",
      "metadata": {
        "id": "RvfMRLZa9g4K"
      },
      "source": [
        "# Show neighbours of a comment \n",
        "Define which comment to analyze"
      ]
    },
    {
      "cell_type": "code",
      "metadata": {
        "id": "tweEdE9A9g4K"
      },
      "source": [
        "comment_index = 527 #324\n",
        "comment = data[\"cleaned\"][comment_index]\n",
        "comment_list = data[\"cleaned\"].tolist()\n",
        "print(comment)"
      ],
      "execution_count": null,
      "outputs": []
    },
    {
      "cell_type": "markdown",
      "metadata": {
        "id": "taGyiM5c9g4L"
      },
      "source": [
        "Print similar comments."
      ]
    },
    {
      "cell_type": "code",
      "metadata": {
        "colab": {
          "base_uri": "https://localhost:8080/"
        },
        "id": "pTmkn6Zt9g4L",
        "outputId": "b4c1e588-a245-4180-eeb9-f10c64e4198f"
      },
      "source": [
        "def get_top_similar(sentence, sentence_list, similarity_matrix, topN):\n",
        "    # find the index of sentence in list\n",
        "    index = sentence_list.index(sentence)\n",
        "    # get the corresponding row in similarity matrix\n",
        "    similarity_row = np.array(similarity_matrix[index, :])\n",
        "    # get the indices of top similar\n",
        "    indices = similarity_row.argsort()[-topN:][::-1]\n",
        "    return [sentence_list[i] for i in indices]\n",
        "\n",
        "\n",
        "for i, value in enumerate(get_top_similar(comment, comment_list, cosine_similarity_matrix, 20)):\n",
        "  print(\"Top similar comment {}: {}\".format(i+1, value))"
      ],
      "execution_count": 39,
      "outputs": [
        {
          "output_type": "stream",
          "text": [
            "Top similar comment 1: Perhaps you could run for president and do it better? LOL. Really. LOL.\n",
            "\n",
            "\n",
            "Top similar comment 2: I'm sure you could do so much better.\n",
            "\n",
            "\n",
            "Top similar comment 3: @ what fucking garbage \"perhaps you could run for president and do\n",
            "it better\" wow what a piece of shit comment, how stupid do you have to be?\n",
            "what about if my plummer does a bad job and ruins my toilet, he cant get any\n",
            "criticism because i dont have his job? what.. the... fuck... this has to be a\n",
            "joke, it has to be, it's like saying \"perhaps you could do better than this\n",
            "rich guy\" it makes zero sense\n",
            "\n",
            "\n",
            "Top similar comment 4:  wow you are quite the funny character, aren’t you?\n",
            "\n",
            "\n",
            "Top similar comment 5:  lol ur funny. Love trump\n",
            "\n",
            "\n",
            "Top similar comment 6:  you better be joking\n",
            "\n",
            "\n",
            "Top similar comment 7: yep quite. sounds like you nailed it,\n",
            "\n",
            "\n",
            "Top similar comment 8: hahahaha you wish buddy have fun in your shithole country\n",
            "\n",
            "\n",
            "Top similar comment 9:  I really hope you’re joking about😂\n",
            "\n",
            "\n",
            "Top similar comment 10: Anyone can be president ! My hamster would be a better pick. Impeach\n",
            "Trumponavski.\n",
            "\n",
            "\n",
            "Top similar comment 11: Go back to your Russian troll farm dude. You are not fooling anyone.\n",
            "\n",
            "\n",
            "Top similar comment 12: Go back to the Russian troll farm dude. You are not fooling anyone.\n",
            "\n",
            "\n",
            "Top similar comment 13: @ LMAO keep telling yourselves that, atleast we can safely goto school..\n",
            "\n",
            "\n",
            "Top similar comment 14: Trump could kick yo ass boi\n",
            "\n",
            "\n",
            "Top similar comment 15: Hahaha go cry demonrat TRUMP FOR 12 MORE YEARS AND THE DON JR FOR PRESIDENT IN\n",
            "2032!!\n",
            "\n",
            "\n",
            "Top similar comment 16: HAHAHAHAHAHA awwww did we hit to close to home ya filthy yank😂\n",
            "\n",
            "\n",
            "Top similar comment 17:  lol nothing in your incoherent rambling did you provide anything\n",
            "other than opinion\n",
            "\n",
            "\n",
            "Top similar comment 18: You truly are a moron\n",
            "\n",
            "\n",
            "Top similar comment 19:  you are a patsy, bro!\n",
            "\n",
            "\n",
            "Top similar comment 20: Says the Trump follower\n",
            "\n",
            "\n"
          ],
          "name": "stdout"
        }
      ]
    }
  ]
}