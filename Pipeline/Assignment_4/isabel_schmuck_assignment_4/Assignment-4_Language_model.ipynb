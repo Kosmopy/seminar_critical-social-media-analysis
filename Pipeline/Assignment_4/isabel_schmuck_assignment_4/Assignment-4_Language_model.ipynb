{
 "cells": [
  {
   "cell_type": "markdown",
   "metadata": {
    "id": "iFXsrSxJlzCW"
   },
   "source": [
    "# Introduction\n",
    "\n",
    ".....\n"
   ]
  },
  {
   "cell_type": "markdown",
   "metadata": {},
   "source": [
    "Check to see if jupyter lab uses the correct python interpreter with '!which python'.\n",
    "It should be something like '/opt/anaconda3/envs/[environment name]/bin/python' (on Mac).\n",
    "If not, try this: https://github.com/jupyter/notebook/issues/3146#issuecomment-352718675"
   ]
  },
  {
   "cell_type": "code",
   "execution_count": 1,
   "metadata": {},
   "outputs": [
    {
     "name": "stdout",
     "output_type": "stream",
     "text": [
      "/usr/bin/python\r\n"
     ]
    }
   ],
   "source": [
    "!which python"
   ]
  },
  {
   "cell_type": "markdown",
   "metadata": {},
   "source": [
    "# Install dependencies:"
   ]
  },
  {
   "cell_type": "code",
   "execution_count": null,
   "metadata": {
    "colab": {
     "base_uri": "https://localhost:8080/"
    },
    "id": "H0q7BTlbiCWW",
    "outputId": "32ddd123-4834-4913-f942-038e830d9276"
   },
   "outputs": [],
   "source": [
    "install_packages = True\n",
    "if install_packages:\n",
    "    !conda install tensorflow=2 -y\n",
    "    !conda install -c anaconda pandas -y\n",
    "    !conda install -c conda-forge tensorflow-hub -y\n",
    "    !conda install -c akode html2text -y\n",
    "    !conda install -c conda-forge tqdm -y\n",
    "    !conda install -c anaconda scikit-learn -y\n",
    "    !conda install -c conda-forge matplotlib -y\n",
    "    !conda install -c anaconda seaborn -y"
   ]
  },
  {
   "cell_type": "markdown",
   "metadata": {},
   "source": [
    "# Imports"
   ]
  },
  {
   "cell_type": "code",
   "execution_count": 3,
   "metadata": {
    "id": "xD4HKjy9TC-g"
   },
   "outputs": [],
   "source": [
    "#imports\n",
    "import pandas as pd\n",
    "import numpy as np\n",
    "import os\n",
    "import time\n",
    "import tensorflow as tf\n",
    "import tensorflow_hub as hub\n",
    "import zipfile\n",
    "from html2text import HTML2Text\n",
    "from tqdm import tqdm\n",
    "import re\n",
    "from sklearn.metrics import pairwise_distances\n",
    "from sklearn.preprocessing import normalize\n",
    "import matplotlib.pyplot as plt\n",
    "import seaborn as sns"
   ]
  },
  {
   "cell_type": "markdown",
   "metadata": {},
   "source": [
    "# Set pandas print options\n",
    "This will improve readability of printed pandas dataframe.\n"
   ]
  },
  {
   "cell_type": "code",
   "execution_count": 4,
   "metadata": {
    "id": "SEH28FctS6SP"
   },
   "outputs": [],
   "source": [
    "pd.set_option('display.max_rows', None)\n",
    "pd.set_option('display.max_columns', None)\n",
    "pd.set_option('display.width', None)\n",
    "pd.set_option('display.max_colwidth', None)"
   ]
  },
  {
   "cell_type": "markdown",
   "metadata": {},
   "source": [
    "## Set global Parameters\n",
    "Set your parameters here:\n",
    "\n",
    "data_path: In this path put the data you have downloaded with YouTube Data Tools. \n",
    "output_path: Tghe files generated in this notebook will be saved here.\n",
    "\n",
    "url_dict: URLs to models on Tensorflow hub are saved here. Other models are available there.\n",
    "model_type: Define which model you would like to use. Choose one from url_dict\n",
    "\n",
    "new_embeddings: If this is true, new embeddings will be generated and saved at output_path. Otherwise, embeddings are loaded from Disc.\n",
    "\n",
    "\n"
   ]
  },
  {
   "cell_type": "code",
   "execution_count": 8,
   "metadata": {
    "id": "TL7Rvq_TD086"
   },
   "outputs": [],
   "source": [
    "data_path = '../../../videoinfo_tUR0LrSadkg_2020_11_26-10_48_15_comments.tab'\n",
    "output_path = \"./output/\"\n",
    "\n",
    "new_embeddings = True\n",
    "\n",
    "url_dict = {\n",
    "            'Transformer' : \"https://tfhub.dev/google/universal-sentence-encoder-large/5\",\n",
    "            'DAN' : \"https://tfhub.dev/google/universal-sentence-encoder/4\",\n",
    "            'Transformer_Multilingual': \"https://tfhub.dev/google/universal-sentence-encoder-multilingual-large/3\"\n",
    "}\n",
    "\n",
    "model_type = 'Transformer' #@param ['DAN','Transformer','Transformer_Multilingual']"
   ]
  },
  {
   "cell_type": "markdown",
   "metadata": {},
   "source": [
    "## Create output directory\n",
    "Try to create the directory defined by output_path"
   ]
  },
  {
   "cell_type": "code",
   "execution_count": 6,
   "metadata": {
    "colab": {
     "base_uri": "https://localhost:8080/"
    },
    "id": "NuvhsxjlZFhu",
    "outputId": "436a89b3-9ae8-4f74-f236-4a3f55b64d6d"
   },
   "outputs": [
    {
     "name": "stdout",
     "output_type": "stream",
     "text": [
      "Successfully created the directory ./output/ \n"
     ]
    }
   ],
   "source": [
    "try:\n",
    "   os.mkdir(output_path)\n",
    "except OSError:\n",
    "  print (\"Creation of the directory %s failed\" % output_path)\n",
    "else:\n",
    "  print (\"Successfully created the directory %s \" % output_path)\n"
   ]
  },
  {
   "cell_type": "markdown",
   "metadata": {
    "id": "VO9QOLP_9DxJ"
   },
   "source": [
    "# Load Data\n",
    "Load you data as a pandas dataframe"
   ]
  },
  {
   "cell_type": "code",
   "execution_count": 9,
   "metadata": {},
   "outputs": [],
   "source": [
    "if new_embeddings:\n",
    "    data = pd.read_csv(data_path,sep='\\t',header=(0))\n",
    "    data.head()"
   ]
  },
  {
   "cell_type": "markdown",
   "metadata": {
    "id": "_IUWISh1M5nz"
   },
   "source": [
    "# Preprocessing\n",
    "Preprocess your data:\n",
    "- Drop empty rows\n",
    "- Drop unused columns"
   ]
  },
  {
   "cell_type": "code",
   "execution_count": 10,
   "metadata": {
    "id": "gbU3mk83MBIH"
   },
   "outputs": [],
   "source": [
    "if new_embeddings:\n",
    "    data = data.dropna(subset=['text', 'authorName']) # drop rows with no content\n",
    "    data=data.drop(['id', 'replyCount','likeCount','authorChannelUrl','authorChannelId','isReplyTo','isReplyToName'],axis=1) # drop unused columns\n",
    "    data.head()"
   ]
  },
  {
   "cell_type": "markdown",
   "metadata": {},
   "source": [
    "- remove HTML-tags, links and usernames"
   ]
  },
  {
   "cell_type": "code",
   "execution_count": 11,
   "metadata": {
    "id": "vIgxEvzcM39J"
   },
   "outputs": [
    {
     "name": "stderr",
     "output_type": "stream",
     "text": [
      "/usr/local/lib/python3.8/site-packages/tqdm/std.py:725: FutureWarning: The Panel class is removed from pandas. Accessing it from the top-level namespace will also be removed in the next version\n",
      "  from pandas import Panel\n",
      "100%|██████████| 2292/2292 [00:00<00:00, 5949.09it/s]"
     ]
    },
    {
     "name": "stdout",
     "output_type": "stream",
     "text": [
      "Removed HTML Tags.\n",
      "Removed Links.\n"
     ]
    },
    {
     "name": "stderr",
     "output_type": "stream",
     "text": [
      "\n"
     ]
    }
   ],
   "source": [
    "if new_embeddings:\n",
    "    # Remove HTML tags\n",
    "    tqdm.pandas()\n",
    "    h = HTML2Text()\n",
    "    h.ignore_links = True\n",
    "    data['cleaned'] = data['text'].progress_apply(lambda x: h.handle(x))\n",
    "    print( \"Removed HTML Tags.\")\n",
    "\n",
    "    # Remove links\n",
    "    http_link_pattern = r'http\\S+'\n",
    "    bitly_link_pattern = r'bit.ly/\\S+'\n",
    "    data['cleaned'] = data['cleaned'].str.replace(http_link_pattern, '')\n",
    "    data['cleaned'] = data['cleaned'].str.replace(bitly_link_pattern, '')\n",
    "    print( \"Removed Links.\")"
   ]
  },
  {
   "cell_type": "markdown",
   "metadata": {},
   "source": [
    "# Save or Load preprocessed data\n",
    "\n",
    "Save your data afte preprocessing, or load preprocessed data from disc."
   ]
  },
  {
   "cell_type": "code",
   "execution_count": 12,
   "metadata": {
    "colab": {
     "base_uri": "https://localhost:8080/"
    },
    "id": "W0uP3D5IXvyT",
    "outputId": "ce705b12-d180-438e-8bb7-86a5dfffbdcf"
   },
   "outputs": [
    {
     "data": {
      "text/html": [
       "<div>\n",
       "<style scoped>\n",
       "    .dataframe tbody tr th:only-of-type {\n",
       "        vertical-align: middle;\n",
       "    }\n",
       "\n",
       "    .dataframe tbody tr th {\n",
       "        vertical-align: top;\n",
       "    }\n",
       "\n",
       "    .dataframe thead th {\n",
       "        text-align: right;\n",
       "    }\n",
       "</style>\n",
       "<table border=\"1\" class=\"dataframe\">\n",
       "  <thead>\n",
       "    <tr style=\"text-align: right;\">\n",
       "      <th></th>\n",
       "      <th>publishedAt</th>\n",
       "      <th>authorName</th>\n",
       "      <th>text</th>\n",
       "      <th>isReply</th>\n",
       "      <th>cleaned</th>\n",
       "    </tr>\n",
       "  </thead>\n",
       "  <tbody>\n",
       "    <tr>\n",
       "      <th>0</th>\n",
       "      <td>2020-10-28 17:16:11</td>\n",
       "      <td>AraAra1234</td>\n",
       "      <td>The more I hear the &amp;quot;97% of scientists...&amp;quot; truism and the more I hear &amp;quot;stop thinking and accept MY truth&amp;quot;.</td>\n",
       "      <td>0</td>\n",
       "      <td>The more I hear the \"97% of scientists...\" truism and the more I hear \"stop\\nthinking and accept MY truth\".\\n\\n</td>\n",
       "    </tr>\n",
       "    <tr>\n",
       "      <th>1</th>\n",
       "      <td>2020-10-03 21:38:38</td>\n",
       "      <td>Kuroi Ryū</td>\n",
       "      <td>If you want to know more about Bjørn Lomborg, see this: &lt;a href=\"https://www.dr.dk/drtv/se/taet-paa-sandheden_-hockeystavens-hemmelighed_171271\"&gt;https://www.dr.dk/drtv/se/taet-paa-sandheden_-hockeystavens-hemmelighed_171271&lt;/a&gt;</td>\n",
       "      <td>0</td>\n",
       "      <td>If you want to know more about Bjørn Lomborg, see this:\\n\\n\\n</td>\n",
       "    </tr>\n",
       "    <tr>\n",
       "      <th>2</th>\n",
       "      <td>2020-08-23 02:42:21</td>\n",
       "      <td>SmpKnght</td>\n",
       "      <td>facts are lies or cherrypicked check for yourself, don&amp;#39;t believe propoganda and point without checking first.</td>\n",
       "      <td>0</td>\n",
       "      <td>facts are lies or cherrypicked check for yourself, don't believe propoganda\\nand point without checking first.\\n\\n</td>\n",
       "    </tr>\n",
       "    <tr>\n",
       "      <th>3</th>\n",
       "      <td>2020-08-16 22:23:38</td>\n",
       "      <td>L337M4573RK</td>\n",
       "      <td>Anyone ever notice that AOC has never once released her OWN Climate Change calculations to the public? We would certainly love to see how she &amp;quot;calculated&amp;quot; exactly how many years we have left to submit to HER plans, ideas, and beliefs before Climate Change &amp;quot;kills us all&amp;quot;!</td>\n",
       "      <td>0</td>\n",
       "      <td>Anyone ever notice that AOC has never once released her OWN Climate Change\\ncalculations to the public? We would certainly love to see how she\\n\"calculated\" exactly how many years we have left to submit to HER plans,\\nideas, and beliefs before Climate Change \"kills us all\"!\\n\\n</td>\n",
       "    </tr>\n",
       "    <tr>\n",
       "      <th>4</th>\n",
       "      <td>2020-07-03 13:48:27</td>\n",
       "      <td>Akiva Ziskind</td>\n",
       "      <td>From the speakers Wikipedia page: &amp;quot;After the publication of The Skeptical Environmentalist, Lomborg was formally accused of scientific dishonesty by a group of environmental scientists, who brought a total of three complaints against him to the Danish Committees on Scientific Dishonesty (DCSD), a body under Denmark&amp;#39;s Ministry of Science, Technology and Innovation (MSTI). Lomborg was asked whether he regarded the book as a &amp;quot;debate&amp;quot; publication, and thereby not under the purview of the DCSD, or as a scientific work; he chose the latter, clearing the way for the inquiry that followed.[37] The charges claimed that The Skeptical Environmentalist contained deliberately misleading data and flawed conclusions. Due to the similarity of the complaints, the DCSD decided to proceed on the three cases under one investigation.&amp;quot;</td>\n",
       "      <td>0</td>\n",
       "      <td>From the speakers Wikipedia page: \"After the publication of The Skeptical\\nEnvironmentalist, Lomborg was formally accused of scientific dishonesty by a\\ngroup of environmental scientists, who brought a total of three complaints\\nagainst him to the Danish Committees on Scientific Dishonesty (DCSD), a body\\nunder Denmark's Ministry of Science, Technology and Innovation (MSTI). Lomborg\\nwas asked whether he regarded the book as a \"debate\" publication, and thereby\\nnot under the purview of the DCSD, or as a scientific work; he chose the\\nlatter, clearing the way for the inquiry that followed.[37] The charges\\nclaimed that The Skeptical Environmentalist contained deliberately misleading\\ndata and flawed conclusions. Due to the similarity of the complaints, the DCSD\\ndecided to proceed on the three cases under one investigation.\"\\n\\n</td>\n",
       "    </tr>\n",
       "  </tbody>\n",
       "</table>\n",
       "</div>"
      ],
      "text/plain": [
       "           publishedAt     authorName  \\\n",
       "0  2020-10-28 17:16:11     AraAra1234   \n",
       "1  2020-10-03 21:38:38      Kuroi Ryū   \n",
       "2  2020-08-23 02:42:21       SmpKnght   \n",
       "3  2020-08-16 22:23:38    L337M4573RK   \n",
       "4  2020-07-03 13:48:27  Akiva Ziskind   \n",
       "\n",
       "                                                                                                                                                                                                                                                                                                                                                                                                                                                                                                                                                                                                                                                                                                                                                                                                                                                                                text  \\\n",
       "0                                                                                                                                                                                                                                                                                                                                                                                                                                                                                                                                                                                                                                                                                                                                                     The more I hear the &quot;97% of scientists...&quot; truism and the more I hear &quot;stop thinking and accept MY truth&quot;.   \n",
       "1                                                                                                                                                                                                                                                                                                                                                                                                                                                                                                                                                                                                                                                If you want to know more about Bjørn Lomborg, see this: <a href=\"https://www.dr.dk/drtv/se/taet-paa-sandheden_-hockeystavens-hemmelighed_171271\">https://www.dr.dk/drtv/se/taet-paa-sandheden_-hockeystavens-hemmelighed_171271</a>   \n",
       "2                                                                                                                                                                                                                                                                                                                                                                                                                                                                                                                                                                                                                                                                                                                                                                  facts are lies or cherrypicked check for yourself, don&#39;t believe propoganda and point without checking first.   \n",
       "3                                                                                                                                                                                                                                                                                                                                                                                                                                                                                                                                                                                Anyone ever notice that AOC has never once released her OWN Climate Change calculations to the public? We would certainly love to see how she &quot;calculated&quot; exactly how many years we have left to submit to HER plans, ideas, and beliefs before Climate Change &quot;kills us all&quot;!   \n",
       "4  From the speakers Wikipedia page: &quot;After the publication of The Skeptical Environmentalist, Lomborg was formally accused of scientific dishonesty by a group of environmental scientists, who brought a total of three complaints against him to the Danish Committees on Scientific Dishonesty (DCSD), a body under Denmark&#39;s Ministry of Science, Technology and Innovation (MSTI). Lomborg was asked whether he regarded the book as a &quot;debate&quot; publication, and thereby not under the purview of the DCSD, or as a scientific work; he chose the latter, clearing the way for the inquiry that followed.[37] The charges claimed that The Skeptical Environmentalist contained deliberately misleading data and flawed conclusions. Due to the similarity of the complaints, the DCSD decided to proceed on the three cases under one investigation.&quot;   \n",
       "\n",
       "   isReply  \\\n",
       "0        0   \n",
       "1        0   \n",
       "2        0   \n",
       "3        0   \n",
       "4        0   \n",
       "\n",
       "                                                                                                                                                                                                                                                                                                                                                                                                                                                                                                                                                                                                                                                                                                                                                                                                                                                                   cleaned  \n",
       "0                                                                                                                                                                                                                                                                                                                                                                                                                                                                                                                                                                                                                                                                                                                                                          The more I hear the \"97% of scientists...\" truism and the more I hear \"stop\\nthinking and accept MY truth\".\\n\\n  \n",
       "1                                                                                                                                                                                                                                                                                                                                                                                                                                                                                                                                                                                                                                                                                                                                                                                                            If you want to know more about Bjørn Lomborg, see this:\\n\\n\\n  \n",
       "2                                                                                                                                                                                                                                                                                                                                                                                                                                                                                                                                                                                                                                                                                                                                                       facts are lies or cherrypicked check for yourself, don't believe propoganda\\nand point without checking first.\\n\\n  \n",
       "3                                                                                                                                                                                                                                                                                                                                                                                                                                                                                                                                                                                   Anyone ever notice that AOC has never once released her OWN Climate Change\\ncalculations to the public? We would certainly love to see how she\\n\"calculated\" exactly how many years we have left to submit to HER plans,\\nideas, and beliefs before Climate Change \"kills us all\"!\\n\\n  \n",
       "4  From the speakers Wikipedia page: \"After the publication of The Skeptical\\nEnvironmentalist, Lomborg was formally accused of scientific dishonesty by a\\ngroup of environmental scientists, who brought a total of three complaints\\nagainst him to the Danish Committees on Scientific Dishonesty (DCSD), a body\\nunder Denmark's Ministry of Science, Technology and Innovation (MSTI). Lomborg\\nwas asked whether he regarded the book as a \"debate\" publication, and thereby\\nnot under the purview of the DCSD, or as a scientific work; he chose the\\nlatter, clearing the way for the inquiry that followed.[37] The charges\\nclaimed that The Skeptical Environmentalist contained deliberately misleading\\ndata and flawed conclusions. Due to the similarity of the complaints, the DCSD\\ndecided to proceed on the three cases under one investigation.\"\\n\\n  "
      ]
     },
     "execution_count": 12,
     "metadata": {},
     "output_type": "execute_result"
    }
   ],
   "source": [
    "if new_embeddings:\n",
    "  data.to_pickle(output_path+'data_preprocessed'+'.pkl')\n",
    "else:\n",
    "  data = pd.read_pickle(output_path+'data_preprocessed'+'.pkl')\n",
    "data.head()"
   ]
  },
  {
   "cell_type": "markdown",
   "metadata": {
    "id": "5YxXP5PtAFyV"
   },
   "source": [
    "# Produce Text Embeddings with Universal Sentence Encoder"
   ]
  },
  {
   "cell_type": "markdown",
   "metadata": {
    "id": "d_sStH0bXhFD"
   },
   "source": [
    "## Load Model\n",
    "Load the model from TF-hub"
   ]
  },
  {
   "cell_type": "code",
   "execution_count": 13,
   "metadata": {
    "id": "ugb89Xy7XdqR"
   },
   "outputs": [
    {
     "name": "stdout",
     "output_type": "stream",
     "text": [
      "Loading model. This will take some time...\n"
     ]
    }
   ],
   "source": [
    "hub_url = url_dict[model_type]\n",
    "if new_embeddings:\n",
    "  print(\"Loading model. This will take some time...\")\n",
    "  embed = hub.load(hub_url)"
   ]
  },
  {
   "cell_type": "markdown",
   "metadata": {},
   "source": [
    "## Embed Documents\n",
    "Produce embeddings of your documents."
   ]
  },
  {
   "cell_type": "code",
   "execution_count": 14,
   "metadata": {
    "id": "Yz3Qlca7YGEN"
   },
   "outputs": [
    {
     "name": "stdout",
     "output_type": "stream",
     "text": [
      "1 2 3 4 5 6 7 8 9 10 11 The embeddings vector is of fixed length 512\n"
     ]
    },
    {
     "data": {
      "text/plain": [
       "TensorShape([2292, 512])"
      ]
     },
     "execution_count": 14,
     "metadata": {},
     "output_type": "execute_result"
    }
   ],
   "source": [
    "if new_embeddings:\n",
    "    for k,g in data.groupby(np.arange(len(data))//200):\n",
    "        if k == 0:\n",
    "            embeddings = embed(g['cleaned'])\n",
    "        else:\n",
    "            embeddings_new = embed(g['cleaned'])\n",
    "            embeddings = tf.concat(values=[embeddings,embeddings_new],axis = 0)\n",
    "            print(k , end =\" \")\n",
    "    print(\"The embeddings vector is of fixed length {}\".format(embeddings.shape[1]))\n",
    "\n",
    "    np.save(output_path+'/embeddings'+model_type+'.npy', embeddings, allow_pickle=True, fix_imports=True)\n",
    "else:\n",
    "    embeddings = np.load(output_path+'/embeddings'+model_type+'.npy', mmap_mode=None, allow_pickle=False, fix_imports=True, encoding='ASCII')\n",
    "\n",
    "embeddings.shape"
   ]
  },
  {
   "cell_type": "markdown",
   "metadata": {
    "id": "oFTi_5lUAnJF"
   },
   "source": [
    "## Calculate Similarity Matrix with angular distance\n",
    "\n",
    "'Following Cer et al. (2018), we first compute\n",
    "the sentence embeddings u, v for an STS sentence\n",
    "pair, and then score the sentence pair similarity\n",
    "based on the angular distance between the two\n",
    "embedding vectors  d = − arccos (uv/||u|| ||v||\u0011).'"
   ]
  },
  {
   "cell_type": "code",
   "execution_count": 15,
   "metadata": {},
   "outputs": [
    {
     "name": "stdout",
     "output_type": "stream",
     "text": [
      "[[ 1.0000004   0.12323913  0.2378596  ...  0.11989266  0.05500869\n",
      "   0.02176671]\n",
      " [ 0.12323913  1.0000002   0.12112156 ... -0.00262079 -0.05647999\n",
      "  -0.00682868]\n",
      " [ 0.2378596   0.12112156  1.         ...  0.05590089  0.00904023\n",
      "   0.00141725]\n",
      " ...\n",
      " [ 0.11989266 -0.00262079  0.05590089 ...  1.0000001   0.07842678\n",
      "   0.06782357]\n",
      " [ 0.05500869 -0.05647999  0.00904023 ...  0.07842678  0.9999999\n",
      "   0.2949561 ]\n",
      " [ 0.02176671 -0.00682868  0.00141725 ...  0.06782357  0.2949561\n",
      "   1.        ]]\n"
     ]
    }
   ],
   "source": [
    "from sklearn.metrics.pairwise import cosine_similarity\n",
    "def cos_sim(input_vectors):\n",
    "    similarity = cosine_similarity(input_vectors)\n",
    "    return similarity\n",
    "cosine_similarity_matrix = cos_sim(np.array(embeddings))\n",
    "print(cosine_similarity_matrix)"
   ]
  },
  {
   "cell_type": "markdown",
   "metadata": {},
   "source": [
    "# Plots Similarity \n",
    "Plot and print a heat map showing the semantic contextual similarity between comments."
   ]
  },
  {
   "cell_type": "code",
   "execution_count": 16,
   "metadata": {},
   "outputs": [
    {
     "name": "stderr",
     "output_type": "stream",
     "text": [
      "/usr/local/lib/python3.8/site-packages/seaborn/matrix.py:311: UserWarning: Attempting to set identical left == right == 0 results in singular transformations; automatically expanding.\n",
      "  ax.set(xlim=(0, self.data.shape[1]), ylim=(0, self.data.shape[0]))\n",
      "/usr/local/lib/python3.8/site-packages/seaborn/matrix.py:311: UserWarning: Attempting to set identical bottom == top == 0 results in singular transformations; automatically expanding.\n",
      "  ax.set(xlim=(0, self.data.shape[1]), ylim=(0, self.data.shape[0]))\n"
     ]
    },
    {
     "data": {
      "image/png": "[encoded data removed]",
      "text/plain": [
       "<Figure size 432x288 with 2 Axes>"
      ]
     },
     "metadata": {},
     "output_type": "display_data"
    }
   ],
   "source": [
    "import seaborn as sns\n",
    "def plot_similarity(labels, features, rotation):\n",
    "  corr = np.inner(features, features)\n",
    "  sns.set(font_scale=1.2)\n",
    "  g = sns.heatmap(\n",
    "      corr,\n",
    "      xticklabels=labels,\n",
    "      yticklabels=labels,\n",
    "      vmin=0,\n",
    "      vmax=1,\n",
    "      cmap=\"YlOrRd\")\n",
    "  g.set_xticklabels(labels, rotation=rotation)\n",
    "  g.set_title(\"Semantic Textual Similarity\")\n",
    "\n",
    "num_samples = 5\n",
    "off_set = 10000\n",
    "\n",
    "plot_similarity(data.iloc[off_set:off_set+num_samples]['cleaned'], embeddings[off_set:off_set+num_samples], 90)"
   ]
  },
  {
   "cell_type": "markdown",
   "metadata": {},
   "source": [
    "# Show neighbours of a comment \n",
    "Define which comment to analyze"
   ]
  },
  {
   "cell_type": "code",
   "execution_count": 21,
   "metadata": {},
   "outputs": [
    {
     "name": "stdout",
     "output_type": "stream",
     "text": [
      "Everyone knows that the wooly mammoths and saber tooth tigers went extinct\n",
      "because they drove SUVs and ate cheeseburgers\n",
      "\n",
      "\n"
     ]
    }
   ],
   "source": [
    "comment_index = 1537\n",
    "comment = data[\"cleaned\"][comment_index]\n",
    "comment_list = data[\"cleaned\"].tolist()\n",
    "print(comment)"
   ]
  },
  {
   "cell_type": "markdown",
   "metadata": {},
   "source": [
    "Print similar comments."
   ]
  },
  {
   "cell_type": "code",
   "execution_count": 22,
   "metadata": {},
   "outputs": [
    {
     "name": "stdout",
     "output_type": "stream",
     "text": [
      "Top similar comment 1: Everyone knows that the wooly mammoths and saber tooth tigers went extinct\n",
      "because they drove SUVs and ate cheeseburgers\n",
      "\n",
      "\n",
      "Top similar comment 2: Mammoths went extinct because the earths climate stabilized after the ice age\n",
      "and warmed to a steady climate. Also over hunting killed them too.\n",
      "Sabertooth’s died off from starvation(they eat big and a lot)\n",
      "\n",
      "\n",
      "Top similar comment 3: Meanwhile, the Wooly Rhinos went extinct because they were asking too many\n",
      "questions.\n",
      "\n",
      "\n",
      "Top similar comment 4: And polar bears ate all gooslings XD\n",
      "\n",
      "\n",
      "Top similar comment 5: Guys, when a single volcanic eruption can throw more CO2 up into the\n",
      "atmosphere than humans do in a year, I don’t think we’re the problem.  \n",
      "  \n",
      "  \n",
      "  \n",
      "  \n",
      "Creatures like dinosaurs and wooly mammoths obviously just went extinct\n",
      "because they were driving too many cars.\n",
      "\n",
      "\n",
      "Top similar comment 6: Steve E No, extinction was due to woolly mammoth farts. The worst since T Rex\n",
      "destroyed the dinosaurs with its ripsnorters.\n",
      "\n",
      "\n",
      "Top similar comment 7: Yep, because the polar bears are all dead and the ice caps have melted just\n",
      "like Al Gore said they would. Oh wait...no they didn't. OOPS.\n",
      "\n",
      "\n",
      "Top similar comment 8: fact check: there were no SUVs at that time! Boom!\n",
      "\n",
      "\n",
      "Top similar comment 9: Humans killed the dinosaurs with the use of fossil fuels\n",
      "\n",
      "\n",
      "Top similar comment 10: @R V Dinosaur farts, nothing like cow farts. Cavemen didn't yet have the\n",
      "concept of taxing them.\n",
      "\n",
      "\n"
     ]
    }
   ],
   "source": [
    "def get_top_similar(sentence, sentence_list, similarity_matrix, topN):\n",
    "    # find the index of sentence in list\n",
    "    index = sentence_list.index(sentence)\n",
    "    # get the corresponding row in similarity matrix\n",
    "    similarity_row = np.array(similarity_matrix[index, :])\n",
    "    # get the indices of top similar\n",
    "    indices = similarity_row.argsort()[-topN:][::-1]\n",
    "    return [sentence_list[i] for i in indices]\n",
    "\n",
    "\n",
    "for i, value in enumerate(get_top_similar(comment, comment_list, cosine_similarity_matrix, 10)):\n",
    "  print(\"Top similar comment {}: {}\".format(i+1, value))"
   ]
  },
  {
   "cell_type": "code",
   "execution_count": null,
   "metadata": {},
   "outputs": [],
   "source": []
  }
 ],
 "metadata": {
  "colab": {
   "collapsed_sections": [],
   "name": "USE_Experiments_new.ipynb",
   "provenance": [],
   "toc_visible": true
  },
  "kernelspec": {
   "display_name": "Python 3",
   "language": "python",
   "name": "python3"
  },
  "language_info": {
   "codemirror_mode": {
    "name": "ipython",
    "version": 3
   },
   "file_extension": ".py",
   "mimetype": "text/x-python",
   "name": "python",
   "nbconvert_exporter": "python",
   "pygments_lexer": "ipython3",
   "version": "3.8.6"
  }
 },
 "nbformat": 4,
 "nbformat_minor": 4
}
