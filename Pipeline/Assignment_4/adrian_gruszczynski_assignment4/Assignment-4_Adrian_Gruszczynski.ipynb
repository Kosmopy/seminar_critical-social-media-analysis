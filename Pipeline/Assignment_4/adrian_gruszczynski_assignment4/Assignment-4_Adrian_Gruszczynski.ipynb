{
 "cells": [
  {
   "cell_type": "markdown",
   "metadata": {
    "id": "iFXsrSxJlzCW"
   },
   "source": [
    "#Introduction\n",
    "\n",
    ".....\n"
   ]
  },
  {
   "cell_type": "markdown",
   "metadata": {},
   "source": [
    "Check to see if jupyter lab uses the correct python interpreter with '!which python'.\n",
    "It should be something like '/opt/anaconda3/envs/[environment name]/bin/python' (on Mac).\n",
    "If not, try this: https://github.com/jupyter/notebook/issues/3146#issuecomment-352718675"
   ]
  },
  {
   "cell_type": "code",
   "execution_count": 1,
   "metadata": {},
   "outputs": [
    {
     "name": "stdout",
     "output_type": "stream",
     "text": [
      "/Users/adrian/Repos/seminar_critical-social-media-analysis/adrian_gruszczynski_assignment4/venv/bin/python\r\n"
     ]
    }
   ],
   "source": [
    "!which python"
   ]
  },
  {
   "cell_type": "markdown",
   "metadata": {},
   "source": [
    "# Install dependencies:"
   ]
  },
  {
   "cell_type": "code",
   "execution_count": null,
   "metadata": {
    "colab": {
     "base_uri": "https://localhost:8080/"
    },
    "id": "H0q7BTlbiCWW",
    "outputId": "32ddd123-4834-4913-f942-038e830d9276"
   },
   "outputs": [],
   "source": [
    "!pip3 install tensorflow==2\n",
    "!pip3 install anaconda pandas\n",
    "!pip3 install tensorflow-hub\n",
    "!pip3 install html2text\n",
    "!pip3 install tqdm\n",
    "!pip3 install scikit-learn\n",
    "!pip3 install matplotlib\n",
    "!pip3 install seaborn"
   ]
  },
  {
   "cell_type": "markdown",
   "metadata": {},
   "source": [
    "# Imports"
   ]
  },
  {
   "cell_type": "code",
   "execution_count": 2,
   "metadata": {
    "id": "xD4HKjy9TC-g"
   },
   "outputs": [],
   "source": [
    "#imports\n",
    "import pandas as pd\n",
    "import numpy as np\n",
    "import os\n",
    "import time\n",
    "import tensorflow as tf\n",
    "import tensorflow_hub as hub\n",
    "import zipfile\n",
    "from html2text import HTML2Text\n",
    "from tqdm import tqdm\n",
    "import re\n",
    "from sklearn.metrics import pairwise_distances\n",
    "from sklearn.preprocessing import normalize\n",
    "import matplotlib.pyplot as plt\n",
    "import seaborn as sns"
   ]
  },
  {
   "cell_type": "markdown",
   "metadata": {},
   "source": [
    "# Set pandas print options\n",
    "This will improve readability of printed pandas dataframe.\n"
   ]
  },
  {
   "cell_type": "code",
   "execution_count": 3,
   "metadata": {
    "id": "SEH28FctS6SP"
   },
   "outputs": [],
   "source": [
    "pd.set_option('display.max_rows', None)\n",
    "pd.set_option('display.max_columns', None)\n",
    "pd.set_option('display.width', None)\n",
    "pd.set_option('display.max_colwidth', None)"
   ]
  },
  {
   "cell_type": "markdown",
   "metadata": {},
   "source": [
    "## Set global Parameters\n",
    "Set your parameters here:\n",
    "\n",
    "data_path: In this path put the data you have downloaded with YouTube Data Tools. \n",
    "output_path: Tghe files generated in this notebook will be saved here.\n",
    "\n",
    "url_dict: URLs to models on Tensorflow hub are saved here. Other models are available there.\n",
    "model_type: Define which model you would like to use. Choose one from url_dict\n",
    "\n",
    "new_embeddings: If this is true, new embeddings will be generated and saved at output_path. Otherwise, embeddings are loaded from Disc.\n",
    "\n",
    "\n"
   ]
  },
  {
   "cell_type": "code",
   "execution_count": 20,
   "metadata": {
    "id": "TL7Rvq_TD086"
   },
   "outputs": [],
   "source": [
    "data_path = './data/videoinfo_DkZ7BJQupVA_2020_11_21-11_04_37_comments.tab'\n",
    "output_path = \"./output/\"\n",
    "\n",
    "new_embeddings = True\n",
    "\n",
    "url_dict = {\n",
    "            'Transformer' : \"https://tfhub.dev/google/universal-sentence-encoder-large/5\",\n",
    "            'DAN' : \"https://tfhub.dev/google/universal-sentence-encoder/4\",\n",
    "            'Transformer_Multilingual': \"https://tfhub.dev/google/universal-sentence-encoder-multilingual-large/3\"\n",
    "}\n",
    "\n",
    "model_type = 'Transformer' #@param ['DAN','Transformer','Transformer_Multilingual']"
   ]
  },
  {
   "cell_type": "markdown",
   "metadata": {},
   "source": [
    "## Create output directory\n",
    "Try to create the directory defined by output_path"
   ]
  },
  {
   "cell_type": "code",
   "execution_count": 21,
   "metadata": {
    "colab": {
     "base_uri": "https://localhost:8080/"
    },
    "id": "NuvhsxjlZFhu",
    "outputId": "436a89b3-9ae8-4f74-f236-4a3f55b64d6d"
   },
   "outputs": [
    {
     "name": "stdout",
     "output_type": "stream",
     "text": [
      "Successfully created the directory ./output/ \n"
     ]
    }
   ],
   "source": [
    "try:\n",
    "   os.mkdir(output_path)\n",
    "except OSError:\n",
    "  print (\"Creation of the directory %s failed\" % output_path)\n",
    "else:\n",
    "  print (\"Successfully created the directory %s \" % output_path)\n"
   ]
  },
  {
   "cell_type": "markdown",
   "metadata": {
    "id": "VO9QOLP_9DxJ"
   },
   "source": [
    "# Load Data\n",
    "Load you data as a pandas dataframe"
   ]
  },
  {
   "cell_type": "code",
   "execution_count": 22,
   "metadata": {},
   "outputs": [],
   "source": [
    "if new_embeddings:\n",
    "    data = pd.read_csv(data_path,sep='\\t',header=(0))\n",
    "    data.head()"
   ]
  },
  {
   "cell_type": "markdown",
   "metadata": {
    "id": "_IUWISh1M5nz"
   },
   "source": [
    "# Preprocessing\n",
    "Preprocess your data:\n",
    "- Drop empty rows\n",
    "- Drop unused columns"
   ]
  },
  {
   "cell_type": "code",
   "execution_count": 23,
   "metadata": {
    "id": "gbU3mk83MBIH"
   },
   "outputs": [],
   "source": [
    "if new_embeddings:\n",
    "    data = data.dropna(subset=['text', 'authorName']) # drop rows with no content\n",
    "    data=data.drop(['id', 'replyCount','likeCount','authorChannelUrl','authorChannelId','isReplyTo','isReplyToName'],axis=1) # drop unused columns\n",
    "    data.head()"
   ]
  },
  {
   "cell_type": "markdown",
   "metadata": {},
   "source": [
    "- remove HTML-tags, links and usernames"
   ]
  },
  {
   "cell_type": "code",
   "execution_count": 24,
   "metadata": {
    "id": "vIgxEvzcM39J"
   },
   "outputs": [
    {
     "name": "stderr",
     "output_type": "stream",
     "text": [
      "/Users/adrian/Repos/seminar_critical-social-media-analysis/adrian_gruszczynski_assignment4/venv/lib/python3.7/site-packages/tqdm/std.py:699: FutureWarning: The Panel class is removed from pandas. Accessing it from the top-level namespace will also be removed in the next version\n",
      "  from pandas import Panel\n",
      "100%|██████████| 6118/6118 [00:00<00:00, 6636.08it/s]\n"
     ]
    },
    {
     "name": "stdout",
     "output_type": "stream",
     "text": [
      "Removed HTML Tags.\n",
      "Removed Links.\n",
      "Removed user names.\n"
     ]
    }
   ],
   "source": [
    "if new_embeddings:\n",
    "    # Remove HTML tags\n",
    "    tqdm.pandas()\n",
    "    h = HTML2Text()\n",
    "    h.ignore_links = True\n",
    "    data['cleaned'] = data['text'].progress_apply(lambda x: h.handle(x))\n",
    "    print( \"Removed HTML Tags.\")\n",
    "\n",
    "    # Remove links\n",
    "    http_link_pattern = r'http\\S+'\n",
    "    bitly_link_pattern = r'bit.ly/\\S+'\n",
    "    data['cleaned'] = data['cleaned'].str.replace(http_link_pattern, '')\n",
    "    data['cleaned'] = data['cleaned'].str.replace(bitly_link_pattern, '')\n",
    "    print( \"Removed Links.\")\n",
    "\n",
    "    # Remove user names\n",
    "    keep_names = [\"earth\", \"Tide\", \"Geologist\", \"A Person\", \"Titanic\", \"adventure\", \"Sun\", \"The United States Of America\"] # user names we want to keep\n",
    "    user_names = [name for name in data['authorName'].unique() if (len(name)> 3 and name not in keep_names)]\n",
    "    data['cleaned'] = data['cleaned'].str.replace('|'.join(map(re.escape, user_names)), '')\n",
    "    print( \"Removed user names.\")"
   ]
  },
  {
   "cell_type": "markdown",
   "metadata": {},
   "source": [
    "# Save or Load preprocessed data\n",
    "\n",
    "Save your data afte preprocessing, or load preprocessed data from disc."
   ]
  },
  {
   "cell_type": "code",
   "execution_count": 25,
   "metadata": {
    "colab": {
     "base_uri": "https://localhost:8080/"
    },
    "id": "W0uP3D5IXvyT",
    "outputId": "ce705b12-d180-438e-8bb7-86a5dfffbdcf"
   },
   "outputs": [
    {
     "data": {
      "text/html": [
       "<div>\n",
       "<style scoped>\n",
       "    .dataframe tbody tr th:only-of-type {\n",
       "        vertical-align: middle;\n",
       "    }\n",
       "\n",
       "    .dataframe tbody tr th {\n",
       "        vertical-align: top;\n",
       "    }\n",
       "\n",
       "    .dataframe thead th {\n",
       "        text-align: right;\n",
       "    }\n",
       "</style>\n",
       "<table border=\"1\" class=\"dataframe\">\n",
       "  <thead>\n",
       "    <tr style=\"text-align: right;\">\n",
       "      <th></th>\n",
       "      <th>publishedAt</th>\n",
       "      <th>authorName</th>\n",
       "      <th>text</th>\n",
       "      <th>isReply</th>\n",
       "      <th>cleaned</th>\n",
       "    </tr>\n",
       "  </thead>\n",
       "  <tbody>\n",
       "    <tr>\n",
       "      <th>0</th>\n",
       "      <td>2020-11-19 15:14:54</td>\n",
       "      <td>Joshua Benito</td>\n",
       "      <td>&lt;a href=\"https://www.youtube.com/watch?v=DkZ7BJQupVA&amp;amp;t=3m46s\"&gt;3:46&lt;/a&gt; Yeap! Just like you white folks do when you see a POC in your neighborhood. 😒</td>\n",
       "      <td>0</td>\n",
       "      <td>3:46 Yeap! Just like you white folks do when you see a POC in your\\nneighborhood. 😒\\n\\n</td>\n",
       "    </tr>\n",
       "    <tr>\n",
       "      <th>1</th>\n",
       "      <td>2020-11-19 10:13:49</td>\n",
       "      <td>Shauna McConnoran</td>\n",
       "      <td>in ireland most of us dont have dishwashers or thumbledryers.&lt;br /&gt;theyre not needed</td>\n",
       "      <td>0</td>\n",
       "      <td>in ireland most of us dont have dishwashers or thumbledryers.  \\ntheyre not needed\\n\\n</td>\n",
       "    </tr>\n",
       "    <tr>\n",
       "      <th>2</th>\n",
       "      <td>2020-11-19 10:16:31</td>\n",
       "      <td>Shauna McConnoran</td>\n",
       "      <td>my family doesnt even have a car</td>\n",
       "      <td>1</td>\n",
       "      <td>my family doesnt even have a car\\n\\n</td>\n",
       "    </tr>\n",
       "    <tr>\n",
       "      <th>3</th>\n",
       "      <td>2020-11-18 13:33:22</td>\n",
       "      <td>Iva Zadro</td>\n",
       "      <td>Such a great video!</td>\n",
       "      <td>0</td>\n",
       "      <td>Such a great video!\\n\\n</td>\n",
       "    </tr>\n",
       "    <tr>\n",
       "      <th>4</th>\n",
       "      <td>2020-11-18 08:31:05</td>\n",
       "      <td>Justin Y.</td>\n",
       "      <td>&amp;quot;Yeh if its black we would have deal with it long ago&amp;quot; I see What you did there.</td>\n",
       "      <td>0</td>\n",
       "      <td>\"Yeh if its black we would have deal with it long ago\" I see What you did\\nthere.\\n\\n</td>\n",
       "    </tr>\n",
       "  </tbody>\n",
       "</table>\n",
       "</div>"
      ],
      "text/plain": [
       "           publishedAt         authorName  \\\n",
       "0  2020-11-19 15:14:54      Joshua Benito   \n",
       "1  2020-11-19 10:13:49  Shauna McConnoran   \n",
       "2  2020-11-19 10:16:31  Shauna McConnoran   \n",
       "3  2020-11-18 13:33:22          Iva Zadro   \n",
       "4  2020-11-18 08:31:05          Justin Y.   \n",
       "\n",
       "                                                                                                                                                       text  \\\n",
       "0  <a href=\"https://www.youtube.com/watch?v=DkZ7BJQupVA&amp;t=3m46s\">3:46</a> Yeap! Just like you white folks do when you see a POC in your neighborhood. 😒   \n",
       "1                                                                      in ireland most of us dont have dishwashers or thumbledryers.<br />theyre not needed   \n",
       "2                                                                                                                          my family doesnt even have a car   \n",
       "3                                                                                                                                       Such a great video!   \n",
       "4                                                                &quot;Yeh if its black we would have deal with it long ago&quot; I see What you did there.   \n",
       "\n",
       "   isReply  \\\n",
       "0        0   \n",
       "1        0   \n",
       "2        1   \n",
       "3        0   \n",
       "4        0   \n",
       "\n",
       "                                                                                   cleaned  \n",
       "0  3:46 Yeap! Just like you white folks do when you see a POC in your\\nneighborhood. 😒\\n\\n  \n",
       "1   in ireland most of us dont have dishwashers or thumbledryers.  \\ntheyre not needed\\n\\n  \n",
       "2                                                     my family doesnt even have a car\\n\\n  \n",
       "3                                                                  Such a great video!\\n\\n  \n",
       "4    \"Yeh if its black we would have deal with it long ago\" I see What you did\\nthere.\\n\\n  "
      ]
     },
     "execution_count": 25,
     "metadata": {},
     "output_type": "execute_result"
    }
   ],
   "source": [
    "if new_embeddings:\n",
    "  data.to_pickle(output_path+'data_preprocessed'+'.pkl')\n",
    "else:\n",
    "  data = pd.read_pickle(output_path+'data_preprocessed'+'.pkl')\n",
    "data.head()"
   ]
  },
  {
   "cell_type": "markdown",
   "metadata": {
    "id": "5YxXP5PtAFyV"
   },
   "source": [
    "# Produce Text Embeddings with Universal Sentence Encoder"
   ]
  },
  {
   "cell_type": "markdown",
   "metadata": {
    "id": "d_sStH0bXhFD"
   },
   "source": [
    "## Load Model\n",
    "Load the model from TF-hub"
   ]
  },
  {
   "cell_type": "code",
   "execution_count": 26,
   "metadata": {
    "id": "ugb89Xy7XdqR"
   },
   "outputs": [
    {
     "name": "stdout",
     "output_type": "stream",
     "text": [
      "Loading model. This will take some time...\n"
     ]
    }
   ],
   "source": [
    "hub_url = url_dict[model_type]\n",
    "if new_embeddings:\n",
    "  print(\"Loading model. This will take some time...\")\n",
    "  embed = hub.load(hub_url)"
   ]
  },
  {
   "cell_type": "markdown",
   "metadata": {},
   "source": [
    "## Embed Documents\n",
    "Produce embeddings of your documents."
   ]
  },
  {
   "cell_type": "code",
   "execution_count": 27,
   "metadata": {
    "id": "Yz3Qlca7YGEN"
   },
   "outputs": [
    {
     "name": "stdout",
     "output_type": "stream",
     "text": [
      "1 2 3 4 5 6 7 8 9 10 11 12 13 14 15 16 17 18 19 20 21 22 23 24 25 26 27 28 29 30 The embeddings vector is of fixed length 512\n"
     ]
    },
    {
     "data": {
      "text/plain": [
       "TensorShape([6118, 512])"
      ]
     },
     "execution_count": 27,
     "metadata": {},
     "output_type": "execute_result"
    }
   ],
   "source": [
    "if new_embeddings:\n",
    "    for k,g in data.groupby(np.arange(len(data))//200):\n",
    "        if k == 0:\n",
    "            embeddings = embed(g['cleaned'])\n",
    "        else:\n",
    "            embeddings_new = embed(g['cleaned'])\n",
    "            embeddings = tf.concat(values=[embeddings,embeddings_new],axis = 0)\n",
    "            print(k , end =\" \")\n",
    "    print(\"The embeddings vector is of fixed length {}\".format(embeddings.shape[1]))\n",
    "\n",
    "    np.save(output_path+'/embeddings'+model_type+'.npy', embeddings, allow_pickle=True, fix_imports=True)\n",
    "else:\n",
    "    embeddings = np.load(output_path+'/embeddings'+model_type+'.npy', mmap_mode=None, allow_pickle=False, fix_imports=True, encoding='ASCII')\n",
    "\n",
    "embeddings.shape"
   ]
  },
  {
   "cell_type": "markdown",
   "metadata": {
    "id": "oFTi_5lUAnJF"
   },
   "source": [
    "## Calculate Similarity Matrix with angular distance\n",
    "\n",
    "'Following Cer et al. (2018), we first compute\n",
    "the sentence embeddings u, v for an STS sentence\n",
    "pair, and then score the sentence pair similarity\n",
    "based on the angular distance between the two\n",
    "embedding vectors  d = − arccos (uv/||u|| ||v||\u0011).'"
   ]
  },
  {
   "cell_type": "code",
   "execution_count": 28,
   "metadata": {},
   "outputs": [
    {
     "name": "stdout",
     "output_type": "stream",
     "text": [
      "[[ 0.9999999   0.13952315  0.08261704 ...  0.00992764 -0.05061378\n",
      "   0.00992765]\n",
      " [ 0.13952315  1.0000001   0.30842233 ...  0.05084531  0.1589114\n",
      "   0.05084532]\n",
      " [ 0.08261704  0.30842233  0.99999994 ...  0.03506356  0.05926912\n",
      "   0.0350636 ]\n",
      " ...\n",
      " [ 0.00992764  0.05084531  0.03506356 ...  1.          0.27492604\n",
      "   1.        ]\n",
      " [-0.05061378  0.1589114   0.05926912 ...  0.27492604  0.99999994\n",
      "   0.27492598]\n",
      " [ 0.00992765  0.05084532  0.0350636  ...  1.          0.27492598\n",
      "   1.0000001 ]]\n"
     ]
    }
   ],
   "source": [
    "from sklearn.metrics.pairwise import cosine_similarity\n",
    "def cos_sim(input_vectors):\n",
    "    similarity = cosine_similarity(input_vectors)\n",
    "    return similarity\n",
    "cosine_similarity_matrix = cos_sim(np.array(embeddings))\n",
    "print(cosine_similarity_matrix)"
   ]
  },
  {
   "cell_type": "markdown",
   "metadata": {},
   "source": [
    "# Plots Similarity \n",
    "Plot and print a heat map showing the semantic contextual similarity between comments."
   ]
  },
  {
   "cell_type": "code",
   "execution_count": 35,
   "metadata": {},
   "outputs": [
    {
     "data": {
      "image/png": "[encoded data removed]",
      "text/plain": [
       "<Figure size 432x288 with 2 Axes>"
      ]
     },
     "metadata": {},
     "output_type": "display_data"
    }
   ],
   "source": [
    "import seaborn as sns\n",
    "def plot_similarity(labels, features, rotation):\n",
    "  corr = np.inner(features, features)\n",
    "  sns.set(font_scale=1.2)\n",
    "  g = sns.heatmap(\n",
    "      corr,\n",
    "      xticklabels=labels,\n",
    "      yticklabels=labels,\n",
    "      vmin=0,\n",
    "      vmax=1,\n",
    "      cmap=\"YlOrRd\")\n",
    "  g.set_xticklabels(labels, rotation=rotation)\n",
    "  g.set_title(\"Semantic Textual Similarity\")\n",
    "\n",
    "num_samples = 5\n",
    "off_set = 10000\n",
    "\n",
    "plot_similarity(data.iloc[off_set:off_set+num_samples]['cleaned'], embeddings[off_set:off_set+num_samples], 90)"
   ]
  },
  {
   "cell_type": "markdown",
   "metadata": {},
   "source": [
    "# Show neighbours of a comment \n",
    "Define which comment to analyze"
   ]
  },
  {
   "cell_type": "code",
   "execution_count": 30,
   "metadata": {},
   "outputs": [
    {
     "name": "stdout",
     "output_type": "stream",
     "text": [
      "dont worry covid 19 is fixing it\n",
      "\n",
      "\n"
     ]
    }
   ],
   "source": [
    "comment_index = 324\n",
    "comment = data[\"cleaned\"][comment_index]\n",
    "comment_list = data[\"cleaned\"].tolist()\n",
    "print(comment)"
   ]
  },
  {
   "cell_type": "markdown",
   "metadata": {},
   "source": [
    "Print similar comments."
   ]
  },
  {
   "cell_type": "code",
   "execution_count": 31,
   "metadata": {},
   "outputs": [
    {
     "name": "stdout",
     "output_type": "stream",
     "text": [
      "Top similar comment 1: dont worry covid 19 is fixing it\n",
      "\n",
      "\n",
      "Top similar comment 2:  covid solved climate change\n",
      "\n",
      "\n",
      "Top similar comment 3: Its gonna be too late before you can fix it.\n",
      "\n",
      "\n",
      "Top similar comment 4: Quick fix, everyone go vegan\n",
      "\n",
      "\n",
      "Top similar comment 5: We should talk about fixing it.\n",
      "\n",
      "\n",
      "Top similar comment 6: Well if we can't fix it we shall evolve!\n",
      "\n",
      "\n",
      "Top similar comment 7: Scientists are actually trying to fix it it's cool look it up it's\n",
      "interesting.\n",
      "\n",
      "\n",
      "Top similar comment 8: @ Dont blame others\n",
      "\n",
      "\n",
      "Top similar comment 9: there is a quick fix, it's called government\n",
      "\n",
      "\n",
      "Top similar comment 10: honestly im worried for that dude's future\n",
      "\n",
      "\n",
      "Top similar comment 11: people like you are not helping to solve the problem\n",
      "\n",
      "\n",
      "Top similar comment 12: God damnit XD\n",
      "\n",
      "\n",
      "Top similar comment 13: ty I see a big issue now!\n",
      "\n",
      "\n",
      "Top similar comment 14: I got an idea! Let's blame the Republicans!\n",
      "\n",
      "\n",
      "Top similar comment 15: Yay the world is gonna die.\n",
      "\n",
      "\n",
      "Top similar comment 16: \"Tal\" is NOT doing a damn thing. We're screwed already.\n",
      "\n",
      "\n",
      "Top similar comment 17: It's upsetting we can barely do anything about it\n",
      "\n",
      "\n",
      "Top similar comment 18: 7:03-7:15 hear that introverts\n",
      "\n",
      "\n",
      "Top similar comment 19: désolé WE will kill Earth.\n",
      "\n",
      "\n",
      "Top similar comment 20: Yall gonna start adapting soon\n",
      "\n",
      "\n"
     ]
    }
   ],
   "source": [
    "def get_top_similar(sentence, sentence_list, similarity_matrix, topN):\n",
    "    # find the index of sentence in list\n",
    "    index = sentence_list.index(sentence)\n",
    "    # get the corresponding row in similarity matrix\n",
    "    similarity_row = np.array(similarity_matrix[index, :])\n",
    "    # get the indices of top similar\n",
    "    indices = similarity_row.argsort()[-topN:][::-1]\n",
    "    return [sentence_list[i] for i in indices]\n",
    "\n",
    "\n",
    "for i, value in enumerate(get_top_similar(comment, comment_list, cosine_similarity_matrix, 20)):\n",
    "  print(\"Top similar comment {}: {}\".format(i+1, value))"
   ]
  }
 ],
 "metadata": {
  "colab": {
   "collapsed_sections": [],
   "name": "USE_Experiments_new.ipynb",
   "provenance": [],
   "toc_visible": true
  },
  "kernelspec": {
   "display_name": "venv",
   "language": "python",
   "name": "venv"
  },
  "language_info": {
   "codemirror_mode": {
    "name": "ipython",
    "version": 3
   },
   "file_extension": ".py",
   "mimetype": "text/x-python",
   "name": "python",
   "nbconvert_exporter": "python",
   "pygments_lexer": "ipython3",
   "version": "3.7.6"
  }
 },
 "nbformat": 4,
 "nbformat_minor": 4
}
